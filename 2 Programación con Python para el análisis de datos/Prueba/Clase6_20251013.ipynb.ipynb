{
 "cells": [
  {
   "cell_type": "markdown",
   "metadata": {
    "id": "cApiDFJAu3pF"
   },
   "source": [
    "# Consultas previas"
   ]
  },
  {
   "cell_type": "markdown",
   "metadata": {
    "id": "DmbkPLn7y7aU"
   },
   "source": [
    "## Separación de columnas con rango"
   ]
  },
  {
   "cell_type": "markdown",
   "metadata": {
    "id": "fX7lZf-su7eF"
   },
   "source": [
    "En muchas situaciones reales, la información puede venir condensada en una sola columna en forma de rangos, como \"Precio Mínimo - Precio Máximo\" por servicio. Para analizar estos datos de forma efectiva, es necesario separar esta columna en dos nuevas: una para el valor mínimo y otra para el máximo.\n",
    "\n",
    "Imaginemos que estamos analizando los precios cobrados por servicios de asesoría freelance publicados en línea. Los rangos pueden aparecer así:\n",
    "\n",
    "    \"200-350\"\n",
    "\n",
    "    \"180-300\"\n",
    "\n",
    "    \"150-250\"\n",
    "\n",
    "Para realizar análisis estadísticos útiles (como promedios o visualizaciones), necesitamos extraer ambos extremos del rango y convertirlos en columnas independientes.\n",
    "\n",
    "La función apply() de Pandas permite aplicar una función personalizada a cada fila o elemento de una columna. Es una herramienta muy flexible y poderosa para transformar datos.\n",
    "\n",
    "En este caso, queremos aplicar una función que reciba cada cadena con un rango de precios, la divida en dos partes y las convierta en números separados para luego almacenarlos en nuevas columnas.\n",
    "\n",
    "\n",
    "Primero, construimos un DataFrame simulado con precios por hora en formato de rango:"
   ]
  },
  {
   "cell_type": "code",
   "execution_count": 7,
   "metadata": {
    "colab": {
     "base_uri": "https://localhost:8080/",
     "height": 363
    },
    "executionInfo": {
     "elapsed": 108,
     "status": "ok",
     "timestamp": 1749782352792,
     "user": {
      "displayName": "Eliecer Peña",
      "userId": "02602848399439478733"
     },
     "user_tz": 240
    },
    "id": "_gzPTQy3u6p3",
    "outputId": "8dffc08d-f1a4-461b-b0eb-52514f5bf366"
   },
   "outputs": [
    {
     "data": {
      "text/html": [
       "<div>\n",
       "<style scoped>\n",
       "    .dataframe tbody tr th:only-of-type {\n",
       "        vertical-align: middle;\n",
       "    }\n",
       "\n",
       "    .dataframe tbody tr th {\n",
       "        vertical-align: top;\n",
       "    }\n",
       "\n",
       "    .dataframe thead th {\n",
       "        text-align: right;\n",
       "    }\n",
       "</style>\n",
       "<table border=\"1\" class=\"dataframe\">\n",
       "  <thead>\n",
       "    <tr style=\"text-align: right;\">\n",
       "      <th></th>\n",
       "      <th>Rango Precio por Hora</th>\n",
       "    </tr>\n",
       "  </thead>\n",
       "  <tbody>\n",
       "    <tr>\n",
       "      <th>0</th>\n",
       "      <td>200-350</td>\n",
       "    </tr>\n",
       "    <tr>\n",
       "      <th>1</th>\n",
       "      <td>180-300</td>\n",
       "    </tr>\n",
       "    <tr>\n",
       "      <th>2</th>\n",
       "      <td>150-250</td>\n",
       "    </tr>\n",
       "    <tr>\n",
       "      <th>3</th>\n",
       "      <td>220-400</td>\n",
       "    </tr>\n",
       "    <tr>\n",
       "      <th>4</th>\n",
       "      <td>170-310</td>\n",
       "    </tr>\n",
       "    <tr>\n",
       "      <th>5</th>\n",
       "      <td>160-290</td>\n",
       "    </tr>\n",
       "    <tr>\n",
       "      <th>6</th>\n",
       "      <td>190-340</td>\n",
       "    </tr>\n",
       "    <tr>\n",
       "      <th>7</th>\n",
       "      <td>210-360</td>\n",
       "    </tr>\n",
       "    <tr>\n",
       "      <th>8</th>\n",
       "      <td>175-305</td>\n",
       "    </tr>\n",
       "    <tr>\n",
       "      <th>9</th>\n",
       "      <td>165-280</td>\n",
       "    </tr>\n",
       "  </tbody>\n",
       "</table>\n",
       "</div>"
      ],
      "text/plain": [
       "  Rango Precio por Hora\n",
       "0               200-350\n",
       "1               180-300\n",
       "2               150-250\n",
       "3               220-400\n",
       "4               170-310\n",
       "5               160-290\n",
       "6               190-340\n",
       "7               210-360\n",
       "8               175-305\n",
       "9               165-280"
      ]
     },
     "execution_count": 7,
     "metadata": {},
     "output_type": "execute_result"
    }
   ],
   "source": [
    "import pandas as pd\n",
    "\n",
    "# Datos simulados: precios por hora de servicios profesionales\n",
    "datos = {\n",
    "    'Rango Precio por Hora': [\n",
    "        '200-350', '180-300', '150-250', '220-400',\n",
    "        '170-310', '160-290', '190-340', '210-360',\n",
    "        '175-305', '165-280'\n",
    "    ]\n",
    "}\n",
    "\n",
    "dfp = pd.DataFrame(datos)\n",
    "dfp\n"
   ]
  },
  {
   "cell_type": "markdown",
   "metadata": {
    "id": "56SeXXnRwOUk"
   },
   "source": [
    "### El método `.split()`\n",
    "\n",
    "En Python, el método `.split()` se utiliza para **dividir cadenas de texto** en partes, usando un carácter como separador. Esto es muy útil cuando una columna contiene datos combinados, como rangos, nombres completos o formatos estructurados.\n"
   ]
  },
  {
   "cell_type": "code",
   "execution_count": 8,
   "metadata": {
    "colab": {
     "base_uri": "https://localhost:8080/"
    },
    "executionInfo": {
     "elapsed": 22,
     "status": "ok",
     "timestamp": 1749775889825,
     "user": {
      "displayName": "Eliecer Peña",
      "userId": "02602848399439478733"
     },
     "user_tz": 240
    },
    "id": "jO26qKe6wUPT",
    "outputId": "64ede7b8-e68c-4157-88a1-3b56e37cc406"
   },
   "outputs": [
    {
     "name": "stdout",
     "output_type": "stream",
     "text": [
      "['Juan', 'Pérez']\n",
      "['200', '350']\n",
      "2024 06 12\n"
     ]
    }
   ],
   "source": [
    "# Dividir un nombre completo\n",
    "nombre_completo = \"Juan Pérez\"\n",
    "nombre_completo_dividido=nombre_completo.split(\" \")\n",
    "print(nombre_completo_dividido)\n",
    "\n",
    "# Dividir un rango numérico\n",
    "rango_precio = \"200-350\"\n",
    "rango_precio_dividido=rango_precio.split(\"-\")\n",
    "print(rango_precio_dividido)\n",
    "\n",
    "\n",
    "# Extraer componentes de una fecha\n",
    "fecha = \"2024/06/12\"\n",
    "año, mes, día = fecha.split(\"/\")\n",
    "print(año, mes, día)"
   ]
  },
  {
   "cell_type": "markdown",
   "metadata": {
    "id": "yh7N9Ntz1XQ_"
   },
   "source": [
    "### Detección de duplicados con .duplicated()\n",
    "\n",
    "Si queremos detectar primero cuáles filas están repetidas, usamos .duplicated(), que devuelve una serie booleana indicando si la fila ya fue vista antes:"
   ]
  },
  {
   "cell_type": "code",
   "execution_count": 9,
   "metadata": {},
   "outputs": [
    {
     "data": {
      "text/html": [
       "<div>\n",
       "<style scoped>\n",
       "    .dataframe tbody tr th:only-of-type {\n",
       "        vertical-align: middle;\n",
       "    }\n",
       "\n",
       "    .dataframe tbody tr th {\n",
       "        vertical-align: top;\n",
       "    }\n",
       "\n",
       "    .dataframe thead th {\n",
       "        text-align: right;\n",
       "    }\n",
       "</style>\n",
       "<table border=\"1\" class=\"dataframe\">\n",
       "  <thead>\n",
       "    <tr style=\"text-align: right;\">\n",
       "      <th></th>\n",
       "      <th>Código</th>\n",
       "      <th>Categoría</th>\n",
       "    </tr>\n",
       "  </thead>\n",
       "  <tbody>\n",
       "    <tr>\n",
       "      <th>0</th>\n",
       "      <td>101</td>\n",
       "      <td>A</td>\n",
       "    </tr>\n",
       "    <tr>\n",
       "      <th>1</th>\n",
       "      <td>102</td>\n",
       "      <td>B</td>\n",
       "    </tr>\n",
       "    <tr>\n",
       "      <th>2</th>\n",
       "      <td>103</td>\n",
       "      <td>C</td>\n",
       "    </tr>\n",
       "    <tr>\n",
       "      <th>3</th>\n",
       "      <td>101</td>\n",
       "      <td>A</td>\n",
       "    </tr>\n",
       "    <tr>\n",
       "      <th>4</th>\n",
       "      <td>104</td>\n",
       "      <td>D</td>\n",
       "    </tr>\n",
       "    <tr>\n",
       "      <th>5</th>\n",
       "      <td>102</td>\n",
       "      <td>B</td>\n",
       "    </tr>\n",
       "    <tr>\n",
       "      <th>6</th>\n",
       "      <td>105</td>\n",
       "      <td>E</td>\n",
       "    </tr>\n",
       "  </tbody>\n",
       "</table>\n",
       "</div>"
      ],
      "text/plain": [
       "   Código Categoría\n",
       "0     101         A\n",
       "1     102         B\n",
       "2     103         C\n",
       "3     101         A\n",
       "4     104         D\n",
       "5     102         B\n",
       "6     105         E"
      ]
     },
     "execution_count": 9,
     "metadata": {},
     "output_type": "execute_result"
    }
   ],
   "source": [
    "import pandas as pd\n",
    "\n",
    "# Crear un DataFrame de prueba con algunas filas duplicadas\n",
    "dfpruebas = pd.DataFrame({\n",
    "    'Código': [101, 102, 103, 101, 104, 102, 105],\n",
    "    'Categoría': ['A', 'B', 'C', 'A', 'D', 'B', 'E']\n",
    "})\n",
    "\n",
    "dfpruebas\n"
   ]
  },
  {
   "cell_type": "code",
   "execution_count": 10,
   "metadata": {
    "colab": {
     "base_uri": "https://localhost:8080/",
     "height": 303
    },
    "executionInfo": {
     "elapsed": 47,
     "status": "ok",
     "timestamp": 1749777001014,
     "user": {
      "displayName": "Eliecer Peña",
      "userId": "02602848399439478733"
     },
     "user_tz": 240
    },
    "id": "T-7GonFA1cUo",
    "outputId": "d9cdcc02-c60f-4ab6-ad50-49019a6ff5df"
   },
   "outputs": [
    {
     "data": {
      "text/plain": [
       "0    False\n",
       "1    False\n",
       "2    False\n",
       "3     True\n",
       "4    False\n",
       "5     True\n",
       "6    False\n",
       "dtype: bool"
      ]
     },
     "execution_count": 10,
     "metadata": {},
     "output_type": "execute_result"
    }
   ],
   "source": [
    "dfpruebas.duplicated()"
   ]
  },
  {
   "cell_type": "code",
   "execution_count": 11,
   "metadata": {
    "colab": {
     "base_uri": "https://localhost:8080/",
     "height": 112
    },
    "executionInfo": {
     "elapsed": 49,
     "status": "ok",
     "timestamp": 1749777010105,
     "user": {
      "displayName": "Eliecer Peña",
      "userId": "02602848399439478733"
     },
     "user_tz": 240
    },
    "id": "M8azckCM1kga",
    "outputId": "e5639f35-f55c-47eb-bd7e-8d549ef24813"
   },
   "outputs": [
    {
     "data": {
      "text/html": [
       "<div>\n",
       "<style scoped>\n",
       "    .dataframe tbody tr th:only-of-type {\n",
       "        vertical-align: middle;\n",
       "    }\n",
       "\n",
       "    .dataframe tbody tr th {\n",
       "        vertical-align: top;\n",
       "    }\n",
       "\n",
       "    .dataframe thead th {\n",
       "        text-align: right;\n",
       "    }\n",
       "</style>\n",
       "<table border=\"1\" class=\"dataframe\">\n",
       "  <thead>\n",
       "    <tr style=\"text-align: right;\">\n",
       "      <th></th>\n",
       "      <th>Código</th>\n",
       "      <th>Categoría</th>\n",
       "    </tr>\n",
       "  </thead>\n",
       "  <tbody>\n",
       "    <tr>\n",
       "      <th>3</th>\n",
       "      <td>101</td>\n",
       "      <td>A</td>\n",
       "    </tr>\n",
       "    <tr>\n",
       "      <th>5</th>\n",
       "      <td>102</td>\n",
       "      <td>B</td>\n",
       "    </tr>\n",
       "  </tbody>\n",
       "</table>\n",
       "</div>"
      ],
      "text/plain": [
       "   Código Categoría\n",
       "3     101         A\n",
       "5     102         B"
      ]
     },
     "execution_count": 11,
     "metadata": {},
     "output_type": "execute_result"
    }
   ],
   "source": [
    "dfpruebas[dfpruebas.duplicated()]"
   ]
  },
  {
   "cell_type": "code",
   "execution_count": 12,
   "metadata": {
    "colab": {
     "base_uri": "https://localhost:8080/",
     "height": 269
    },
    "executionInfo": {
     "elapsed": 51,
     "status": "ok",
     "timestamp": 1749777032764,
     "user": {
      "displayName": "Eliecer Peña",
      "userId": "02602848399439478733"
     },
     "user_tz": 240
    },
    "id": "c1HbYEFZ1qDQ",
    "outputId": "d09764bf-fa93-4532-c283-59ee2e69d689"
   },
   "outputs": [
    {
     "data": {
      "text/html": [
       "<div>\n",
       "<style scoped>\n",
       "    .dataframe tbody tr th:only-of-type {\n",
       "        vertical-align: middle;\n",
       "    }\n",
       "\n",
       "    .dataframe tbody tr th {\n",
       "        vertical-align: top;\n",
       "    }\n",
       "\n",
       "    .dataframe thead th {\n",
       "        text-align: right;\n",
       "    }\n",
       "</style>\n",
       "<table border=\"1\" class=\"dataframe\">\n",
       "  <thead>\n",
       "    <tr style=\"text-align: right;\">\n",
       "      <th></th>\n",
       "      <th>Código</th>\n",
       "      <th>Categoría</th>\n",
       "    </tr>\n",
       "  </thead>\n",
       "  <tbody>\n",
       "    <tr>\n",
       "      <th>0</th>\n",
       "      <td>101</td>\n",
       "      <td>A</td>\n",
       "    </tr>\n",
       "    <tr>\n",
       "      <th>1</th>\n",
       "      <td>102</td>\n",
       "      <td>B</td>\n",
       "    </tr>\n",
       "    <tr>\n",
       "      <th>2</th>\n",
       "      <td>103</td>\n",
       "      <td>C</td>\n",
       "    </tr>\n",
       "    <tr>\n",
       "      <th>3</th>\n",
       "      <td>101</td>\n",
       "      <td>A</td>\n",
       "    </tr>\n",
       "    <tr>\n",
       "      <th>4</th>\n",
       "      <td>104</td>\n",
       "      <td>D</td>\n",
       "    </tr>\n",
       "    <tr>\n",
       "      <th>5</th>\n",
       "      <td>102</td>\n",
       "      <td>B</td>\n",
       "    </tr>\n",
       "    <tr>\n",
       "      <th>6</th>\n",
       "      <td>105</td>\n",
       "      <td>E</td>\n",
       "    </tr>\n",
       "  </tbody>\n",
       "</table>\n",
       "</div>"
      ],
      "text/plain": [
       "   Código Categoría\n",
       "0     101         A\n",
       "1     102         B\n",
       "2     103         C\n",
       "3     101         A\n",
       "4     104         D\n",
       "5     102         B\n",
       "6     105         E"
      ]
     },
     "execution_count": 12,
     "metadata": {},
     "output_type": "execute_result"
    }
   ],
   "source": [
    "dfpruebas"
   ]
  },
  {
   "cell_type": "markdown",
   "metadata": {
    "id": "f8QfpYNM1DhF"
   },
   "source": [
    "### Eliminación de filas duplicadas\n",
    "Podemos usar .drop_duplicates() para eliminar filas repetidas (donde todas las columnas tienen exactamente los mismos valores):"
   ]
  },
  {
   "cell_type": "code",
   "execution_count": 13,
   "metadata": {
    "colab": {
     "base_uri": "https://localhost:8080/",
     "height": 206
    },
    "executionInfo": {
     "elapsed": 84,
     "status": "ok",
     "timestamp": 1749777038567,
     "user": {
      "displayName": "Eliecer Peña",
      "userId": "02602848399439478733"
     },
     "user_tz": 240
    },
    "id": "HAa7T8EM1LxZ",
    "outputId": "6435cccc-3a37-468e-93cc-df7c703c9359"
   },
   "outputs": [
    {
     "data": {
      "text/html": [
       "<div>\n",
       "<style scoped>\n",
       "    .dataframe tbody tr th:only-of-type {\n",
       "        vertical-align: middle;\n",
       "    }\n",
       "\n",
       "    .dataframe tbody tr th {\n",
       "        vertical-align: top;\n",
       "    }\n",
       "\n",
       "    .dataframe thead th {\n",
       "        text-align: right;\n",
       "    }\n",
       "</style>\n",
       "<table border=\"1\" class=\"dataframe\">\n",
       "  <thead>\n",
       "    <tr style=\"text-align: right;\">\n",
       "      <th></th>\n",
       "      <th>Código</th>\n",
       "      <th>Categoría</th>\n",
       "    </tr>\n",
       "  </thead>\n",
       "  <tbody>\n",
       "    <tr>\n",
       "      <th>0</th>\n",
       "      <td>101</td>\n",
       "      <td>A</td>\n",
       "    </tr>\n",
       "    <tr>\n",
       "      <th>1</th>\n",
       "      <td>102</td>\n",
       "      <td>B</td>\n",
       "    </tr>\n",
       "    <tr>\n",
       "      <th>2</th>\n",
       "      <td>103</td>\n",
       "      <td>C</td>\n",
       "    </tr>\n",
       "    <tr>\n",
       "      <th>4</th>\n",
       "      <td>104</td>\n",
       "      <td>D</td>\n",
       "    </tr>\n",
       "    <tr>\n",
       "      <th>6</th>\n",
       "      <td>105</td>\n",
       "      <td>E</td>\n",
       "    </tr>\n",
       "  </tbody>\n",
       "</table>\n",
       "</div>"
      ],
      "text/plain": [
       "   Código Categoría\n",
       "0     101         A\n",
       "1     102         B\n",
       "2     103         C\n",
       "4     104         D\n",
       "6     105         E"
      ]
     },
     "execution_count": 13,
     "metadata": {},
     "output_type": "execute_result"
    }
   ],
   "source": [
    "df_sin_duplicados = dfpruebas.drop_duplicates()\n",
    "df_sin_duplicados"
   ]
  },
  {
   "cell_type": "markdown",
   "metadata": {
    "id": "C-tK2h67uJqR"
   },
   "source": [
    "# Trabajo con datetime: Se declara el df"
   ]
  },
  {
   "cell_type": "code",
   "execution_count": 14,
   "metadata": {
    "colab": {
     "base_uri": "https://localhost:8080/",
     "height": 363
    },
    "executionInfo": {
     "elapsed": 141,
     "status": "ok",
     "timestamp": 1749782976759,
     "user": {
      "displayName": "Eliecer Peña",
      "userId": "02602848399439478733"
     },
     "user_tz": 240
    },
    "id": "2sjNpZmVY2DF",
    "outputId": "80fe1b27-5038-4810-a5a9-c502859cfb14"
   },
   "outputs": [
    {
     "data": {
      "text/html": [
       "<div>\n",
       "<style scoped>\n",
       "    .dataframe tbody tr th:only-of-type {\n",
       "        vertical-align: middle;\n",
       "    }\n",
       "\n",
       "    .dataframe tbody tr th {\n",
       "        vertical-align: top;\n",
       "    }\n",
       "\n",
       "    .dataframe thead th {\n",
       "        text-align: right;\n",
       "    }\n",
       "</style>\n",
       "<table border=\"1\" class=\"dataframe\">\n",
       "  <thead>\n",
       "    <tr style=\"text-align: right;\">\n",
       "      <th></th>\n",
       "      <th>nombre</th>\n",
       "      <th>fecha_compra</th>\n",
       "      <th>categoria</th>\n",
       "      <th>monto_compra</th>\n",
       "      <th>productos_comprados</th>\n",
       "      <th>comentario</th>\n",
       "    </tr>\n",
       "  </thead>\n",
       "  <tbody>\n",
       "    <tr>\n",
       "      <th>0</th>\n",
       "      <td>Ana</td>\n",
       "      <td>2024-01-15</td>\n",
       "      <td>A</td>\n",
       "      <td>150.50</td>\n",
       "      <td>3</td>\n",
       "      <td>Excelente compra</td>\n",
       "    </tr>\n",
       "    <tr>\n",
       "      <th>1</th>\n",
       "      <td>Luis</td>\n",
       "      <td>15/02/2024</td>\n",
       "      <td>B</td>\n",
       "      <td>80.75</td>\n",
       "      <td>1</td>\n",
       "      <td>muy bueno</td>\n",
       "    </tr>\n",
       "    <tr>\n",
       "      <th>2</th>\n",
       "      <td>Pedro</td>\n",
       "      <td>2024-03-10</td>\n",
       "      <td>A</td>\n",
       "      <td>220.30</td>\n",
       "      <td>4</td>\n",
       "      <td>Regular, esperaba más</td>\n",
       "    </tr>\n",
       "    <tr>\n",
       "      <th>3</th>\n",
       "      <td>María</td>\n",
       "      <td>10-04-2024</td>\n",
       "      <td>C</td>\n",
       "      <td>95.00</td>\n",
       "      <td>2</td>\n",
       "      <td>malo</td>\n",
       "    </tr>\n",
       "    <tr>\n",
       "      <th>4</th>\n",
       "      <td>Carlos</td>\n",
       "      <td>05-05-2024</td>\n",
       "      <td>B</td>\n",
       "      <td>110.20</td>\n",
       "      <td>2</td>\n",
       "      <td>excelente</td>\n",
       "    </tr>\n",
       "    <tr>\n",
       "      <th>5</th>\n",
       "      <td>Sofía</td>\n",
       "      <td>2024/06/20</td>\n",
       "      <td>A</td>\n",
       "      <td>135.00</td>\n",
       "      <td>3</td>\n",
       "      <td>Malo</td>\n",
       "    </tr>\n",
       "    <tr>\n",
       "      <th>6</th>\n",
       "      <td>Elena</td>\n",
       "      <td>07/07/2024</td>\n",
       "      <td>C</td>\n",
       "      <td>99.99</td>\n",
       "      <td>1</td>\n",
       "      <td>Buena calidad</td>\n",
       "    </tr>\n",
       "    <tr>\n",
       "      <th>7</th>\n",
       "      <td>Juan</td>\n",
       "      <td>2024-08-25 14:30</td>\n",
       "      <td>B</td>\n",
       "      <td>180.75</td>\n",
       "      <td>5</td>\n",
       "      <td>excelente</td>\n",
       "    </tr>\n",
       "    <tr>\n",
       "      <th>8</th>\n",
       "      <td>Diego</td>\n",
       "      <td>2024-09-30 18:45</td>\n",
       "      <td>C</td>\n",
       "      <td>160.40</td>\n",
       "      <td>4</td>\n",
       "      <td>no está mal</td>\n",
       "    </tr>\n",
       "    <tr>\n",
       "      <th>9</th>\n",
       "      <td>Valeria</td>\n",
       "      <td>2024-10-10</td>\n",
       "      <td>A</td>\n",
       "      <td>145.60</td>\n",
       "      <td>3</td>\n",
       "      <td>REGULAR</td>\n",
       "    </tr>\n",
       "  </tbody>\n",
       "</table>\n",
       "</div>"
      ],
      "text/plain": [
       "    nombre      fecha_compra categoria  monto_compra  productos_comprados  \\\n",
       "0      Ana        2024-01-15         A        150.50                    3   \n",
       "1     Luis        15/02/2024         B         80.75                    1   \n",
       "2    Pedro        2024-03-10         A        220.30                    4   \n",
       "3    María        10-04-2024         C         95.00                    2   \n",
       "4   Carlos        05-05-2024         B        110.20                    2   \n",
       "5    Sofía        2024/06/20         A        135.00                    3   \n",
       "6    Elena        07/07/2024         C         99.99                    1   \n",
       "7     Juan  2024-08-25 14:30         B        180.75                    5   \n",
       "8    Diego  2024-09-30 18:45         C        160.40                    4   \n",
       "9  Valeria        2024-10-10         A        145.60                    3   \n",
       "\n",
       "              comentario  \n",
       "0       Excelente compra  \n",
       "1              muy bueno  \n",
       "2  Regular, esperaba más  \n",
       "3                   malo  \n",
       "4              excelente  \n",
       "5                   Malo  \n",
       "6          Buena calidad  \n",
       "7              excelente  \n",
       "8            no está mal  \n",
       "9                REGULAR  "
      ]
     },
     "execution_count": 14,
     "metadata": {},
     "output_type": "execute_result"
    }
   ],
   "source": [
    "import pandas as pd\n",
    "\n",
    "# Crear un diccionario con los datos\n",
    "data = {\n",
    "    \"nombre\": [\"Ana\", \"Luis\", \"Pedro\", \"María\", \"Carlos\", \"Sofía\", \"Elena\", \"Juan\", \"Diego\", \"Valeria\"],\n",
    "    \"fecha_compra\": [\"2024-01-15\", \"15/02/2024\", \"2024-03-10\", \"10-04-2024\", \"05-05-2024\",\n",
    "                     \"2024/06/20\", \"07/07/2024\", \"2024-08-25 14:30\", \"2024-09-30 18:45\", \"2024-10-10\"],\n",
    "    \"categoria\": [\"A\", \"B\", \"A\", \"C\", \"B\", \"A\", \"C\", \"B\", \"C\", \"A\"],\n",
    "    \"monto_compra\": [150.50, 80.75, 220.30, 95.00, 110.20, 135.00, 99.99, 180.75, 160.40, 145.60],\n",
    "    \"productos_comprados\": [3, 1, 4, 2, 2, 3, 1, 5, 4, 3],\n",
    "    \"comentario\": [\"Excelente compra\", \"muy bueno\", \"Regular, esperaba más\", \"malo\", \"excelente\",\n",
    "                   \"Malo\", \"Buena calidad\", \"excelente\", \"no está mal\", \"REGULAR\"]\n",
    "}\n",
    "\n",
    "# Crear el DataFrame\n",
    "df = pd.DataFrame(data)\n",
    "df\n"
   ]
  },
  {
   "cell_type": "code",
   "execution_count": 15,
   "metadata": {
    "colab": {
     "base_uri": "https://localhost:8080/",
     "height": 272
    },
    "executionInfo": {
     "elapsed": 35,
     "status": "ok",
     "timestamp": 1749782981064,
     "user": {
      "displayName": "Eliecer Peña",
      "userId": "02602848399439478733"
     },
     "user_tz": 240
    },
    "id": "oDsCw8S_MWPX",
    "outputId": "4bde7c81-4beb-4f57-cb8e-d6ae88bfc53b"
   },
   "outputs": [
    {
     "data": {
      "text/plain": [
       "nombre                  object\n",
       "fecha_compra            object\n",
       "categoria               object\n",
       "monto_compra           float64\n",
       "productos_comprados      int64\n",
       "comentario              object\n",
       "dtype: object"
      ]
     },
     "execution_count": 15,
     "metadata": {},
     "output_type": "execute_result"
    }
   ],
   "source": [
    "df.dtypes"
   ]
  },
  {
   "cell_type": "code",
   "execution_count": 16,
   "metadata": {
    "colab": {
     "base_uri": "https://localhost:8080/"
    },
    "executionInfo": {
     "elapsed": 10,
     "status": "ok",
     "timestamp": 1739488590416,
     "user": {
      "displayName": "Eliecer Peña",
      "userId": "02602848399439478733"
     },
     "user_tz": 180
    },
    "id": "Gk1jzaglMiWg",
    "outputId": "0f5be874-328a-4f61-e8db-5efd5c2a2a0e"
   },
   "outputs": [
    {
     "name": "stdout",
     "output_type": "stream",
     "text": [
      "nombre                  object\n",
      "fecha_compra            object\n",
      "categoria               object\n",
      "monto_compra           float64\n",
      "productos_comprados      int64\n",
      "comentario              object\n",
      "dtype: object\n"
     ]
    }
   ],
   "source": [
    "print(df.dtypes)  # Ver todos los tipos de datos del DataFrame\n"
   ]
  },
  {
   "cell_type": "markdown",
   "metadata": {
    "id": "VXhwjZuHuP4k"
   },
   "source": [
    "##  DF a operar"
   ]
  },
  {
   "cell_type": "code",
   "execution_count": 17,
   "metadata": {
    "colab": {
     "base_uri": "https://localhost:8080/",
     "height": 397
    },
    "executionInfo": {
     "elapsed": 8,
     "status": "ok",
     "timestamp": 1749783067701,
     "user": {
      "displayName": "Eliecer Peña",
      "userId": "02602848399439478733"
     },
     "user_tz": 240
    },
    "id": "QDhDDXQzgaGQ",
    "outputId": "3697bc4b-14b9-428e-d9b4-89af2cbbb0a1"
   },
   "outputs": [
    {
     "data": {
      "text/plain": [
       "0          2024-01-15\n",
       "1          15/02/2024\n",
       "2          2024-03-10\n",
       "3          10-04-2024\n",
       "4          05-05-2024\n",
       "5          2024/06/20\n",
       "6          07/07/2024\n",
       "7    2024-08-25 14:30\n",
       "8    2024-09-30 18:45\n",
       "9          2024-10-10\n",
       "Name: fecha_compra, dtype: object"
      ]
     },
     "execution_count": 17,
     "metadata": {},
     "output_type": "execute_result"
    }
   ],
   "source": [
    "df[\"fecha_compra\"]\n"
   ]
  },
  {
   "cell_type": "markdown",
   "metadata": {
    "id": "0PmuFN0nj3G8"
   },
   "source": [
    "Esto va a dar error"
   ]
  },
  {
   "cell_type": "code",
   "execution_count": 18,
   "metadata": {
    "colab": {
     "base_uri": "https://localhost:8080/",
     "height": 478
    },
    "executionInfo": {
     "elapsed": 64,
     "status": "error",
     "timestamp": 1749783063207,
     "user": {
      "displayName": "Eliecer Peña",
      "userId": "02602848399439478733"
     },
     "user_tz": 240
    },
    "id": "RN0l63qnj0JB",
    "outputId": "67797593-3237-43d7-ec55-5263b7f508df"
   },
   "outputs": [
    {
     "ename": "ValueError",
     "evalue": "time data \"15/02/2024\" doesn't match format \"%Y-%m-%d\", at position 1. You might want to try:\n    - passing `format` if your strings have a consistent format;\n    - passing `format='ISO8601'` if your strings are all ISO8601 but not necessarily in exactly the same format;\n    - passing `format='mixed'`, and the format will be inferred for each element individually. You might want to use `dayfirst` alongside this.",
     "output_type": "error",
     "traceback": [
      "\u001b[1;31m---------------------------------------------------------------------------\u001b[0m",
      "\u001b[1;31mValueError\u001b[0m                                Traceback (most recent call last)",
      "Cell \u001b[1;32mIn[18], line 1\u001b[0m\n\u001b[1;32m----> 1\u001b[0m \u001b[43mpd\u001b[49m\u001b[38;5;241;43m.\u001b[39;49m\u001b[43mto_datetime\u001b[49m\u001b[43m(\u001b[49m\u001b[43mdf\u001b[49m\u001b[43m[\u001b[49m\u001b[38;5;124;43m\"\u001b[39;49m\u001b[38;5;124;43mfecha_compra\u001b[39;49m\u001b[38;5;124;43m\"\u001b[39;49m\u001b[43m]\u001b[49m\u001b[43m)\u001b[49m\n",
      "File \u001b[1;32m~\\AppData\\Local\\Programs\\Python\\Python313\\Lib\\site-packages\\pandas\\core\\tools\\datetimes.py:1067\u001b[0m, in \u001b[0;36mto_datetime\u001b[1;34m(arg, errors, dayfirst, yearfirst, utc, format, exact, unit, infer_datetime_format, origin, cache)\u001b[0m\n\u001b[0;32m   1065\u001b[0m         result \u001b[38;5;241m=\u001b[39m arg\u001b[38;5;241m.\u001b[39mmap(cache_array)\n\u001b[0;32m   1066\u001b[0m     \u001b[38;5;28;01melse\u001b[39;00m:\n\u001b[1;32m-> 1067\u001b[0m         values \u001b[38;5;241m=\u001b[39m \u001b[43mconvert_listlike\u001b[49m\u001b[43m(\u001b[49m\u001b[43marg\u001b[49m\u001b[38;5;241;43m.\u001b[39;49m\u001b[43m_values\u001b[49m\u001b[43m,\u001b[49m\u001b[43m \u001b[49m\u001b[38;5;28;43mformat\u001b[39;49m\u001b[43m)\u001b[49m\n\u001b[0;32m   1068\u001b[0m         result \u001b[38;5;241m=\u001b[39m arg\u001b[38;5;241m.\u001b[39m_constructor(values, index\u001b[38;5;241m=\u001b[39marg\u001b[38;5;241m.\u001b[39mindex, name\u001b[38;5;241m=\u001b[39marg\u001b[38;5;241m.\u001b[39mname)\n\u001b[0;32m   1069\u001b[0m \u001b[38;5;28;01melif\u001b[39;00m \u001b[38;5;28misinstance\u001b[39m(arg, (ABCDataFrame, abc\u001b[38;5;241m.\u001b[39mMutableMapping)):\n",
      "File \u001b[1;32m~\\AppData\\Local\\Programs\\Python\\Python313\\Lib\\site-packages\\pandas\\core\\tools\\datetimes.py:433\u001b[0m, in \u001b[0;36m_convert_listlike_datetimes\u001b[1;34m(arg, format, name, utc, unit, errors, dayfirst, yearfirst, exact)\u001b[0m\n\u001b[0;32m    431\u001b[0m \u001b[38;5;66;03m# `format` could be inferred, or user didn't ask for mixed-format parsing.\u001b[39;00m\n\u001b[0;32m    432\u001b[0m \u001b[38;5;28;01mif\u001b[39;00m \u001b[38;5;28mformat\u001b[39m \u001b[38;5;129;01mis\u001b[39;00m \u001b[38;5;129;01mnot\u001b[39;00m \u001b[38;5;28;01mNone\u001b[39;00m \u001b[38;5;129;01mand\u001b[39;00m \u001b[38;5;28mformat\u001b[39m \u001b[38;5;241m!=\u001b[39m \u001b[38;5;124m\"\u001b[39m\u001b[38;5;124mmixed\u001b[39m\u001b[38;5;124m\"\u001b[39m:\n\u001b[1;32m--> 433\u001b[0m     \u001b[38;5;28;01mreturn\u001b[39;00m \u001b[43m_array_strptime_with_fallback\u001b[49m\u001b[43m(\u001b[49m\u001b[43marg\u001b[49m\u001b[43m,\u001b[49m\u001b[43m \u001b[49m\u001b[43mname\u001b[49m\u001b[43m,\u001b[49m\u001b[43m \u001b[49m\u001b[43mutc\u001b[49m\u001b[43m,\u001b[49m\u001b[43m \u001b[49m\u001b[38;5;28;43mformat\u001b[39;49m\u001b[43m,\u001b[49m\u001b[43m \u001b[49m\u001b[43mexact\u001b[49m\u001b[43m,\u001b[49m\u001b[43m \u001b[49m\u001b[43merrors\u001b[49m\u001b[43m)\u001b[49m\n\u001b[0;32m    435\u001b[0m result, tz_parsed \u001b[38;5;241m=\u001b[39m objects_to_datetime64(\n\u001b[0;32m    436\u001b[0m     arg,\n\u001b[0;32m    437\u001b[0m     dayfirst\u001b[38;5;241m=\u001b[39mdayfirst,\n\u001b[1;32m   (...)\u001b[0m\n\u001b[0;32m    441\u001b[0m     allow_object\u001b[38;5;241m=\u001b[39m\u001b[38;5;28;01mTrue\u001b[39;00m,\n\u001b[0;32m    442\u001b[0m )\n\u001b[0;32m    444\u001b[0m \u001b[38;5;28;01mif\u001b[39;00m tz_parsed \u001b[38;5;129;01mis\u001b[39;00m \u001b[38;5;129;01mnot\u001b[39;00m \u001b[38;5;28;01mNone\u001b[39;00m:\n\u001b[0;32m    445\u001b[0m     \u001b[38;5;66;03m# We can take a shortcut since the datetime64 numpy array\u001b[39;00m\n\u001b[0;32m    446\u001b[0m     \u001b[38;5;66;03m# is in UTC\u001b[39;00m\n",
      "File \u001b[1;32m~\\AppData\\Local\\Programs\\Python\\Python313\\Lib\\site-packages\\pandas\\core\\tools\\datetimes.py:467\u001b[0m, in \u001b[0;36m_array_strptime_with_fallback\u001b[1;34m(arg, name, utc, fmt, exact, errors)\u001b[0m\n\u001b[0;32m    456\u001b[0m \u001b[38;5;28;01mdef\u001b[39;00m\u001b[38;5;250m \u001b[39m\u001b[38;5;21m_array_strptime_with_fallback\u001b[39m(\n\u001b[0;32m    457\u001b[0m     arg,\n\u001b[0;32m    458\u001b[0m     name,\n\u001b[1;32m   (...)\u001b[0m\n\u001b[0;32m    462\u001b[0m     errors: \u001b[38;5;28mstr\u001b[39m,\n\u001b[0;32m    463\u001b[0m ) \u001b[38;5;241m-\u001b[39m\u001b[38;5;241m>\u001b[39m Index:\n\u001b[0;32m    464\u001b[0m \u001b[38;5;250m    \u001b[39m\u001b[38;5;124;03m\"\"\"\u001b[39;00m\n\u001b[0;32m    465\u001b[0m \u001b[38;5;124;03m    Call array_strptime, with fallback behavior depending on 'errors'.\u001b[39;00m\n\u001b[0;32m    466\u001b[0m \u001b[38;5;124;03m    \"\"\"\u001b[39;00m\n\u001b[1;32m--> 467\u001b[0m     result, tz_out \u001b[38;5;241m=\u001b[39m \u001b[43marray_strptime\u001b[49m\u001b[43m(\u001b[49m\u001b[43marg\u001b[49m\u001b[43m,\u001b[49m\u001b[43m \u001b[49m\u001b[43mfmt\u001b[49m\u001b[43m,\u001b[49m\u001b[43m \u001b[49m\u001b[43mexact\u001b[49m\u001b[38;5;241;43m=\u001b[39;49m\u001b[43mexact\u001b[49m\u001b[43m,\u001b[49m\u001b[43m \u001b[49m\u001b[43merrors\u001b[49m\u001b[38;5;241;43m=\u001b[39;49m\u001b[43merrors\u001b[49m\u001b[43m,\u001b[49m\u001b[43m \u001b[49m\u001b[43mutc\u001b[49m\u001b[38;5;241;43m=\u001b[39;49m\u001b[43mutc\u001b[49m\u001b[43m)\u001b[49m\n\u001b[0;32m    468\u001b[0m     \u001b[38;5;28;01mif\u001b[39;00m tz_out \u001b[38;5;129;01mis\u001b[39;00m \u001b[38;5;129;01mnot\u001b[39;00m \u001b[38;5;28;01mNone\u001b[39;00m:\n\u001b[0;32m    469\u001b[0m         unit \u001b[38;5;241m=\u001b[39m np\u001b[38;5;241m.\u001b[39mdatetime_data(result\u001b[38;5;241m.\u001b[39mdtype)[\u001b[38;5;241m0\u001b[39m]\n",
      "File \u001b[1;32mstrptime.pyx:501\u001b[0m, in \u001b[0;36mpandas._libs.tslibs.strptime.array_strptime\u001b[1;34m()\u001b[0m\n",
      "File \u001b[1;32mstrptime.pyx:451\u001b[0m, in \u001b[0;36mpandas._libs.tslibs.strptime.array_strptime\u001b[1;34m()\u001b[0m\n",
      "File \u001b[1;32mstrptime.pyx:583\u001b[0m, in \u001b[0;36mpandas._libs.tslibs.strptime._parse_with_format\u001b[1;34m()\u001b[0m\n",
      "\u001b[1;31mValueError\u001b[0m: time data \"15/02/2024\" doesn't match format \"%Y-%m-%d\", at position 1. You might want to try:\n    - passing `format` if your strings have a consistent format;\n    - passing `format='ISO8601'` if your strings are all ISO8601 but not necessarily in exactly the same format;\n    - passing `format='mixed'`, and the format will be inferred for each element individually. You might want to use `dayfirst` alongside this."
     ]
    }
   ],
   "source": [
    "pd.to_datetime(df[\"fecha_compra\"])"
   ]
  },
  {
   "cell_type": "markdown",
   "metadata": {
    "id": "hUgLTAzIuS7X"
   },
   "source": [
    "# Datetime"
   ]
  },
  {
   "cell_type": "markdown",
   "metadata": {
    "id": "EXyvPVoguX1g"
   },
   "source": [
    "## Primero"
   ]
  },
  {
   "cell_type": "code",
   "execution_count": 19,
   "metadata": {
    "colab": {
     "base_uri": "https://localhost:8080/",
     "height": 397
    },
    "executionInfo": {
     "elapsed": 35,
     "status": "ok",
     "timestamp": 1749783076889,
     "user": {
      "displayName": "Eliecer Peña",
      "userId": "02602848399439478733"
     },
     "user_tz": 240
    },
    "id": "5WQvUoqTuLMS",
    "outputId": "379b5725-a9c5-4240-cb8a-08397c80682c"
   },
   "outputs": [
    {
     "data": {
      "text/plain": [
       "0   2024-01-15\n",
       "1          NaT\n",
       "2   2024-03-10\n",
       "3          NaT\n",
       "4          NaT\n",
       "5          NaT\n",
       "6          NaT\n",
       "7          NaT\n",
       "8          NaT\n",
       "9   2024-10-10\n",
       "Name: fecha_compra, dtype: datetime64[ns]"
      ]
     },
     "execution_count": 19,
     "metadata": {},
     "output_type": "execute_result"
    }
   ],
   "source": [
    "pd.to_datetime(df[\"fecha_compra\"], errors=\"coerce\" )"
   ]
  },
  {
   "cell_type": "markdown",
   "metadata": {
    "id": "Jg9ZFVMouaNC"
   },
   "source": [
    "## Segundo"
   ]
  },
  {
   "cell_type": "code",
   "execution_count": 20,
   "metadata": {
    "colab": {
     "base_uri": "https://localhost:8080/",
     "height": 397
    },
    "executionInfo": {
     "elapsed": 69,
     "status": "ok",
     "timestamp": 1749783082233,
     "user": {
      "displayName": "Eliecer Peña",
      "userId": "02602848399439478733"
     },
     "user_tz": 240
    },
    "id": "JWlOmNJIrV_B",
    "outputId": "b26a7826-6db5-4833-8687-42ff2906162f"
   },
   "outputs": [
    {
     "data": {
      "text/plain": [
       "0          NaT\n",
       "1          NaT\n",
       "2          NaT\n",
       "3   2024-04-10\n",
       "4   2024-05-05\n",
       "5          NaT\n",
       "6          NaT\n",
       "7          NaT\n",
       "8          NaT\n",
       "9          NaT\n",
       "Name: fecha_compra, dtype: datetime64[ns]"
      ]
     },
     "execution_count": 20,
     "metadata": {},
     "output_type": "execute_result"
    }
   ],
   "source": [
    "pd.to_datetime(\n",
    "    df[\"fecha_compra\"], format=\"%d-%m-%Y\", errors=\"coerce\"\n",
    ")"
   ]
  },
  {
   "cell_type": "markdown",
   "metadata": {
    "id": "AYDsi3JYucqq"
   },
   "source": [
    "## Tercero"
   ]
  },
  {
   "cell_type": "code",
   "execution_count": 21,
   "metadata": {
    "colab": {
     "base_uri": "https://localhost:8080/",
     "height": 397
    },
    "executionInfo": {
     "elapsed": 14,
     "status": "ok",
     "timestamp": 1749783090386,
     "user": {
      "displayName": "Eliecer Peña",
      "userId": "02602848399439478733"
     },
     "user_tz": 240
    },
    "id": "Ama0QH8Yq8py",
    "outputId": "521e14d3-d0b6-423b-83e5-57c901466150"
   },
   "outputs": [
    {
     "data": {
      "text/plain": [
       "0          NaT\n",
       "1   2024-02-15\n",
       "2          NaT\n",
       "3          NaT\n",
       "4          NaT\n",
       "5          NaT\n",
       "6   2024-07-07\n",
       "7          NaT\n",
       "8          NaT\n",
       "9          NaT\n",
       "Name: fecha_compra, dtype: datetime64[ns]"
      ]
     },
     "execution_count": 21,
     "metadata": {},
     "output_type": "execute_result"
    }
   ],
   "source": [
    "pd.to_datetime(\n",
    "    df[\"fecha_compra\"], format=\"%d/%m/%Y\", errors=\"coerce\"\n",
    ")"
   ]
  },
  {
   "cell_type": "markdown",
   "metadata": {
    "id": "_vw5TOeKueCc"
   },
   "source": [
    "## Cuarto"
   ]
  },
  {
   "cell_type": "code",
   "execution_count": 22,
   "metadata": {
    "colab": {
     "base_uri": "https://localhost:8080/",
     "height": 397
    },
    "executionInfo": {
     "elapsed": 29,
     "status": "ok",
     "timestamp": 1749783093955,
     "user": {
      "displayName": "Eliecer Peña",
      "userId": "02602848399439478733"
     },
     "user_tz": 240
    },
    "id": "-I26eFoGq8i_",
    "outputId": "20dcb4a7-61e2-4bce-aa47-91546d5486f8"
   },
   "outputs": [
    {
     "data": {
      "text/plain": [
       "0          NaT\n",
       "1          NaT\n",
       "2          NaT\n",
       "3          NaT\n",
       "4          NaT\n",
       "5   2024-06-20\n",
       "6          NaT\n",
       "7          NaT\n",
       "8          NaT\n",
       "9          NaT\n",
       "Name: fecha_compra, dtype: datetime64[ns]"
      ]
     },
     "execution_count": 22,
     "metadata": {},
     "output_type": "execute_result"
    }
   ],
   "source": [
    "pd.to_datetime(\n",
    "    df[\"fecha_compra\"], format=\"%Y/%m/%d\", errors=\"coerce\"\n",
    ")"
   ]
  },
  {
   "cell_type": "markdown",
   "metadata": {
    "id": "T887qWJNufkz"
   },
   "source": [
    "## Quinto"
   ]
  },
  {
   "cell_type": "code",
   "execution_count": 23,
   "metadata": {
    "colab": {
     "base_uri": "https://localhost:8080/",
     "height": 397
    },
    "executionInfo": {
     "elapsed": 42,
     "status": "ok",
     "timestamp": 1749783098690,
     "user": {
      "displayName": "Eliecer Peña",
      "userId": "02602848399439478733"
     },
     "user_tz": 240
    },
    "id": "7KFtczhMq8Z-",
    "outputId": "4ae4c7e2-17f9-408b-9004-c5852f93b1c0"
   },
   "outputs": [
    {
     "data": {
      "text/plain": [
       "0                   NaT\n",
       "1                   NaT\n",
       "2                   NaT\n",
       "3                   NaT\n",
       "4                   NaT\n",
       "5                   NaT\n",
       "6                   NaT\n",
       "7   2024-08-25 14:30:00\n",
       "8   2024-09-30 18:45:00\n",
       "9                   NaT\n",
       "Name: fecha_compra, dtype: datetime64[ns]"
      ]
     },
     "execution_count": 23,
     "metadata": {},
     "output_type": "execute_result"
    }
   ],
   "source": [
    "pd.to_datetime(\n",
    "    df[\"fecha_compra\"], format=\"%Y-%m-%d %H:%M\", errors=\"coerce\"\n",
    ")"
   ]
  },
  {
   "cell_type": "markdown",
   "metadata": {
    "id": "F3T0Cp32upC0"
   },
   "source": [
    "### format=\"mixed\""
   ]
  },
  {
   "cell_type": "code",
   "execution_count": 24,
   "metadata": {
    "colab": {
     "base_uri": "https://localhost:8080/",
     "height": 397
    },
    "executionInfo": {
     "elapsed": 29,
     "status": "ok",
     "timestamp": 1749783201909,
     "user": {
      "displayName": "Eliecer Peña",
      "userId": "02602848399439478733"
     },
     "user_tz": 240
    },
    "id": "rZvBNcc_jGbf",
    "outputId": "c9768d05-50de-4782-91f0-0274b925dc16"
   },
   "outputs": [
    {
     "data": {
      "text/plain": [
       "0   2024-01-15 00:00:00\n",
       "1   2024-02-15 00:00:00\n",
       "2   2024-03-10 00:00:00\n",
       "3   2024-10-04 00:00:00\n",
       "4   2024-05-05 00:00:00\n",
       "5   2024-06-20 00:00:00\n",
       "6   2024-07-07 00:00:00\n",
       "7   2024-08-25 14:30:00\n",
       "8   2024-09-30 18:45:00\n",
       "9   2024-10-10 00:00:00\n",
       "Name: fecha_compra2, dtype: datetime64[ns]"
      ]
     },
     "execution_count": 24,
     "metadata": {},
     "output_type": "execute_result"
    }
   ],
   "source": [
    "df[\"fecha_compra2\"] = pd.to_datetime(df[\"fecha_compra\"], errors=\"coerce\", format=\"mixed\")\n",
    "df[\"fecha_compra2\"]"
   ]
  },
  {
   "cell_type": "markdown",
   "metadata": {
    "id": "sR3-vh9Yuur6"
   },
   "source": [
    "## Acceso con dt.year dt.month dt.day"
   ]
  },
  {
   "cell_type": "code",
   "execution_count": 25,
   "metadata": {
    "colab": {
     "base_uri": "https://localhost:8080/",
     "height": 363
    },
    "executionInfo": {
     "elapsed": 88,
     "status": "ok",
     "timestamp": 1749783378063,
     "user": {
      "displayName": "Eliecer Peña",
      "userId": "02602848399439478733"
     },
     "user_tz": 240
    },
    "id": "qqSz6tpDz_Z9",
    "outputId": "7148a6a6-dfb5-4eab-e07c-c5f94ac2e33a"
   },
   "outputs": [
    {
     "data": {
      "text/html": [
       "<div>\n",
       "<style scoped>\n",
       "    .dataframe tbody tr th:only-of-type {\n",
       "        vertical-align: middle;\n",
       "    }\n",
       "\n",
       "    .dataframe tbody tr th {\n",
       "        vertical-align: top;\n",
       "    }\n",
       "\n",
       "    .dataframe thead th {\n",
       "        text-align: right;\n",
       "    }\n",
       "</style>\n",
       "<table border=\"1\" class=\"dataframe\">\n",
       "  <thead>\n",
       "    <tr style=\"text-align: right;\">\n",
       "      <th></th>\n",
       "      <th>year</th>\n",
       "      <th>month</th>\n",
       "      <th>day</th>\n",
       "      <th>hour</th>\n",
       "      <th>minute</th>\n",
       "    </tr>\n",
       "  </thead>\n",
       "  <tbody>\n",
       "    <tr>\n",
       "      <th>0</th>\n",
       "      <td>2024</td>\n",
       "      <td>1</td>\n",
       "      <td>15</td>\n",
       "      <td>0</td>\n",
       "      <td>0</td>\n",
       "    </tr>\n",
       "    <tr>\n",
       "      <th>1</th>\n",
       "      <td>2024</td>\n",
       "      <td>2</td>\n",
       "      <td>15</td>\n",
       "      <td>0</td>\n",
       "      <td>0</td>\n",
       "    </tr>\n",
       "    <tr>\n",
       "      <th>2</th>\n",
       "      <td>2024</td>\n",
       "      <td>3</td>\n",
       "      <td>10</td>\n",
       "      <td>0</td>\n",
       "      <td>0</td>\n",
       "    </tr>\n",
       "    <tr>\n",
       "      <th>3</th>\n",
       "      <td>2024</td>\n",
       "      <td>10</td>\n",
       "      <td>4</td>\n",
       "      <td>0</td>\n",
       "      <td>0</td>\n",
       "    </tr>\n",
       "    <tr>\n",
       "      <th>4</th>\n",
       "      <td>2024</td>\n",
       "      <td>5</td>\n",
       "      <td>5</td>\n",
       "      <td>0</td>\n",
       "      <td>0</td>\n",
       "    </tr>\n",
       "    <tr>\n",
       "      <th>5</th>\n",
       "      <td>2024</td>\n",
       "      <td>6</td>\n",
       "      <td>20</td>\n",
       "      <td>0</td>\n",
       "      <td>0</td>\n",
       "    </tr>\n",
       "    <tr>\n",
       "      <th>6</th>\n",
       "      <td>2024</td>\n",
       "      <td>7</td>\n",
       "      <td>7</td>\n",
       "      <td>0</td>\n",
       "      <td>0</td>\n",
       "    </tr>\n",
       "    <tr>\n",
       "      <th>7</th>\n",
       "      <td>2024</td>\n",
       "      <td>8</td>\n",
       "      <td>25</td>\n",
       "      <td>14</td>\n",
       "      <td>30</td>\n",
       "    </tr>\n",
       "    <tr>\n",
       "      <th>8</th>\n",
       "      <td>2024</td>\n",
       "      <td>9</td>\n",
       "      <td>30</td>\n",
       "      <td>18</td>\n",
       "      <td>45</td>\n",
       "    </tr>\n",
       "    <tr>\n",
       "      <th>9</th>\n",
       "      <td>2024</td>\n",
       "      <td>10</td>\n",
       "      <td>10</td>\n",
       "      <td>0</td>\n",
       "      <td>0</td>\n",
       "    </tr>\n",
       "  </tbody>\n",
       "</table>\n",
       "</div>"
      ],
      "text/plain": [
       "   year  month  day  hour  minute\n",
       "0  2024      1   15     0       0\n",
       "1  2024      2   15     0       0\n",
       "2  2024      3   10     0       0\n",
       "3  2024     10    4     0       0\n",
       "4  2024      5    5     0       0\n",
       "5  2024      6   20     0       0\n",
       "6  2024      7    7     0       0\n",
       "7  2024      8   25    14      30\n",
       "8  2024      9   30    18      45\n",
       "9  2024     10   10     0       0"
      ]
     },
     "execution_count": 25,
     "metadata": {},
     "output_type": "execute_result"
    }
   ],
   "source": [
    "df2 = pd.DataFrame({\n",
    "    'year': df[\"fecha_compra2\"].dt.year,\n",
    "    'month': df[\"fecha_compra2\"].dt.month,\n",
    "    'day': df[\"fecha_compra2\"].dt.day,\n",
    "    'hour': df[\"fecha_compra2\"].dt.hour,\n",
    "    'minute': df[\"fecha_compra2\"].dt.minute\n",
    "})\n",
    "df2"
   ]
  },
  {
   "cell_type": "code",
   "execution_count": 26,
   "metadata": {
    "colab": {
     "base_uri": "https://localhost:8080/",
     "height": 536
    },
    "executionInfo": {
     "elapsed": 53,
     "status": "ok",
     "timestamp": 1749783391538,
     "user": {
      "displayName": "Eliecer Peña",
      "userId": "02602848399439478733"
     },
     "user_tz": 240
    },
    "id": "LnOB-Nab0D_g",
    "outputId": "8bb3c135-2530-458e-ad64-5f3f1ccd2923"
   },
   "outputs": [
    {
     "data": {
      "text/html": [
       "<div>\n",
       "<style scoped>\n",
       "    .dataframe tbody tr th:only-of-type {\n",
       "        vertical-align: middle;\n",
       "    }\n",
       "\n",
       "    .dataframe tbody tr th {\n",
       "        vertical-align: top;\n",
       "    }\n",
       "\n",
       "    .dataframe thead th {\n",
       "        text-align: right;\n",
       "    }\n",
       "</style>\n",
       "<table border=\"1\" class=\"dataframe\">\n",
       "  <thead>\n",
       "    <tr style=\"text-align: right;\">\n",
       "      <th></th>\n",
       "      <th>nombre</th>\n",
       "      <th>fecha_compra</th>\n",
       "      <th>categoria</th>\n",
       "      <th>monto_compra</th>\n",
       "      <th>productos_comprados</th>\n",
       "      <th>comentario</th>\n",
       "      <th>fecha_compra2</th>\n",
       "    </tr>\n",
       "  </thead>\n",
       "  <tbody>\n",
       "    <tr>\n",
       "      <th>0</th>\n",
       "      <td>Ana</td>\n",
       "      <td>2024-01-15</td>\n",
       "      <td>A</td>\n",
       "      <td>150.50</td>\n",
       "      <td>3</td>\n",
       "      <td>Excelente compra</td>\n",
       "      <td>2024-01-15 00:00:00</td>\n",
       "    </tr>\n",
       "    <tr>\n",
       "      <th>1</th>\n",
       "      <td>Luis</td>\n",
       "      <td>15/02/2024</td>\n",
       "      <td>B</td>\n",
       "      <td>80.75</td>\n",
       "      <td>1</td>\n",
       "      <td>muy bueno</td>\n",
       "      <td>2024-02-15 00:00:00</td>\n",
       "    </tr>\n",
       "    <tr>\n",
       "      <th>2</th>\n",
       "      <td>Pedro</td>\n",
       "      <td>2024-03-10</td>\n",
       "      <td>A</td>\n",
       "      <td>220.30</td>\n",
       "      <td>4</td>\n",
       "      <td>Regular, esperaba más</td>\n",
       "      <td>2024-03-10 00:00:00</td>\n",
       "    </tr>\n",
       "    <tr>\n",
       "      <th>3</th>\n",
       "      <td>María</td>\n",
       "      <td>10-04-2024</td>\n",
       "      <td>C</td>\n",
       "      <td>95.00</td>\n",
       "      <td>2</td>\n",
       "      <td>malo</td>\n",
       "      <td>2024-10-04 00:00:00</td>\n",
       "    </tr>\n",
       "    <tr>\n",
       "      <th>4</th>\n",
       "      <td>Carlos</td>\n",
       "      <td>05-05-2024</td>\n",
       "      <td>B</td>\n",
       "      <td>110.20</td>\n",
       "      <td>2</td>\n",
       "      <td>excelente</td>\n",
       "      <td>2024-05-05 00:00:00</td>\n",
       "    </tr>\n",
       "    <tr>\n",
       "      <th>5</th>\n",
       "      <td>Sofía</td>\n",
       "      <td>2024/06/20</td>\n",
       "      <td>A</td>\n",
       "      <td>135.00</td>\n",
       "      <td>3</td>\n",
       "      <td>Malo</td>\n",
       "      <td>2024-06-20 00:00:00</td>\n",
       "    </tr>\n",
       "    <tr>\n",
       "      <th>6</th>\n",
       "      <td>Elena</td>\n",
       "      <td>07/07/2024</td>\n",
       "      <td>C</td>\n",
       "      <td>99.99</td>\n",
       "      <td>1</td>\n",
       "      <td>Buena calidad</td>\n",
       "      <td>2024-07-07 00:00:00</td>\n",
       "    </tr>\n",
       "    <tr>\n",
       "      <th>7</th>\n",
       "      <td>Juan</td>\n",
       "      <td>2024-08-25 14:30</td>\n",
       "      <td>B</td>\n",
       "      <td>180.75</td>\n",
       "      <td>5</td>\n",
       "      <td>excelente</td>\n",
       "      <td>2024-08-25 14:30:00</td>\n",
       "    </tr>\n",
       "    <tr>\n",
       "      <th>8</th>\n",
       "      <td>Diego</td>\n",
       "      <td>2024-09-30 18:45</td>\n",
       "      <td>C</td>\n",
       "      <td>160.40</td>\n",
       "      <td>4</td>\n",
       "      <td>no está mal</td>\n",
       "      <td>2024-09-30 18:45:00</td>\n",
       "    </tr>\n",
       "    <tr>\n",
       "      <th>9</th>\n",
       "      <td>Valeria</td>\n",
       "      <td>2024-10-10</td>\n",
       "      <td>A</td>\n",
       "      <td>145.60</td>\n",
       "      <td>3</td>\n",
       "      <td>REGULAR</td>\n",
       "      <td>2024-10-10 00:00:00</td>\n",
       "    </tr>\n",
       "  </tbody>\n",
       "</table>\n",
       "</div>"
      ],
      "text/plain": [
       "    nombre      fecha_compra categoria  monto_compra  productos_comprados  \\\n",
       "0      Ana        2024-01-15         A        150.50                    3   \n",
       "1     Luis        15/02/2024         B         80.75                    1   \n",
       "2    Pedro        2024-03-10         A        220.30                    4   \n",
       "3    María        10-04-2024         C         95.00                    2   \n",
       "4   Carlos        05-05-2024         B        110.20                    2   \n",
       "5    Sofía        2024/06/20         A        135.00                    3   \n",
       "6    Elena        07/07/2024         C         99.99                    1   \n",
       "7     Juan  2024-08-25 14:30         B        180.75                    5   \n",
       "8    Diego  2024-09-30 18:45         C        160.40                    4   \n",
       "9  Valeria        2024-10-10         A        145.60                    3   \n",
       "\n",
       "              comentario       fecha_compra2  \n",
       "0       Excelente compra 2024-01-15 00:00:00  \n",
       "1              muy bueno 2024-02-15 00:00:00  \n",
       "2  Regular, esperaba más 2024-03-10 00:00:00  \n",
       "3                   malo 2024-10-04 00:00:00  \n",
       "4              excelente 2024-05-05 00:00:00  \n",
       "5                   Malo 2024-06-20 00:00:00  \n",
       "6          Buena calidad 2024-07-07 00:00:00  \n",
       "7              excelente 2024-08-25 14:30:00  \n",
       "8            no está mal 2024-09-30 18:45:00  \n",
       "9                REGULAR 2024-10-10 00:00:00  "
      ]
     },
     "execution_count": 26,
     "metadata": {},
     "output_type": "execute_result"
    }
   ],
   "source": [
    "df"
   ]
  },
  {
   "cell_type": "markdown",
   "metadata": {},
   "source": [
    "# Operaciones con NP.WHERE"
   ]
  },
  {
   "cell_type": "markdown",
   "metadata": {
    "id": "byogjAHL3cFn"
   },
   "source": [
    "La función np.where() de NumPy permite aplicar una condición lógica sobre una columna y asignar diferentes valores según si la condición es verdadera o falsa.\n",
    "\n",
    "Esto significa:\n",
    "\n",
    "* Si el valor de \"productos_comprados\" es mayor que 3 → se asigna \"Muchos\".\n",
    "* Si no lo es → se asigna \"Pocos\".\n",
    "\n"
   ]
  },
  {
   "cell_type": "code",
   "execution_count": 28,
   "metadata": {
    "colab": {
     "base_uri": "https://localhost:8080/",
     "height": 397
    },
    "executionInfo": {
     "elapsed": 305,
     "status": "ok",
     "timestamp": 1739489243685,
     "user": {
      "displayName": "Eliecer Peña",
      "userId": "02602848399439478733"
     },
     "user_tz": 180
    },
    "id": "ub2Da8oJ3llr",
    "outputId": "d715aacc-0129-4429-bf38-ca0da973d952"
   },
   "outputs": [
    {
     "data": {
      "text/plain": [
       "0     Pocos\n",
       "1     Pocos\n",
       "2    Muchos\n",
       "3     Pocos\n",
       "4     Pocos\n",
       "5     Pocos\n",
       "6     Pocos\n",
       "7    Muchos\n",
       "8    Muchos\n",
       "9     Pocos\n",
       "Name: tipo_espera, dtype: object"
      ]
     },
     "execution_count": 28,
     "metadata": {},
     "output_type": "execute_result"
    }
   ],
   "source": [
    "import numpy as np\n",
    "df[\"tipo_espera\"] = np.where(df[\"productos_comprados\"] > 3, \"Muchos\", \"Pocos\")\n",
    "df[\"tipo_espera\"]"
   ]
  },
  {
   "cell_type": "markdown",
   "metadata": {
    "id": "_CAnxkOjvf1o"
   },
   "source": [
    "# Operaciones con cut"
   ]
  },
  {
   "cell_type": "code",
   "execution_count": 29,
   "metadata": {
    "colab": {
     "base_uri": "https://localhost:8080/",
     "height": 397
    },
    "executionInfo": {
     "elapsed": 45,
     "status": "ok",
     "timestamp": 1749783648305,
     "user": {
      "displayName": "Eliecer Peña",
      "userId": "02602848399439478733"
     },
     "user_tz": 240
    },
    "id": "zpNjpZrQpACE",
    "outputId": "549beb0f-34df-4224-9f1a-dc89dac6b8a3"
   },
   "outputs": [
    {
     "data": {
      "text/plain": [
       "0    150.50\n",
       "1     80.75\n",
       "2    220.30\n",
       "3     95.00\n",
       "4    110.20\n",
       "5    135.00\n",
       "6     99.99\n",
       "7    180.75\n",
       "8    160.40\n",
       "9    145.60\n",
       "Name: monto_compra, dtype: float64"
      ]
     },
     "execution_count": 29,
     "metadata": {},
     "output_type": "execute_result"
    }
   ],
   "source": [
    "df[\"monto_compra\"]"
   ]
  },
  {
   "cell_type": "markdown",
   "metadata": {
    "id": "oEx92m0wpEA8"
   },
   "source": [
    "bins=[0, 100, 170, float(\"inf\")]\n",
    "* Entre 0 y 100         --> Bajo\n",
    "* Entre 100 y 170       --> Medio\n",
    "* Entre 170 e infinito  --> Alto"
   ]
  },
  {
   "cell_type": "code",
   "execution_count": 30,
   "metadata": {
    "colab": {
     "base_uri": "https://localhost:8080/",
     "height": 363
    },
    "executionInfo": {
     "elapsed": 49,
     "status": "ok",
     "timestamp": 1749783809539,
     "user": {
      "displayName": "Eliecer Peña",
      "userId": "02602848399439478733"
     },
     "user_tz": 240
    },
    "id": "1-GKGLwntABJ",
    "outputId": "2d7d5509-6bbe-4f52-8043-ec45f174d438"
   },
   "outputs": [
    {
     "data": {
      "text/html": [
       "<div>\n",
       "<style scoped>\n",
       "    .dataframe tbody tr th:only-of-type {\n",
       "        vertical-align: middle;\n",
       "    }\n",
       "\n",
       "    .dataframe tbody tr th {\n",
       "        vertical-align: top;\n",
       "    }\n",
       "\n",
       "    .dataframe thead th {\n",
       "        text-align: right;\n",
       "    }\n",
       "</style>\n",
       "<table border=\"1\" class=\"dataframe\">\n",
       "  <thead>\n",
       "    <tr style=\"text-align: right;\">\n",
       "      <th></th>\n",
       "      <th>rango_gasto</th>\n",
       "      <th>monto_compra</th>\n",
       "    </tr>\n",
       "  </thead>\n",
       "  <tbody>\n",
       "    <tr>\n",
       "      <th>0</th>\n",
       "      <td>Medio</td>\n",
       "      <td>150.50</td>\n",
       "    </tr>\n",
       "    <tr>\n",
       "      <th>1</th>\n",
       "      <td>Bajo</td>\n",
       "      <td>80.75</td>\n",
       "    </tr>\n",
       "    <tr>\n",
       "      <th>2</th>\n",
       "      <td>Alto</td>\n",
       "      <td>220.30</td>\n",
       "    </tr>\n",
       "    <tr>\n",
       "      <th>3</th>\n",
       "      <td>Bajo</td>\n",
       "      <td>95.00</td>\n",
       "    </tr>\n",
       "    <tr>\n",
       "      <th>4</th>\n",
       "      <td>Medio</td>\n",
       "      <td>110.20</td>\n",
       "    </tr>\n",
       "    <tr>\n",
       "      <th>5</th>\n",
       "      <td>Medio</td>\n",
       "      <td>135.00</td>\n",
       "    </tr>\n",
       "    <tr>\n",
       "      <th>6</th>\n",
       "      <td>Bajo</td>\n",
       "      <td>99.99</td>\n",
       "    </tr>\n",
       "    <tr>\n",
       "      <th>7</th>\n",
       "      <td>Alto</td>\n",
       "      <td>180.75</td>\n",
       "    </tr>\n",
       "    <tr>\n",
       "      <th>8</th>\n",
       "      <td>Medio</td>\n",
       "      <td>160.40</td>\n",
       "    </tr>\n",
       "    <tr>\n",
       "      <th>9</th>\n",
       "      <td>Medio</td>\n",
       "      <td>145.60</td>\n",
       "    </tr>\n",
       "  </tbody>\n",
       "</table>\n",
       "</div>"
      ],
      "text/plain": [
       "  rango_gasto  monto_compra\n",
       "0       Medio        150.50\n",
       "1        Bajo         80.75\n",
       "2        Alto        220.30\n",
       "3        Bajo         95.00\n",
       "4       Medio        110.20\n",
       "5       Medio        135.00\n",
       "6        Bajo         99.99\n",
       "7        Alto        180.75\n",
       "8       Medio        160.40\n",
       "9       Medio        145.60"
      ]
     },
     "execution_count": 30,
     "metadata": {},
     "output_type": "execute_result"
    }
   ],
   "source": [
    "df[\"rango_gasto\"] = pd.cut(df[\"monto_compra\"],\n",
    "                           bins=[0, 100, 170, float(\"inf\")],\n",
    "                           labels=[\"Bajo\", \"Medio\", \"Alto\"])\n",
    "df[[\"rango_gasto\",\"monto_compra\"]]\n",
    "\n"
   ]
  },
  {
   "cell_type": "code",
   "execution_count": 31,
   "metadata": {
    "colab": {
     "base_uri": "https://localhost:8080/",
     "height": 363
    },
    "executionInfo": {
     "elapsed": 114,
     "status": "ok",
     "timestamp": 1749785931727,
     "user": {
      "displayName": "Eliecer Peña",
      "userId": "02602848399439478733"
     },
     "user_tz": 240
    },
    "id": "Og0qZj6Bnxpn",
    "outputId": "ec83e47d-4bd6-437c-b08e-5cfee06b2595"
   },
   "outputs": [
    {
     "data": {
      "text/html": [
       "<div>\n",
       "<style scoped>\n",
       "    .dataframe tbody tr th:only-of-type {\n",
       "        vertical-align: middle;\n",
       "    }\n",
       "\n",
       "    .dataframe tbody tr th {\n",
       "        vertical-align: top;\n",
       "    }\n",
       "\n",
       "    .dataframe thead th {\n",
       "        text-align: right;\n",
       "    }\n",
       "</style>\n",
       "<table border=\"1\" class=\"dataframe\">\n",
       "  <thead>\n",
       "    <tr style=\"text-align: right;\">\n",
       "      <th></th>\n",
       "      <th>rango_gasto_numerico</th>\n",
       "      <th>monto_compra</th>\n",
       "    </tr>\n",
       "  </thead>\n",
       "  <tbody>\n",
       "    <tr>\n",
       "      <th>0</th>\n",
       "      <td>1</td>\n",
       "      <td>150.50</td>\n",
       "    </tr>\n",
       "    <tr>\n",
       "      <th>1</th>\n",
       "      <td>0</td>\n",
       "      <td>80.75</td>\n",
       "    </tr>\n",
       "    <tr>\n",
       "      <th>2</th>\n",
       "      <td>2</td>\n",
       "      <td>220.30</td>\n",
       "    </tr>\n",
       "    <tr>\n",
       "      <th>3</th>\n",
       "      <td>0</td>\n",
       "      <td>95.00</td>\n",
       "    </tr>\n",
       "    <tr>\n",
       "      <th>4</th>\n",
       "      <td>1</td>\n",
       "      <td>110.20</td>\n",
       "    </tr>\n",
       "    <tr>\n",
       "      <th>5</th>\n",
       "      <td>1</td>\n",
       "      <td>135.00</td>\n",
       "    </tr>\n",
       "    <tr>\n",
       "      <th>6</th>\n",
       "      <td>0</td>\n",
       "      <td>99.99</td>\n",
       "    </tr>\n",
       "    <tr>\n",
       "      <th>7</th>\n",
       "      <td>2</td>\n",
       "      <td>180.75</td>\n",
       "    </tr>\n",
       "    <tr>\n",
       "      <th>8</th>\n",
       "      <td>1</td>\n",
       "      <td>160.40</td>\n",
       "    </tr>\n",
       "    <tr>\n",
       "      <th>9</th>\n",
       "      <td>1</td>\n",
       "      <td>145.60</td>\n",
       "    </tr>\n",
       "  </tbody>\n",
       "</table>\n",
       "</div>"
      ],
      "text/plain": [
       "   rango_gasto_numerico  monto_compra\n",
       "0                     1        150.50\n",
       "1                     0         80.75\n",
       "2                     2        220.30\n",
       "3                     0         95.00\n",
       "4                     1        110.20\n",
       "5                     1        135.00\n",
       "6                     0         99.99\n",
       "7                     2        180.75\n",
       "8                     1        160.40\n",
       "9                     1        145.60"
      ]
     },
     "execution_count": 31,
     "metadata": {},
     "output_type": "execute_result"
    }
   ],
   "source": [
    "df[\"rango_gasto_numerico\"] = pd.cut(df[\"monto_compra\"],\n",
    "                           [0.1, 100, 170, float(\"inf\")],\n",
    "                           labels=False,right=False )\n",
    "df[[\"rango_gasto_numerico\",\"monto_compra\"]]"
   ]
  },
  {
   "cell_type": "code",
   "execution_count": 32,
   "metadata": {
    "colab": {
     "base_uri": "https://localhost:8080/",
     "height": 339
    },
    "executionInfo": {
     "elapsed": 69,
     "status": "error",
     "timestamp": 1749786059480,
     "user": {
      "displayName": "Eliecer Peña",
      "userId": "02602848399439478733"
     },
     "user_tz": 240
    },
    "id": "kox6oUctXsYA",
    "outputId": "b3b96716-a1ce-4036-fb03-27ca9b0f9a82"
   },
   "outputs": [
    {
     "data": {
      "text/html": [
       "<div>\n",
       "<style scoped>\n",
       "    .dataframe tbody tr th:only-of-type {\n",
       "        vertical-align: middle;\n",
       "    }\n",
       "\n",
       "    .dataframe tbody tr th {\n",
       "        vertical-align: top;\n",
       "    }\n",
       "\n",
       "    .dataframe thead th {\n",
       "        text-align: right;\n",
       "    }\n",
       "</style>\n",
       "<table border=\"1\" class=\"dataframe\">\n",
       "  <thead>\n",
       "    <tr style=\"text-align: right;\">\n",
       "      <th></th>\n",
       "      <th>rango_gasto_numerico</th>\n",
       "      <th>monto_compra</th>\n",
       "    </tr>\n",
       "  </thead>\n",
       "  <tbody>\n",
       "    <tr>\n",
       "      <th>0</th>\n",
       "      <td>2.0</td>\n",
       "      <td>150.50</td>\n",
       "    </tr>\n",
       "    <tr>\n",
       "      <th>1</th>\n",
       "      <td>1.0</td>\n",
       "      <td>80.75</td>\n",
       "    </tr>\n",
       "    <tr>\n",
       "      <th>2</th>\n",
       "      <td>3.0</td>\n",
       "      <td>220.30</td>\n",
       "    </tr>\n",
       "    <tr>\n",
       "      <th>3</th>\n",
       "      <td>1.0</td>\n",
       "      <td>95.00</td>\n",
       "    </tr>\n",
       "    <tr>\n",
       "      <th>4</th>\n",
       "      <td>2.0</td>\n",
       "      <td>110.20</td>\n",
       "    </tr>\n",
       "    <tr>\n",
       "      <th>5</th>\n",
       "      <td>2.0</td>\n",
       "      <td>135.00</td>\n",
       "    </tr>\n",
       "    <tr>\n",
       "      <th>6</th>\n",
       "      <td>1.0</td>\n",
       "      <td>99.99</td>\n",
       "    </tr>\n",
       "    <tr>\n",
       "      <th>7</th>\n",
       "      <td>3.0</td>\n",
       "      <td>180.75</td>\n",
       "    </tr>\n",
       "    <tr>\n",
       "      <th>8</th>\n",
       "      <td>2.0</td>\n",
       "      <td>160.40</td>\n",
       "    </tr>\n",
       "    <tr>\n",
       "      <th>9</th>\n",
       "      <td>2.0</td>\n",
       "      <td>145.60</td>\n",
       "    </tr>\n",
       "  </tbody>\n",
       "</table>\n",
       "</div>"
      ],
      "text/plain": [
       "   rango_gasto_numerico  monto_compra\n",
       "0                   2.0        150.50\n",
       "1                   1.0         80.75\n",
       "2                   3.0        220.30\n",
       "3                   1.0         95.00\n",
       "4                   2.0        110.20\n",
       "5                   2.0        135.00\n",
       "6                   1.0         99.99\n",
       "7                   3.0        180.75\n",
       "8                   2.0        160.40\n",
       "9                   2.0        145.60"
      ]
     },
     "execution_count": 32,
     "metadata": {},
     "output_type": "execute_result"
    }
   ],
   "source": [
    "df[\"rango_gasto_numerico\"] = pd.cut(df[\"monto_compra\"],\n",
    "                                     [0.1, 100, 170, float(\"inf\")],\n",
    "                                     labels=[\"1\", \"2\", \"3\"])\n",
    "\n",
    "df[\"rango_gasto_numerico\"] = df[\"rango_gasto_numerico\"].astype(float)\n",
    "\n",
    "df[[\"rango_gasto_numerico\",\"monto_compra\"]]"
   ]
  },
  {
   "cell_type": "code",
   "execution_count": 33,
   "metadata": {
    "colab": {
     "base_uri": "https://localhost:8080/",
     "height": 492
    },
    "executionInfo": {
     "elapsed": 41,
     "status": "ok",
     "timestamp": 1749785933894,
     "user": {
      "displayName": "Eliecer Peña",
      "userId": "02602848399439478733"
     },
     "user_tz": 240
    },
    "id": "4MkOueXrvejA",
    "outputId": "0e70f34b-a266-4a95-d40a-0c91915d47d5"
   },
   "outputs": [
    {
     "data": {
      "text/plain": [
       "nombre                          object\n",
       "fecha_compra                    object\n",
       "categoria                       object\n",
       "monto_compra                   float64\n",
       "productos_comprados              int64\n",
       "comentario                      object\n",
       "fecha_compra2           datetime64[ns]\n",
       "tipo_espera                     object\n",
       "rango_gasto                   category\n",
       "rango_gasto_numerico           float64\n",
       "dtype: object"
      ]
     },
     "execution_count": 33,
     "metadata": {},
     "output_type": "execute_result"
    }
   ],
   "source": [
    "df.dtypes"
   ]
  },
  {
   "cell_type": "code",
   "execution_count": 34,
   "metadata": {
    "colab": {
     "base_uri": "https://localhost:8080/",
     "height": 241
    },
    "executionInfo": {
     "elapsed": 28,
     "status": "ok",
     "timestamp": 1749785905950,
     "user": {
      "displayName": "Eliecer Peña",
      "userId": "02602848399439478733"
     },
     "user_tz": 240
    },
    "id": "c3xsCXumXfUE",
    "outputId": "eb5c11fb-006b-4cfd-d1e8-f7192042e363"
   },
   "outputs": [
    {
     "data": {
      "text/plain": [
       "a     2\n",
       "b     4\n",
       "c     6\n",
       "d     8\n",
       "e    10\n",
       "dtype: int64"
      ]
     },
     "execution_count": 34,
     "metadata": {},
     "output_type": "execute_result"
    }
   ],
   "source": [
    "s = pd.Series(np.array([2, 4, 6, 8, 10]), index=['a', 'b', 'c', 'd', 'e'])\n",
    "s"
   ]
  },
  {
   "cell_type": "code",
   "execution_count": 35,
   "metadata": {
    "colab": {
     "base_uri": "https://localhost:8080/"
    },
    "executionInfo": {
     "elapsed": 39,
     "status": "ok",
     "timestamp": 1749786134679,
     "user": {
      "displayName": "Eliecer Peña",
      "userId": "02602848399439478733"
     },
     "user_tz": 240
    },
    "id": "41AE7MPkXbCm",
    "outputId": "8eb12e2d-c16e-4e2b-9285-080ca0400b1d"
   },
   "outputs": [
    {
     "data": {
      "text/plain": [
       "(0    1\n",
       " 1    0\n",
       " 2    2\n",
       " 3    0\n",
       " 4    1\n",
       " 5    1\n",
       " 6    0\n",
       " 7    1\n",
       " 8    1\n",
       " 9    1\n",
       " Name: monto_compra, dtype: int64,\n",
       " array([1.e-01, 1.e+02, 2.e+02, 3.e+02, 4.e+02, 5.e+02]))"
      ]
     },
     "execution_count": 35,
     "metadata": {},
     "output_type": "execute_result"
    }
   ],
   "source": [
    "\n",
    "# pd.cut(s, [0, 2, 4, 6, 8, 10], labels=False, retbins=True, right=False)\n",
    "\n",
    "a = pd.cut(df[\"monto_compra\"],[0.1, 100, 200, 300, 400,500],labels=False, retbins=True, right=False )\n",
    "a"
   ]
  },
  {
   "cell_type": "markdown",
   "metadata": {
    "id": "Z-ajYQk3zhMk"
   },
   "source": [
    "## One Hot Encoding"
   ]
  },
  {
   "cell_type": "markdown",
   "metadata": {
    "id": "UVM47VFd_jGa"
   },
   "source": [
    "### Propiedades de `pd.get_dummies()`\n",
    "\n",
    "`pd.get_dummies()` es una función de Pandas que permite transformar columnas categóricas en representaciones numéricas binarias. A continuación, se explican sus parámetros principales:\n",
    "\n",
    "### 📌 **Parámetros principales**\n",
    "\n",
    "1. **`data`** (obligatorio)  \n",
    "   - Es el DataFrame o la Serie que contiene las columnas categóricas que queremos codificar.\n",
    "\n",
    "2. **`columns`** (opcional)  \n",
    "   - Lista de nombres de columnas que queremos transformar.  \n",
    "   - Si no se especifica, convierte **todas** las columnas categóricas.\n",
    "\n",
    "3. **`drop_first`** (opcional, `False` por defecto)  \n",
    "   - Si `True`, elimina una categoría por cada columna para evitar **multicolinealidad**.  \n",
    "   - Si `False`, mantiene todas las categorías.\n",
    "\n",
    "4. **`dtype`** (opcional, `np.uint8` o `int` recomendado)  \n",
    "   - Especifica el tipo de dato de las nuevas columnas binarias.  \n",
    "   - Puede ayudar a **optimizar memoria** si usamos `dtype=\"uint8\"` en lugar de `int64`.\n",
    "\n",
    "5. **`prefix`** (opcional)  \n",
    "   - Agrega un prefijo a los nombres de las nuevas columnas.  \n",
    "   - Puede ser una lista o un diccionario `{columna: prefijo}`.\n",
    "\n",
    "6. **`prefix_sep`** (opcional, por defecto `_`)  \n",
    "   - Define el separador entre el prefijo y el nombre de la categoría.\n",
    "\n",
    "7. **`dummy_na`** (opcional, `False` por defecto)  \n",
    "   - Si `True`, crea una columna extra para representar valores **NaN** (faltantes).\n",
    "\n",
    "8. **`sparse`** (opcional, `False` por defecto)  \n",
    "   - Si `True`, devuelve una matriz dispersa en lugar de un DataFrame, útil para ahorrar memoria con muchas categorías.\n",
    "\n",
    "---\n"
   ]
  },
  {
   "cell_type": "code",
   "execution_count": 36,
   "metadata": {
    "colab": {
     "base_uri": "https://localhost:8080/",
     "height": 574
    },
    "executionInfo": {
     "elapsed": 114,
     "status": "ok",
     "timestamp": 1749784117923,
     "user": {
      "displayName": "Eliecer Peña",
      "userId": "02602848399439478733"
     },
     "user_tz": 240
    },
    "id": "savRJwDZqr5-",
    "outputId": "5192c25c-56c3-4db3-b140-983b91d84352"
   },
   "outputs": [
    {
     "data": {
      "text/html": [
       "<div>\n",
       "<style scoped>\n",
       "    .dataframe tbody tr th:only-of-type {\n",
       "        vertical-align: middle;\n",
       "    }\n",
       "\n",
       "    .dataframe tbody tr th {\n",
       "        vertical-align: top;\n",
       "    }\n",
       "\n",
       "    .dataframe thead th {\n",
       "        text-align: right;\n",
       "    }\n",
       "</style>\n",
       "<table border=\"1\" class=\"dataframe\">\n",
       "  <thead>\n",
       "    <tr style=\"text-align: right;\">\n",
       "      <th></th>\n",
       "      <th>nombre</th>\n",
       "      <th>fecha_compra</th>\n",
       "      <th>categoria</th>\n",
       "      <th>monto_compra</th>\n",
       "      <th>productos_comprados</th>\n",
       "      <th>comentario</th>\n",
       "      <th>fecha_compra2</th>\n",
       "      <th>tipo_espera</th>\n",
       "      <th>rango_gasto</th>\n",
       "      <th>rango_gasto_numerico</th>\n",
       "    </tr>\n",
       "  </thead>\n",
       "  <tbody>\n",
       "    <tr>\n",
       "      <th>0</th>\n",
       "      <td>Ana</td>\n",
       "      <td>2024-01-15</td>\n",
       "      <td>A</td>\n",
       "      <td>150.50</td>\n",
       "      <td>3</td>\n",
       "      <td>Excelente compra</td>\n",
       "      <td>2024-01-15 00:00:00</td>\n",
       "      <td>Pocos</td>\n",
       "      <td>Medio</td>\n",
       "      <td>2.0</td>\n",
       "    </tr>\n",
       "    <tr>\n",
       "      <th>1</th>\n",
       "      <td>Luis</td>\n",
       "      <td>15/02/2024</td>\n",
       "      <td>B</td>\n",
       "      <td>80.75</td>\n",
       "      <td>1</td>\n",
       "      <td>muy bueno</td>\n",
       "      <td>2024-02-15 00:00:00</td>\n",
       "      <td>Pocos</td>\n",
       "      <td>Bajo</td>\n",
       "      <td>1.0</td>\n",
       "    </tr>\n",
       "    <tr>\n",
       "      <th>2</th>\n",
       "      <td>Pedro</td>\n",
       "      <td>2024-03-10</td>\n",
       "      <td>A</td>\n",
       "      <td>220.30</td>\n",
       "      <td>4</td>\n",
       "      <td>Regular, esperaba más</td>\n",
       "      <td>2024-03-10 00:00:00</td>\n",
       "      <td>Muchos</td>\n",
       "      <td>Alto</td>\n",
       "      <td>3.0</td>\n",
       "    </tr>\n",
       "    <tr>\n",
       "      <th>3</th>\n",
       "      <td>María</td>\n",
       "      <td>10-04-2024</td>\n",
       "      <td>C</td>\n",
       "      <td>95.00</td>\n",
       "      <td>2</td>\n",
       "      <td>malo</td>\n",
       "      <td>2024-10-04 00:00:00</td>\n",
       "      <td>Pocos</td>\n",
       "      <td>Bajo</td>\n",
       "      <td>1.0</td>\n",
       "    </tr>\n",
       "    <tr>\n",
       "      <th>4</th>\n",
       "      <td>Carlos</td>\n",
       "      <td>05-05-2024</td>\n",
       "      <td>B</td>\n",
       "      <td>110.20</td>\n",
       "      <td>2</td>\n",
       "      <td>excelente</td>\n",
       "      <td>2024-05-05 00:00:00</td>\n",
       "      <td>Pocos</td>\n",
       "      <td>Medio</td>\n",
       "      <td>2.0</td>\n",
       "    </tr>\n",
       "    <tr>\n",
       "      <th>5</th>\n",
       "      <td>Sofía</td>\n",
       "      <td>2024/06/20</td>\n",
       "      <td>A</td>\n",
       "      <td>135.00</td>\n",
       "      <td>3</td>\n",
       "      <td>Malo</td>\n",
       "      <td>2024-06-20 00:00:00</td>\n",
       "      <td>Pocos</td>\n",
       "      <td>Medio</td>\n",
       "      <td>2.0</td>\n",
       "    </tr>\n",
       "    <tr>\n",
       "      <th>6</th>\n",
       "      <td>Elena</td>\n",
       "      <td>07/07/2024</td>\n",
       "      <td>C</td>\n",
       "      <td>99.99</td>\n",
       "      <td>1</td>\n",
       "      <td>Buena calidad</td>\n",
       "      <td>2024-07-07 00:00:00</td>\n",
       "      <td>Pocos</td>\n",
       "      <td>Bajo</td>\n",
       "      <td>1.0</td>\n",
       "    </tr>\n",
       "    <tr>\n",
       "      <th>7</th>\n",
       "      <td>Juan</td>\n",
       "      <td>2024-08-25 14:30</td>\n",
       "      <td>B</td>\n",
       "      <td>180.75</td>\n",
       "      <td>5</td>\n",
       "      <td>excelente</td>\n",
       "      <td>2024-08-25 14:30:00</td>\n",
       "      <td>Muchos</td>\n",
       "      <td>Alto</td>\n",
       "      <td>3.0</td>\n",
       "    </tr>\n",
       "    <tr>\n",
       "      <th>8</th>\n",
       "      <td>Diego</td>\n",
       "      <td>2024-09-30 18:45</td>\n",
       "      <td>C</td>\n",
       "      <td>160.40</td>\n",
       "      <td>4</td>\n",
       "      <td>no está mal</td>\n",
       "      <td>2024-09-30 18:45:00</td>\n",
       "      <td>Muchos</td>\n",
       "      <td>Medio</td>\n",
       "      <td>2.0</td>\n",
       "    </tr>\n",
       "    <tr>\n",
       "      <th>9</th>\n",
       "      <td>Valeria</td>\n",
       "      <td>2024-10-10</td>\n",
       "      <td>A</td>\n",
       "      <td>145.60</td>\n",
       "      <td>3</td>\n",
       "      <td>REGULAR</td>\n",
       "      <td>2024-10-10 00:00:00</td>\n",
       "      <td>Pocos</td>\n",
       "      <td>Medio</td>\n",
       "      <td>2.0</td>\n",
       "    </tr>\n",
       "  </tbody>\n",
       "</table>\n",
       "</div>"
      ],
      "text/plain": [
       "    nombre      fecha_compra categoria  monto_compra  productos_comprados  \\\n",
       "0      Ana        2024-01-15         A        150.50                    3   \n",
       "1     Luis        15/02/2024         B         80.75                    1   \n",
       "2    Pedro        2024-03-10         A        220.30                    4   \n",
       "3    María        10-04-2024         C         95.00                    2   \n",
       "4   Carlos        05-05-2024         B        110.20                    2   \n",
       "5    Sofía        2024/06/20         A        135.00                    3   \n",
       "6    Elena        07/07/2024         C         99.99                    1   \n",
       "7     Juan  2024-08-25 14:30         B        180.75                    5   \n",
       "8    Diego  2024-09-30 18:45         C        160.40                    4   \n",
       "9  Valeria        2024-10-10         A        145.60                    3   \n",
       "\n",
       "              comentario       fecha_compra2 tipo_espera rango_gasto  \\\n",
       "0       Excelente compra 2024-01-15 00:00:00       Pocos       Medio   \n",
       "1              muy bueno 2024-02-15 00:00:00       Pocos        Bajo   \n",
       "2  Regular, esperaba más 2024-03-10 00:00:00      Muchos        Alto   \n",
       "3                   malo 2024-10-04 00:00:00       Pocos        Bajo   \n",
       "4              excelente 2024-05-05 00:00:00       Pocos       Medio   \n",
       "5                   Malo 2024-06-20 00:00:00       Pocos       Medio   \n",
       "6          Buena calidad 2024-07-07 00:00:00       Pocos        Bajo   \n",
       "7              excelente 2024-08-25 14:30:00      Muchos        Alto   \n",
       "8            no está mal 2024-09-30 18:45:00      Muchos       Medio   \n",
       "9                REGULAR 2024-10-10 00:00:00       Pocos       Medio   \n",
       "\n",
       "   rango_gasto_numerico  \n",
       "0                   2.0  \n",
       "1                   1.0  \n",
       "2                   3.0  \n",
       "3                   1.0  \n",
       "4                   2.0  \n",
       "5                   2.0  \n",
       "6                   1.0  \n",
       "7                   3.0  \n",
       "8                   2.0  \n",
       "9                   2.0  "
      ]
     },
     "execution_count": 36,
     "metadata": {},
     "output_type": "execute_result"
    }
   ],
   "source": [
    "df"
   ]
  },
  {
   "cell_type": "code",
   "execution_count": 37,
   "metadata": {
    "colab": {
     "base_uri": "https://localhost:8080/",
     "height": 383
    },
    "executionInfo": {
     "elapsed": 312,
     "status": "ok",
     "timestamp": 1739489763912,
     "user": {
      "displayName": "Eliecer Peña",
      "userId": "02602848399439478733"
     },
     "user_tz": 180
    },
    "id": "gNpaTbUazfAz",
    "outputId": "87eb7a49-a51a-4822-82c9-bdfdc7356720"
   },
   "outputs": [
    {
     "data": {
      "text/html": [
       "<div>\n",
       "<style scoped>\n",
       "    .dataframe tbody tr th:only-of-type {\n",
       "        vertical-align: middle;\n",
       "    }\n",
       "\n",
       "    .dataframe tbody tr th {\n",
       "        vertical-align: top;\n",
       "    }\n",
       "\n",
       "    .dataframe thead th {\n",
       "        text-align: right;\n",
       "    }\n",
       "</style>\n",
       "<table border=\"1\" class=\"dataframe\">\n",
       "  <thead>\n",
       "    <tr style=\"text-align: right;\">\n",
       "      <th></th>\n",
       "      <th>categoria_original</th>\n",
       "      <th>categoria_A</th>\n",
       "      <th>categoria_B</th>\n",
       "      <th>categoria_C</th>\n",
       "    </tr>\n",
       "  </thead>\n",
       "  <tbody>\n",
       "    <tr>\n",
       "      <th>0</th>\n",
       "      <td>A</td>\n",
       "      <td>True</td>\n",
       "      <td>False</td>\n",
       "      <td>False</td>\n",
       "    </tr>\n",
       "    <tr>\n",
       "      <th>1</th>\n",
       "      <td>B</td>\n",
       "      <td>False</td>\n",
       "      <td>True</td>\n",
       "      <td>False</td>\n",
       "    </tr>\n",
       "    <tr>\n",
       "      <th>2</th>\n",
       "      <td>A</td>\n",
       "      <td>True</td>\n",
       "      <td>False</td>\n",
       "      <td>False</td>\n",
       "    </tr>\n",
       "    <tr>\n",
       "      <th>3</th>\n",
       "      <td>C</td>\n",
       "      <td>False</td>\n",
       "      <td>False</td>\n",
       "      <td>True</td>\n",
       "    </tr>\n",
       "    <tr>\n",
       "      <th>4</th>\n",
       "      <td>B</td>\n",
       "      <td>False</td>\n",
       "      <td>True</td>\n",
       "      <td>False</td>\n",
       "    </tr>\n",
       "    <tr>\n",
       "      <th>5</th>\n",
       "      <td>A</td>\n",
       "      <td>True</td>\n",
       "      <td>False</td>\n",
       "      <td>False</td>\n",
       "    </tr>\n",
       "    <tr>\n",
       "      <th>6</th>\n",
       "      <td>C</td>\n",
       "      <td>False</td>\n",
       "      <td>False</td>\n",
       "      <td>True</td>\n",
       "    </tr>\n",
       "    <tr>\n",
       "      <th>7</th>\n",
       "      <td>B</td>\n",
       "      <td>False</td>\n",
       "      <td>True</td>\n",
       "      <td>False</td>\n",
       "    </tr>\n",
       "    <tr>\n",
       "      <th>8</th>\n",
       "      <td>C</td>\n",
       "      <td>False</td>\n",
       "      <td>False</td>\n",
       "      <td>True</td>\n",
       "    </tr>\n",
       "    <tr>\n",
       "      <th>9</th>\n",
       "      <td>A</td>\n",
       "      <td>True</td>\n",
       "      <td>False</td>\n",
       "      <td>False</td>\n",
       "    </tr>\n",
       "  </tbody>\n",
       "</table>\n",
       "</div>"
      ],
      "text/plain": [
       "  categoria_original  categoria_A  categoria_B  categoria_C\n",
       "0                  A         True        False        False\n",
       "1                  B        False         True        False\n",
       "2                  A         True        False        False\n",
       "3                  C        False        False         True\n",
       "4                  B        False         True        False\n",
       "5                  A         True        False        False\n",
       "6                  C        False        False         True\n",
       "7                  B        False         True        False\n",
       "8                  C        False        False         True\n",
       "9                  A         True        False        False"
      ]
     },
     "execution_count": 37,
     "metadata": {},
     "output_type": "execute_result"
    }
   ],
   "source": [
    "# Guardamos la columna original categoria en categoria_original, porque get_dummies la borra por defecto\n",
    "df[\"categoria_original\"] = df[\"categoria\"]\n",
    "\n",
    "df = pd.get_dummies(df, columns=[\"categoria\"])\n",
    "\n",
    "#df[[\"rango_gasto\",\"monto_compra\"]]\n",
    "df.filter(like=\"categoria_\")"
   ]
  },
  {
   "cell_type": "code",
   "execution_count": 38,
   "metadata": {
    "colab": {
     "base_uri": "https://localhost:8080/",
     "height": 574
    },
    "executionInfo": {
     "elapsed": 113,
     "status": "ok",
     "timestamp": 1749784160445,
     "user": {
      "displayName": "Eliecer Peña",
      "userId": "02602848399439478733"
     },
     "user_tz": 240
    },
    "id": "1glCNWnqB3Qh",
    "outputId": "64193623-b034-49b0-ef45-32ffe60ac03a"
   },
   "outputs": [
    {
     "data": {
      "text/html": [
       "<div>\n",
       "<style scoped>\n",
       "    .dataframe tbody tr th:only-of-type {\n",
       "        vertical-align: middle;\n",
       "    }\n",
       "\n",
       "    .dataframe tbody tr th {\n",
       "        vertical-align: top;\n",
       "    }\n",
       "\n",
       "    .dataframe thead th {\n",
       "        text-align: right;\n",
       "    }\n",
       "</style>\n",
       "<table border=\"1\" class=\"dataframe\">\n",
       "  <thead>\n",
       "    <tr style=\"text-align: right;\">\n",
       "      <th></th>\n",
       "      <th>nombre</th>\n",
       "      <th>fecha_compra</th>\n",
       "      <th>monto_compra</th>\n",
       "      <th>productos_comprados</th>\n",
       "      <th>comentario</th>\n",
       "      <th>fecha_compra2</th>\n",
       "      <th>tipo_espera</th>\n",
       "      <th>rango_gasto</th>\n",
       "      <th>rango_gasto_numerico</th>\n",
       "      <th>categoria_original</th>\n",
       "      <th>categoria_A</th>\n",
       "      <th>categoria_B</th>\n",
       "      <th>categoria_C</th>\n",
       "    </tr>\n",
       "  </thead>\n",
       "  <tbody>\n",
       "    <tr>\n",
       "      <th>0</th>\n",
       "      <td>Ana</td>\n",
       "      <td>2024-01-15</td>\n",
       "      <td>150.50</td>\n",
       "      <td>3</td>\n",
       "      <td>Excelente compra</td>\n",
       "      <td>2024-01-15 00:00:00</td>\n",
       "      <td>Pocos</td>\n",
       "      <td>Medio</td>\n",
       "      <td>2.0</td>\n",
       "      <td>A</td>\n",
       "      <td>True</td>\n",
       "      <td>False</td>\n",
       "      <td>False</td>\n",
       "    </tr>\n",
       "    <tr>\n",
       "      <th>1</th>\n",
       "      <td>Luis</td>\n",
       "      <td>15/02/2024</td>\n",
       "      <td>80.75</td>\n",
       "      <td>1</td>\n",
       "      <td>muy bueno</td>\n",
       "      <td>2024-02-15 00:00:00</td>\n",
       "      <td>Pocos</td>\n",
       "      <td>Bajo</td>\n",
       "      <td>1.0</td>\n",
       "      <td>B</td>\n",
       "      <td>False</td>\n",
       "      <td>True</td>\n",
       "      <td>False</td>\n",
       "    </tr>\n",
       "    <tr>\n",
       "      <th>2</th>\n",
       "      <td>Pedro</td>\n",
       "      <td>2024-03-10</td>\n",
       "      <td>220.30</td>\n",
       "      <td>4</td>\n",
       "      <td>Regular, esperaba más</td>\n",
       "      <td>2024-03-10 00:00:00</td>\n",
       "      <td>Muchos</td>\n",
       "      <td>Alto</td>\n",
       "      <td>3.0</td>\n",
       "      <td>A</td>\n",
       "      <td>True</td>\n",
       "      <td>False</td>\n",
       "      <td>False</td>\n",
       "    </tr>\n",
       "    <tr>\n",
       "      <th>3</th>\n",
       "      <td>María</td>\n",
       "      <td>10-04-2024</td>\n",
       "      <td>95.00</td>\n",
       "      <td>2</td>\n",
       "      <td>malo</td>\n",
       "      <td>2024-10-04 00:00:00</td>\n",
       "      <td>Pocos</td>\n",
       "      <td>Bajo</td>\n",
       "      <td>1.0</td>\n",
       "      <td>C</td>\n",
       "      <td>False</td>\n",
       "      <td>False</td>\n",
       "      <td>True</td>\n",
       "    </tr>\n",
       "    <tr>\n",
       "      <th>4</th>\n",
       "      <td>Carlos</td>\n",
       "      <td>05-05-2024</td>\n",
       "      <td>110.20</td>\n",
       "      <td>2</td>\n",
       "      <td>excelente</td>\n",
       "      <td>2024-05-05 00:00:00</td>\n",
       "      <td>Pocos</td>\n",
       "      <td>Medio</td>\n",
       "      <td>2.0</td>\n",
       "      <td>B</td>\n",
       "      <td>False</td>\n",
       "      <td>True</td>\n",
       "      <td>False</td>\n",
       "    </tr>\n",
       "    <tr>\n",
       "      <th>5</th>\n",
       "      <td>Sofía</td>\n",
       "      <td>2024/06/20</td>\n",
       "      <td>135.00</td>\n",
       "      <td>3</td>\n",
       "      <td>Malo</td>\n",
       "      <td>2024-06-20 00:00:00</td>\n",
       "      <td>Pocos</td>\n",
       "      <td>Medio</td>\n",
       "      <td>2.0</td>\n",
       "      <td>A</td>\n",
       "      <td>True</td>\n",
       "      <td>False</td>\n",
       "      <td>False</td>\n",
       "    </tr>\n",
       "    <tr>\n",
       "      <th>6</th>\n",
       "      <td>Elena</td>\n",
       "      <td>07/07/2024</td>\n",
       "      <td>99.99</td>\n",
       "      <td>1</td>\n",
       "      <td>Buena calidad</td>\n",
       "      <td>2024-07-07 00:00:00</td>\n",
       "      <td>Pocos</td>\n",
       "      <td>Bajo</td>\n",
       "      <td>1.0</td>\n",
       "      <td>C</td>\n",
       "      <td>False</td>\n",
       "      <td>False</td>\n",
       "      <td>True</td>\n",
       "    </tr>\n",
       "    <tr>\n",
       "      <th>7</th>\n",
       "      <td>Juan</td>\n",
       "      <td>2024-08-25 14:30</td>\n",
       "      <td>180.75</td>\n",
       "      <td>5</td>\n",
       "      <td>excelente</td>\n",
       "      <td>2024-08-25 14:30:00</td>\n",
       "      <td>Muchos</td>\n",
       "      <td>Alto</td>\n",
       "      <td>3.0</td>\n",
       "      <td>B</td>\n",
       "      <td>False</td>\n",
       "      <td>True</td>\n",
       "      <td>False</td>\n",
       "    </tr>\n",
       "    <tr>\n",
       "      <th>8</th>\n",
       "      <td>Diego</td>\n",
       "      <td>2024-09-30 18:45</td>\n",
       "      <td>160.40</td>\n",
       "      <td>4</td>\n",
       "      <td>no está mal</td>\n",
       "      <td>2024-09-30 18:45:00</td>\n",
       "      <td>Muchos</td>\n",
       "      <td>Medio</td>\n",
       "      <td>2.0</td>\n",
       "      <td>C</td>\n",
       "      <td>False</td>\n",
       "      <td>False</td>\n",
       "      <td>True</td>\n",
       "    </tr>\n",
       "    <tr>\n",
       "      <th>9</th>\n",
       "      <td>Valeria</td>\n",
       "      <td>2024-10-10</td>\n",
       "      <td>145.60</td>\n",
       "      <td>3</td>\n",
       "      <td>REGULAR</td>\n",
       "      <td>2024-10-10 00:00:00</td>\n",
       "      <td>Pocos</td>\n",
       "      <td>Medio</td>\n",
       "      <td>2.0</td>\n",
       "      <td>A</td>\n",
       "      <td>True</td>\n",
       "      <td>False</td>\n",
       "      <td>False</td>\n",
       "    </tr>\n",
       "  </tbody>\n",
       "</table>\n",
       "</div>"
      ],
      "text/plain": [
       "    nombre      fecha_compra  monto_compra  productos_comprados  \\\n",
       "0      Ana        2024-01-15        150.50                    3   \n",
       "1     Luis        15/02/2024         80.75                    1   \n",
       "2    Pedro        2024-03-10        220.30                    4   \n",
       "3    María        10-04-2024         95.00                    2   \n",
       "4   Carlos        05-05-2024        110.20                    2   \n",
       "5    Sofía        2024/06/20        135.00                    3   \n",
       "6    Elena        07/07/2024         99.99                    1   \n",
       "7     Juan  2024-08-25 14:30        180.75                    5   \n",
       "8    Diego  2024-09-30 18:45        160.40                    4   \n",
       "9  Valeria        2024-10-10        145.60                    3   \n",
       "\n",
       "              comentario       fecha_compra2 tipo_espera rango_gasto  \\\n",
       "0       Excelente compra 2024-01-15 00:00:00       Pocos       Medio   \n",
       "1              muy bueno 2024-02-15 00:00:00       Pocos        Bajo   \n",
       "2  Regular, esperaba más 2024-03-10 00:00:00      Muchos        Alto   \n",
       "3                   malo 2024-10-04 00:00:00       Pocos        Bajo   \n",
       "4              excelente 2024-05-05 00:00:00       Pocos       Medio   \n",
       "5                   Malo 2024-06-20 00:00:00       Pocos       Medio   \n",
       "6          Buena calidad 2024-07-07 00:00:00       Pocos        Bajo   \n",
       "7              excelente 2024-08-25 14:30:00      Muchos        Alto   \n",
       "8            no está mal 2024-09-30 18:45:00      Muchos       Medio   \n",
       "9                REGULAR 2024-10-10 00:00:00       Pocos       Medio   \n",
       "\n",
       "   rango_gasto_numerico categoria_original  categoria_A  categoria_B  \\\n",
       "0                   2.0                  A         True        False   \n",
       "1                   1.0                  B        False         True   \n",
       "2                   3.0                  A         True        False   \n",
       "3                   1.0                  C        False        False   \n",
       "4                   2.0                  B        False         True   \n",
       "5                   2.0                  A         True        False   \n",
       "6                   1.0                  C        False        False   \n",
       "7                   3.0                  B        False         True   \n",
       "8                   2.0                  C        False        False   \n",
       "9                   2.0                  A         True        False   \n",
       "\n",
       "   categoria_C  \n",
       "0        False  \n",
       "1        False  \n",
       "2        False  \n",
       "3         True  \n",
       "4        False  \n",
       "5        False  \n",
       "6         True  \n",
       "7        False  \n",
       "8         True  \n",
       "9        False  "
      ]
     },
     "execution_count": 38,
     "metadata": {},
     "output_type": "execute_result"
    }
   ],
   "source": [
    "df"
   ]
  }
 ],
 "metadata": {
  "colab": {
   "authorship_tag": "ABX9TyM7prIf+KTco8lXIISrRiMa",
   "provenance": [],
   "toc_visible": true
  },
  "kernelspec": {
   "display_name": "Python 3 (ipykernel)",
   "language": "python",
   "name": "python3"
  },
  "language_info": {
   "codemirror_mode": {
    "name": "ipython",
    "version": 3
   },
   "file_extension": ".py",
   "mimetype": "text/x-python",
   "name": "python",
   "nbconvert_exporter": "python",
   "pygments_lexer": "ipython3",
   "version": "3.13.1"
  }
 },
 "nbformat": 4,
 "nbformat_minor": 4
}
