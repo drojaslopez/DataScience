{
 "cells": [
  {
   "cell_type": "markdown",
   "id": "d6b39942",
   "metadata": {
    "id": "d6b39942"
   },
   "source": [
    "# Funciones – def – en python\n",
    "\n",
    "\n",
    "En Python, una función es un bloque de código organizado y reutilizable que se usa para realizar una tarea específica. Permite dividir el código en partes más pequeñas y manejables, evitando la repetición y facilitando el mantenimiento.\n",
    "\n",
    "Las funciones pueden recibir parámetros de entrada (datos que se procesan dentro de la función) y pueden devolver un resultado con la palabra clave return.\n",
    "* Reutilización de código → Evitan escribir el mismo código varias veces.\n",
    "* Modularidad → Permiten dividir un programa en partes más organizadas.\n",
    "* Legibilidad → Hacen que el código sea más fácil de entender y mantener.\n",
    "* Facilidad de depuración → Si hay un error en el código, es más fácil identificarlo y corregirlo dentro de una función específica.\n",
    "\n",
    "---\n",
    "\n",
    "\n",
    "Las funciones en Python nos permiten organizar el código en bloques reutilizables. Para definir una función usamos la palabra clave def.\n",
    "Piensa en una función como una receta de cocina. Cuando cocinas un pastel, sigues una serie de pasos específicos (ingredientes, mezclas, horneado). En vez de escribir estos pasos cada vez que quieras hacer un pastel, puedes simplemente guardar la receta y usarla cuando la necesites.\n",
    "En programación, una función hace lo mismo: guarda un conjunto de instrucciones para reutilizarlas fácilmente sin repetir código.\n"
   ]
  },
  {
   "cell_type": "code",
   "execution_count": 7,
   "id": "de0655ae-2b2a-4e7c-90b0-ac7b6a809ecc",
   "metadata": {},
   "outputs": [
    {
     "ename": "SyntaxError",
     "evalue": "invalid syntax (3242175541.py, line 3)",
     "output_type": "error",
     "traceback": [
      "\u001b[1;36m  Cell \u001b[1;32mIn[7], line 3\u001b[1;36m\u001b[0m\n\u001b[1;33m    ###\"\"\"Docstring opcional: explica qué hace la función.\"\"\"\u001b[0m\n\u001b[1;37m          ^\u001b[0m\n\u001b[1;31mSyntaxError\u001b[0m\u001b[1;31m:\u001b[0m invalid syntax\n"
     ]
    }
   ],
   "source": [
    "def nombre_funcion(parametros):\n",
    "    \"\"\"Docstring opcional: explica qué hace la función.\"\"\"\n",
    "    # Bloque de código (cuerpo de la función)\n",
    "    # Se pueden hacer operaciones, usar condiciones, bucles, etc.\n",
    "    return valor  # Opcional: devuelve un resultado"
   ]
  },
  {
   "cell_type": "code",
   "execution_count": 4,
   "id": "928ac4b1-9b71-403a-82db-b229771f601b",
   "metadata": {},
   "outputs": [],
   "source": [
    "def sumar(a, b):\n",
    "    \"\"\"Devuelve la suma de dos números.\"\"\"\n",
    "    resultado = a + b\n",
    "    return resultado"
   ]
  },
  {
   "cell_type": "code",
   "execution_count": 5,
   "id": "975522b9-3a83-465d-8bd0-1a8cb652af73",
   "metadata": {},
   "outputs": [
    {
     "name": "stdout",
     "output_type": "stream",
     "text": [
      "8\n"
     ]
    }
   ],
   "source": [
    "total = sumar(5, 3)\n",
    "print(total)  # Imprime: 8"
   ]
  },
  {
   "cell_type": "markdown",
   "id": "9a1244dd-a83f-4dc4-9155-053f2fd9a22b",
   "metadata": {},
   "source": [
    "![descarga.png](data:image/png;base64,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)"
   ]
  },
  {
   "cell_type": "code",
   "execution_count": 3,
   "id": "e346e35e-57e0-4c4e-8ccc-7bc7869bddf2",
   "metadata": {},
   "outputs": [
    {
     "name": "stdin",
     "output_type": "stream",
     "text": [
      "Ingrese el valor de a:  1\n",
      "Ingrese el valor de b:  2\n",
      "Ingrese el valor de c:  1\n"
     ]
    },
    {
     "name": "stdout",
     "output_type": "stream",
     "text": [
      "Solución real: x = -1.0\n"
     ]
    }
   ],
   "source": [
    "import math as mt\n",
    "\n",
    "a = int(input(\"Ingrese el valor de a: \"))\n",
    "b = int(input(\"Ingrese el valor de b: \"))\n",
    "c = int(input(\"Ingrese el valor de c: \"))\n",
    "discrimante = b**2 - 4*a*c\n",
    "\n",
    "def ecuacion_cuadratica(a,b,c):\n",
    "  if discrimante >0:\n",
    "    #Dos soluciones reales\n",
    "   raiz_discrimante= mt.sqrt(discrimante)\n",
    "   x1 = (-b + raiz_discrimante)/(2*a)\n",
    "   x2 = (-b - raiz_discrimante)/(2*a)\n",
    "   return f\"Soluciones reales: x1 = {x1}, x2 = {x2}\"\n",
    "  elif discrimante == 0:\n",
    "    #Una solución real\n",
    "    x = -b/(2*a)\n",
    "    return f\"Solución real: x = {x}\"\n",
    "  else:\n",
    "    #Dos soluciones complejas\n",
    "    raiz_discrimante = mt\n",
    "\n",
    "solucion = ecuacion_cuadratica(a,b,c)\n",
    "print(solucion)"
   ]
  },
  {
   "cell_type": "markdown",
   "id": "705c9ae7-bf6e-419f-a5ee-5e1375096d1b",
   "metadata": {},
   "source": [
    "# Vamos a crear funciones en archivos de editor de texto .py"
   ]
  },
  {
   "cell_type": "markdown",
   "id": "0d219677",
   "metadata": {
    "id": "0d219677"
   },
   "source": [
    "## Si la función está en el mismo archivo, no es necesario importar nada.\n"
   ]
  },
  {
   "cell_type": "code",
   "execution_count": 1,
   "id": "cb904a37",
   "metadata": {
    "id": "cb904a37",
    "outputId": "0b7084ab-39f4-4cc3-d9e5-0670473a723d"
   },
   "outputs": [],
   "source": [
    "# Ejemplo\n"
   ]
  },
  {
   "cell_type": "markdown",
   "id": "cba49651",
   "metadata": {
    "id": "cba49651"
   },
   "source": [
    "## Invocar a una función desde otro archivo"
   ]
  },
  {
   "cell_type": "code",
   "execution_count": 2,
   "id": "ee2ede32",
   "metadata": {
    "id": "ee2ede32",
    "outputId": "f64b0dbd-b6e4-4e38-9ac3-28d71a6384c3"
   },
   "outputs": [],
   "source": [
    "# Importamos las funciones de otros archivos\n",
    "# Tienen que llamarse igual pero ignoramos el .py\n"
   ]
  },
  {
   "cell_type": "markdown",
   "id": "ff294af5",
   "metadata": {
    "id": "ff294af5"
   },
   "source": [
    "Podemos importar varias funciones"
   ]
  },
  {
   "cell_type": "code",
   "execution_count": null,
   "id": "d762eebd",
   "metadata": {
    "id": "d762eebd",
    "outputId": "a9f5fd83-4778-49fc-802d-e723ce5c584e"
   },
   "outputs": [],
   "source": []
  },
  {
   "cell_type": "markdown",
   "id": "21dc5f99",
   "metadata": {
    "id": "21dc5f99"
   },
   "source": [
    "## Si queremos importar funciones específicas, usamos from"
   ]
  },
  {
   "cell_type": "code",
   "execution_count": 3,
   "id": "b7e3975a",
   "metadata": {
    "id": "b7e3975a",
    "outputId": "16a88184-b28e-48a5-99fb-4a794ecb5268"
   },
   "outputs": [],
   "source": [
    "# main.py\n",
    "# Importamos las funciones de otros archivos"
   ]
  },
  {
   "cell_type": "markdown",
   "id": "368a108e",
   "metadata": {
    "id": "368a108e"
   },
   "source": [
    "# Principios DRY"
   ]
  },
  {
   "cell_type": "markdown",
   "id": "83eea258",
   "metadata": {
    "id": "83eea258"
   },
   "source": [
    "El principio DRY proviene de la expresión en inglés “Don’t Repeat Yourself” (“No te repitas”). Es un principio de diseño en programación que recomienda evitar la duplicación de código o lógica. En otras palabras, si una parte del código se repite en varios lugares, deberías abstraerla en una función, clase o módulo reutilizable.Cuando se repite código:\n",
    "\n",
    "* Es más difícil de mantener. Si algo cambia, debes actualizarlo en varios lugares.\n",
    "* Es más propenso a errores.\n",
    "* Se vuelve menos legible y más difícil de depurar."
   ]
  },
  {
   "cell_type": "code",
   "execution_count": 2,
   "id": "fb1378f1",
   "metadata": {
    "id": "fb1378f1",
    "outputId": "e01b8546-3678-4d15-b73e-b777978632b3"
   },
   "outputs": [
    {
     "data": {
      "text/html": [
       "<div>\n",
       "<style scoped>\n",
       "    .dataframe tbody tr th:only-of-type {\n",
       "        vertical-align: middle;\n",
       "    }\n",
       "\n",
       "    .dataframe tbody tr th {\n",
       "        vertical-align: top;\n",
       "    }\n",
       "\n",
       "    .dataframe thead th {\n",
       "        text-align: right;\n",
       "    }\n",
       "</style>\n",
       "<table border=\"1\" class=\"dataframe\">\n",
       "  <thead>\n",
       "    <tr style=\"text-align: right;\">\n",
       "      <th></th>\n",
       "      <th>Ciudad</th>\n",
       "      <th>Ventas</th>\n",
       "    </tr>\n",
       "  </thead>\n",
       "  <tbody>\n",
       "    <tr>\n",
       "      <th>0</th>\n",
       "      <td>Bogotá</td>\n",
       "      <td>100</td>\n",
       "    </tr>\n",
       "    <tr>\n",
       "      <th>1</th>\n",
       "      <td>Bogotá</td>\n",
       "      <td>150</td>\n",
       "    </tr>\n",
       "    <tr>\n",
       "      <th>2</th>\n",
       "      <td>Lima</td>\n",
       "      <td>200</td>\n",
       "    </tr>\n",
       "    <tr>\n",
       "      <th>3</th>\n",
       "      <td>Lima</td>\n",
       "      <td>180</td>\n",
       "    </tr>\n",
       "    <tr>\n",
       "      <th>4</th>\n",
       "      <td>Quito</td>\n",
       "      <td>90</td>\n",
       "    </tr>\n",
       "    <tr>\n",
       "      <th>5</th>\n",
       "      <td>Quito</td>\n",
       "      <td>120</td>\n",
       "    </tr>\n",
       "  </tbody>\n",
       "</table>\n",
       "</div>"
      ],
      "text/plain": [
       "   Ciudad  Ventas\n",
       "0  Bogotá     100\n",
       "1  Bogotá     150\n",
       "2    Lima     200\n",
       "3    Lima     180\n",
       "4   Quito      90\n",
       "5   Quito     120"
      ]
     },
     "execution_count": 2,
     "metadata": {},
     "output_type": "execute_result"
    }
   ],
   "source": [
    "import pandas as pd\n",
    "\n",
    "# Simulamos un DataFrame\n",
    "datos = pd.DataFrame({\n",
    "    'Ciudad': ['Bogotá', 'Bogotá', 'Lima', 'Lima', 'Quito', 'Quito'],\n",
    "    'Ventas': [100, 150, 200, 180, 90, 120]\n",
    "})\n",
    "datos"
   ]
  },
  {
   "cell_type": "markdown",
   "id": "18185f8d",
   "metadata": {
    "id": "18185f8d"
   },
   "source": [
    "Necesitamos calcular la media, mediana y desviación estándar de las ventas en cada ciudad."
   ]
  },
  {
   "cell_type": "code",
   "execution_count": 3,
   "id": "755e61c2",
   "metadata": {
    "id": "755e61c2",
    "outputId": "3070173f-c472-47df-af9d-e18590f403dc"
   },
   "outputs": [
    {
     "name": "stdout",
     "output_type": "stream",
     "text": [
      "Bogotá - Media: 125.0\n",
      "Bogotá - Mediana: 125.0\n",
      "Bogotá - Desviación estándar: 35.35533905932738\n",
      "Lima - Media: 190.0\n",
      "Lima - Mediana: 190.0\n",
      "Lima - Desviación estándar: 14.142135623730951\n",
      "Quito - Media: 105.0\n",
      "Quito - Mediana: 105.0\n",
      "Quito - Desviación estándar: 21.213203435596427\n"
     ]
    }
   ],
   "source": [
    "# Bogotá\n",
    "ventas_bogota = datos[datos['Ciudad'] == 'Bogotá']['Ventas']\n",
    "print(\"Bogotá - Media:\", ventas_bogota.mean())\n",
    "print(\"Bogotá - Mediana:\", ventas_bogota.median())\n",
    "print(\"Bogotá - Desviación estándar:\", ventas_bogota.std())\n",
    "\n",
    "# Lima\n",
    "ventas_lima = datos[datos['Ciudad'] == 'Lima']['Ventas']\n",
    "print(\"Lima - Media:\", ventas_lima.mean())\n",
    "print(\"Lima - Mediana:\", ventas_lima.median())\n",
    "print(\"Lima - Desviación estándar:\", ventas_lima.std())\n",
    "\n",
    "# Quito\n",
    "ventas_quito = datos[datos['Ciudad'] == 'Quito']['Ventas']\n",
    "print(\"Quito - Media:\", ventas_quito.mean())\n",
    "print(\"Quito - Mediana:\", ventas_quito.median())\n",
    "print(\"Quito - Desviación estándar:\", ventas_quito.std())\n"
   ]
  },
  {
   "cell_type": "markdown",
   "id": "749cee1b",
   "metadata": {
    "id": "749cee1b"
   },
   "source": [
    "## Código optimizado con DRY:"
   ]
  },
  {
   "cell_type": "markdown",
   "id": "15f7dab5",
   "metadata": {
    "id": "15f7dab5"
   },
   "source": [
    "## 1"
   ]
  },
  {
   "cell_type": "markdown",
   "id": "9c76d451",
   "metadata": {
    "id": "9c76d451"
   },
   "source": [
    "Cuando definimos una función en Python, los parámetros son la forma de decirle qué datos queremos que procese. Son como “puertas” por donde la función recibe la información necesaria para hacer su trabajo. Por ejemplo, en la función mostrar_estadisticas(df, ciudad), le pasamos:\n",
    "\n",
    "* df: el DataFrame que contiene todos los datos.\n",
    "\n",
    "* ciudad: el nombre de la ciudad sobre la que queremos calcular estadísticas.\n",
    "\n",
    "Así, la función puede adaptarse a diferentes entradas sin cambiar su lógica interna, lo que la hace más reutilizable y eficiente."
   ]
  },
  {
   "cell_type": "code",
   "execution_count": 4,
   "id": "4abcd5d9",
   "metadata": {
    "id": "4abcd5d9",
    "outputId": "2d1df275-8296-4f80-cf3e-ed7a2c314141"
   },
   "outputs": [],
   "source": [
    "# Crear unción para calcular y mostrar estadísticas\n",
    "\n"
   ]
  },
  {
   "cell_type": "markdown",
   "id": "cd38bf48",
   "metadata": {
    "id": "cd38bf48"
   },
   "source": [
    "## 2"
   ]
  },
  {
   "cell_type": "code",
   "execution_count": 5,
   "id": "1626487a",
   "metadata": {
    "id": "1626487a",
    "outputId": "9d82fd4b-ff7a-4734-cc82-4957b3978a8d"
   },
   "outputs": [
    {
     "name": "stdout",
     "output_type": "stream",
     "text": [
      "Norte - Media: 48800.0 Rango: 7000\n",
      "Sur - Media: 39500.0 Rango: 3000\n",
      "Centro - Media: 44500.0 Rango: 3000\n"
     ]
    }
   ],
   "source": [
    "ingresos_norte = [45000, 47000, 49000, 52000, 51000]\n",
    "ingresos_sur = [38000, 39000, 41000, 40000, 39500]\n",
    "ingresos_centro = [43000, 44000, 46000, 45000, 44500]\n",
    "\n",
    "# Cálculos para el norte\n",
    "media_norte = sum(ingresos_norte) / len(ingresos_norte)\n",
    "rango_norte = max(ingresos_norte) - min(ingresos_norte)\n",
    "print(\"Norte - Media:\", media_norte, \"Rango:\", rango_norte)\n",
    "\n",
    "# Cálculos para el sur\n",
    "media_sur = sum(ingresos_sur) / len(ingresos_sur)\n",
    "rango_sur = max(ingresos_sur) - min(ingresos_sur)\n",
    "print(\"Sur - Media:\", media_sur, \"Rango:\", rango_sur)\n",
    "\n",
    "# Cálculos para el centro\n",
    "media_centro = sum(ingresos_centro) / len(ingresos_centro)\n",
    "rango_centro = max(ingresos_centro) - min(ingresos_centro)\n",
    "print(\"Centro - Media:\", media_centro, \"Rango:\", rango_centro)\n"
   ]
  },
  {
   "cell_type": "code",
   "execution_count": 5,
   "id": "21297850",
   "metadata": {
    "id": "21297850",
    "outputId": "8effdc3f-2b24-4a89-d748-f025287a0381"
   },
   "outputs": [],
   "source": [
    "# Crear Función para calcular media y rango\n",
    "\n"
   ]
  }
 ],
 "metadata": {
  "colab": {
   "provenance": []
  },
  "kernelspec": {
   "display_name": "Python 3 (ipykernel)",
   "language": "python",
   "name": "python3"
  },
  "language_info": {
   "codemirror_mode": {
    "name": "ipython",
    "version": 3
   },
   "file_extension": ".py",
   "mimetype": "text/x-python",
   "name": "python",
   "nbconvert_exporter": "python",
   "pygments_lexer": "ipython3",
   "version": "3.13.1"
  }
 },
 "nbformat": 4,
 "nbformat_minor": 5
}
