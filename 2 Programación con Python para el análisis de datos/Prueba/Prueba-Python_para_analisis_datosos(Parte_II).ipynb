{
 "cells": [
  {
   "cell_type": "markdown",
   "id": "26cc96be",
   "metadata": {},
   "source": [
    "# Prueba - Python para el análisis de datos\n",
    "## Daniel Rojas Lopez"
   ]
  },
  {
   "cell_type": "markdown",
   "id": "d24dc6e5",
   "metadata": {},
   "source": [
    "### Ejercicio 1:\n",
    "   1. Genera una función llamada leer_tabla(tabla, engine) y utilízala para leer tablas\n",
    "completas desde la base de datos en dataframes independientes. Utilizando esta\n",
    "función, importa las siguientes tablas:\n",
    "- order\n",
    "- orderdetails\n",
    "- customers\n",
    "- products\n",
    "- employees\n",
    "2. Realiza el cruce entre los DataFrames, asegurándote de utilizar correctamente el\n",
    "parámetro validate para asegurar la integridad referencial.\n",
    "_ 1\n",
    "www.desafiolatam.com\n",
    "3. Agrega las siguientes columnas, considerando su nombre y la fórmula asociada\n",
    "- venta: quantityOrdered*priceEach\n",
    "- costo: quantityOrdered*buyPrice\n",
    "- ganancia: considerando las columnas anteriores\n",
    "4. ¿Cuál fue el total de ventas por línea de productos? Incluye una fila de totales.\n",
    "5. ¿Cuántos clientes distintos hicieron compras?\n",
    "6. ¿Existen clientes que aún no han hecho ninguna compra? ¿Cuántos son?\n",
    "7. Se solicita la creación de dos reportes, que respondan las preguntas dadas\n",
    "● ¿Cuáles fueron los 10 clientes que reportan mayores ventas brutas en dinero durante\n",
    "el año 2005? Genera un DataFrame y guárdalo en una tabla de Postgre llamada\n",
    "top_10_clientes_2005, en la que se especifique el nombre del cliente y su\n",
    "correspondiente venta, costo y ganancia.\n",
    "● ¿Cuál fue el top 10 de artículos más vendidos durante el año 2005? Genera un\n",
    "DataFrame y guárdalo en una tabla de Postgre llamada top_10_productos_2005, en la\n",
    "que se especifique el nombre del producto y su correspondiente venta, costo y\n",
    "ganancia.\n",
    "Para este punto debes aplicar el principio DRY, por lo que se deben utilizar funciones para\n",
    "realizar el filtrado por fechas, generar tablas pivote y escribir tabla en Postgre. Las funciones\n",
    "deben estar en un archivo separado llamado funciones.py y ser importadas al Jupyter\n",
    "Notebook. En este archivo se debe incluir:\n",
    "● Una función que permita filtrar un DataFrame por fechas, indicando dataframe,\n",
    "columna para filtrar, fecha inicio y fecha fin. La función debe retornar un DataFrame.\n",
    "● Una función que permita generar reportes dependiendo de parámetros de entrada\n",
    "como dataframe, filas, columnas, valores y medida (funcion_agrupadora). Utilizar\n",
    "fill_value = 0. Esta función debe retornar un DataFrame pivotado.\n",
    "● Una función que permita escribir en la base de datos a través del guardado de un\n",
    "DataFrame dependiendo de parámetros de entrada como DataFrame, nombre de la\n",
    "tabla, engine y comportamiento en caso de que exista la tabla (if_exists)."
   ]
  },
  {
   "cell_type": "code",
   "execution_count": 8,
   "id": "27329cdd",
   "metadata": {},
   "outputs": [
    {
     "name": "stdout",
     "output_type": "stream",
     "text": [
      "Base de datos conectada exitosamente.\n",
      "Leyendo el archivo SQL...classicmodels.sql\n"
     ]
    },
    {
     "ename": "SyntaxError",
     "evalue": "syntax error at or near \"103\"\nLINE 166: 103 Atelier graphique Schmitt Carine  40.32.2555 54, rue Roy...\n          ^\n",
     "output_type": "error",
     "traceback": [
      "\u001b[31m---------------------------------------------------------------------------\u001b[39m",
      "\u001b[31mSyntaxError\u001b[39m                               Traceback (most recent call last)",
      "\u001b[36mCell\u001b[39m\u001b[36m \u001b[39m\u001b[32mIn[8]\u001b[39m\u001b[32m, line 23\u001b[39m\n\u001b[32m     21\u001b[39m     \u001b[38;5;28mprint\u001b[39m(\u001b[33m\"\u001b[39m\u001b[33mLeyendo el archivo SQL...\u001b[39m\u001b[33m\"\u001b[39m+sql_file_path)  \n\u001b[32m     22\u001b[39m     sql_script = sql_file.read()  \u001b[38;5;66;03m# Lee todo el contenido del archivo SQL\u001b[39;00m\n\u001b[32m---> \u001b[39m\u001b[32m23\u001b[39m     \u001b[43mcursor\u001b[49m\u001b[43m.\u001b[49m\u001b[43mexecute\u001b[49m\u001b[43m(\u001b[49m\u001b[43msql_script\u001b[49m\u001b[43m)\u001b[49m  \u001b[38;5;66;03m# Ejecuta el script\u001b[39;00m\n\u001b[32m     25\u001b[39m conn.commit()  \u001b[38;5;66;03m# Confirma los cambios\u001b[39;00m\n\u001b[32m     26\u001b[39m cursor.close()\n",
      "\u001b[31mSyntaxError\u001b[39m: syntax error at or near \"103\"\nLINE 166: 103 Atelier graphique Schmitt Carine  40.32.2555 54, rue Roy...\n          ^\n"
     ]
    }
   ],
   "source": [
    "import psycopg2\n",
    "import pandas as pd\n",
    "\n",
    "\n",
    "\n",
    "# Conéctate a PostgreSQL (sin especificar una base de datos)\n",
    "conn = psycopg2.connect(database=\"postgres\", #Es el nombre de la base de datos a la que te quieres conectar, postgres es por defecto\n",
    "                            user=\"admDesafio\", #Es el nombre de usuario que tiene permisos para conectarse a esa base de datos.\n",
    "                            password=\"desafio\", \n",
    "                            host=\"localhost\", #Indica dónde está alojada la base de datos. \"localhost\" significa que está en el mismo computador donde estás ejecutando el script de Python.\n",
    "                            port=\"5432\")    \n",
    "print(\"Base de datos conectada exitosamente.\")\n",
    "\n",
    "#cargar el script sql para carga la base de datos\n",
    "cursor = conn.cursor()\n",
    "\n",
    "sql_file_path = \"classicmodels.sql\"\n",
    "\n",
    "# Leer el archivo SQL y ejecutarlo\n",
    "with open(sql_file_path, \"r\", encoding=\"utf-8\") as sql_file:\n",
    "    print(\"Leyendo el archivo SQL...\"+sql_file_path)  \n",
    "    sql_script = sql_file.read()  # Lee todo el contenido del archivo SQL\n",
    "    cursor.execute(sql_script)  # Ejecuta el script\n",
    "\n",
    "conn.commit()  # Confirma los cambios\n",
    "cursor.close()\n",
    "conn.close()\n",
    "\n",
    "print(\"Base de datos 'northwind' importada exitosamente.\")\n",
    "\n",
    "\n",
    "\n",
    "\n",
    "#1. Genera una función llamada leer_tabla(tabla, engine) y utilízala para leer tablas completas desde la base de datos en dataframes independientes. Utilizando esta función, importa las siguientes tablas:\n",
    "#- order\n",
    "#- orderdetails\n",
    "#- customers\n",
    "#- products\n",
    "#- employees\n",
    "\n",
    "\n",
    "\n",
    "\n",
    "# 2. Realiza el cruce entre los DataFrames, asegurándote de utilizar correctamente el parámetro validate para asegurar la integridad referencial.\n",
    "\n",
    "\n",
    "# 3. Agrega las siguientes columnas, considerando su nombre y la fórmula asociada\n",
    "# - venta: quantityOrdered*priceEach\n",
    "# - costo: quantityOrdered*buyPrice\n",
    "# - ganancia: considerando las columnas anteriores\n",
    "# 4. ¿Cuál fue el total de ventas por línea de productos? Incluye una fila de totales.\n",
    "# 5. ¿Cuántos clientes distintos hicieron compras?\n",
    "# 6. ¿Existen clientes que aún no han hecho ninguna compra? ¿Cuántos son?\n",
    "# 7. Se solicita la creación de dos reportes, que respondan las preguntas dadas\n",
    "# ● ¿Cuáles fueron los 10 clientes que reportan mayores ventas brutas en dinero durante el año 2005? Genera un DataFrame y guárdalo en una tabla de Postgre llamada top_10_clientes_2005, en la que se especifique el nombre del cliente y su correspondiente venta, costo y ganancia.\n",
    "# ● ¿Cuál fue el top 10 de artículos más vendidos durante el año 2005? Genera un DataFrame y guárdalo en una tabla de Postgre llamada top_10_prod   uctos_2005, en la que se especifique el nombre del producto y su correspondiente venta, costo y ganancia.  Para este punto debes aplicar el principio DRY, por lo que se deben utilizar funciones parrealizar el filtrado por fechas, generar tablas pivote y escribir tabla en Postgre. Las funciones deben estar en un archivo separado llamado funciones.py y ser importadas al Jupyter Notebook. En este archivo se debe incluir:\n",
    "# ● Una función que permita filtrar un DataFrame por fechas, indicando dataframe, columna para filtrar, fecha inicio y fecha fin. La función debe retornar un DataFrame.\n",
    "# ● Una función que permita generar reportes dependiendo de parámetros de entrada como dataframe, filas, columnas, valores y medida (funcion_agrupadora). Utilizar fill_value = 0. Esta función debe retornar un DataFrame pivotado.\n",
    "# ● Una función que permita escribir en la base de datos a través del guardado de un DataFrame dependiendo de parámetros de entrada como DataFrame, nombre de la tabla, engine y comportamiento en caso de que exista la tabla (if_exists).\n",
    "\n",
    "\n",
    "\n"
   ]
  }
 ],
 "metadata": {
  "kernelspec": {
   "display_name": "Python 3",
   "language": "python",
   "name": "python3"
  },
  "language_info": {
   "codemirror_mode": {
    "name": "ipython",
    "version": 3
   },
   "file_extension": ".py",
   "mimetype": "text/x-python",
   "name": "python",
   "nbconvert_exporter": "python",
   "pygments_lexer": "ipython3",
   "version": "3.13.7"
  }
 },
 "nbformat": 4,
 "nbformat_minor": 5
}
