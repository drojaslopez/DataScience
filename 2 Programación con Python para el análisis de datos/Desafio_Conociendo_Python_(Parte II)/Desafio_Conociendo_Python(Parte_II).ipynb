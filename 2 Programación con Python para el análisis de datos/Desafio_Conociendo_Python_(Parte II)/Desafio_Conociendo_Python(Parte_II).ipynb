{
 "cells": [
  {
   "cell_type": "markdown",
   "id": "26cc96be",
   "metadata": {},
   "source": [
    "# Desafio Conociendo Python II\n",
    "Daniel Rojas Lopez"
   ]
  },
  {
   "cell_type": "markdown",
   "id": "ac623a11",
   "metadata": {},
   "source": [
    "### Ejercicio 1: Suma de números pares\n",
    "Escribe un programa que pida al usuario dos números enteros y calcule la suma de\n",
    "todos los números pares entre ellos. El programa deberá imprimir el resultado. (hint:\n",
    "utilice la función range() para generar la secuencia de números enteros)"
   ]
  },
  {
   "cell_type": "code",
   "execution_count": 32,
   "id": "d23b508b",
   "metadata": {},
   "outputs": [
    {
     "ename": "ValueError",
     "evalue": "invalid literal for int() with base 10: ''",
     "output_type": "error",
     "traceback": [
      "\u001b[31m---------------------------------------------------------------------------\u001b[39m",
      "\u001b[31mValueError\u001b[39m                                Traceback (most recent call last)",
      "\u001b[36mCell\u001b[39m\u001b[36m \u001b[39m\u001b[32mIn[32]\u001b[39m\u001b[32m, line 2\u001b[39m\n\u001b[32m      1\u001b[39m \u001b[38;5;66;03m# Pedir al usuario dos números enteros\u001b[39;00m\n\u001b[32m----> \u001b[39m\u001b[32m2\u001b[39m num1 = \u001b[38;5;28;43mint\u001b[39;49m\u001b[43m(\u001b[49m\u001b[38;5;28;43minput\u001b[39;49m\u001b[43m(\u001b[49m\u001b[33;43m\"\u001b[39;49m\u001b[33;43mIngrese el primer número entero: \u001b[39;49m\u001b[33;43m\"\u001b[39;49m\u001b[43m)\u001b[49m\u001b[43m)\u001b[49m\n\u001b[32m      3\u001b[39m num2 = \u001b[38;5;28mint\u001b[39m(\u001b[38;5;28minput\u001b[39m(\u001b[33m\"\u001b[39m\u001b[33mIngrese el segundo número entero: \u001b[39m\u001b[33m\"\u001b[39m))\n\u001b[32m      5\u001b[39m \u001b[38;5;66;03m# Determinar el rango correcto (de menor a mayor)\u001b[39;00m\n",
      "\u001b[31mValueError\u001b[39m: invalid literal for int() with base 10: ''"
     ]
    }
   ],
   "source": [
    "# Pedir al usuario dos números enteros\n",
    "num1 = int(input(\"Ingrese el primer número entero: \"))\n",
    "num2 = int(input(\"Ingrese el segundo número entero: \"))\n",
    "\n",
    "# Determinar el rango correcto (de menor a mayor)\n",
    "inicio = min(num1, num2)\n",
    "fin = max(num1, num2)\n",
    "\n",
    "# Calcular la suma de números pares en el rango\n",
    "suma_pares = 0\n",
    "for numero in range(inicio, fin + 1):\n",
    "    if numero % 2 == 0:  # Verificar si el número es par\n",
    "        print(numero)\n",
    "        suma_pares += numero\n",
    "\n",
    "# Imprimir el resultado\n",
    "print(f\"La suma de los números pares entre {num1} y {num2} es: {suma_pares}\")\n"
   ]
  },
  {
   "cell_type": "markdown",
   "id": "6bc392b0",
   "metadata": {},
   "source": [
    "### Ejercicio 2: Calculadora de áreas\n",
    "Escribe un programa que pida al usuario el tipo de figura geométrica de la que quiere\n",
    "calcular el área (cuadrado, triángulo o círculo) y las medidas correspondientes. El\n",
    "programa deberá calcular y mostrar el área de la figura seleccionada. (hint: para\n",
    "obtener el número pi puedes utilizar la librería math)"
   ]
  },
  {
   "cell_type": "code",
   "execution_count": 23,
   "id": "99f8d3e4",
   "metadata": {},
   "outputs": [
    {
     "name": "stdout",
     "output_type": "stream",
     "text": [
      "Calculadora de Áreas\n",
      "Figuras disponibles: cuadrado -> 1, triángulo -> 2, círculo -> 3\n"
     ]
    },
    {
     "ename": "ValueError",
     "evalue": "invalid literal for int() with base 10: ''",
     "output_type": "error",
     "traceback": [
      "\u001b[31m---------------------------------------------------------------------------\u001b[39m",
      "\u001b[31mValueError\u001b[39m                                Traceback (most recent call last)",
      "\u001b[36mCell\u001b[39m\u001b[36m \u001b[39m\u001b[32mIn[23]\u001b[39m\u001b[32m, line 7\u001b[39m\n\u001b[32m      4\u001b[39m \u001b[38;5;28mprint\u001b[39m(\u001b[33m\"\u001b[39m\u001b[33mFiguras disponibles: cuadrado -> 1, triángulo -> 2, círculo -> 3\u001b[39m\u001b[33m\"\u001b[39m)\n\u001b[32m      6\u001b[39m \u001b[38;5;66;03m# Pedir al usuario el tipo de figura\u001b[39;00m\n\u001b[32m----> \u001b[39m\u001b[32m7\u001b[39m figura = \u001b[38;5;28;43mint\u001b[39;49m\u001b[43m(\u001b[49m\u001b[38;5;28;43minput\u001b[39;49m\u001b[43m(\u001b[49m\u001b[33;43m\"\u001b[39;49m\u001b[33;43mIngrese el tipo de figura geométrica: \u001b[39;49m\u001b[33;43m\"\u001b[39;49m\u001b[43m)\u001b[49m\u001b[43m)\u001b[49m\n\u001b[32m      9\u001b[39m \u001b[38;5;28mprint\u001b[39m(\u001b[33m\"\u001b[39m\u001b[33mFigura seleccionada: \u001b[39m\u001b[33m\"\u001b[39m + \u001b[38;5;28mstr\u001b[39m(figura))\n\u001b[32m     10\u001b[39m \u001b[38;5;66;03m# Calcular el área según la figura seleccionada\u001b[39;00m\n",
      "\u001b[31mValueError\u001b[39m: invalid literal for int() with base 10: ''"
     ]
    }
   ],
   "source": [
    "import math\n",
    "\n",
    "print(\"Calculadora de Áreas\")\n",
    "print(\"Figuras disponibles: cuadrado -> 1, triángulo -> 2, círculo -> 3\")\n",
    "\n",
    "# Pedir al usuario el tipo de figura\n",
    "figura = int(input(\"Ingrese el tipo de figura geométrica: \"))\n",
    "\n",
    "print(\"Figura seleccionada: \" + str(figura))\n",
    "# Calcular el área según la figura seleccionada\n",
    "if figura == 1:\n",
    "    lado = float(input(\"Ingrese el lado del cuadrado: \"))\n",
    "    print(\"Lado del cuadrado: \" + str(lado))\n",
    "    area = lado ** 2\n",
    "    print(f\"El área del cuadrado es: {area}\")\n",
    "\n",
    "elif figura == 2:\n",
    "    base = float(input(\"Ingrese la base del triángulo: \"))\n",
    "    print(\"Base del triángulo: \" + str(base))\n",
    "    altura = float(input(\"Ingrese la altura del triángulo: \"))\n",
    "    print(\"Altura del triángulo: \" + str(altura))\n",
    "    area = (base * altura) / 2\n",
    "    print(f\"El área del triángulo es: {area}\")\n",
    "\n",
    "elif figura == 3:\n",
    "    radio = float(input(\"Ingrese el radio del círculo: \"))\n",
    "    print(\"Radio del círculo: \" + str(radio))\n",
    "    area = math.pi * (radio ** 2)\n",
    "    print(f\"El área del círculo es: {area}\")\n",
    "\n",
    "else:\n",
    "    print(\"Figura no reconocida. Por favor, ingrese: cuadrado, triángulo o círculo.\")\n"
   ]
  },
  {
   "cell_type": "markdown",
   "id": "99c26324",
   "metadata": {},
   "source": [
    "### Ejercicio 3: Adivina el número\n",
    "Escribe un programa que genere un número aleatorio entre 1 y 100 y pida al usuario\n",
    "que adivine cuál es. El programa deberá dar pistas al usuario diciendo si el número\n",
    "que ha introducido es mayor o menor que el número aleatorio. El programa deberá\n",
    "continuar pidiendo números hasta que el usuario adivine el número correcto. (hint:\n",
    "utiliza un ciclo while para mantener al programa pidiendo números)"
   ]
  },
  {
   "cell_type": "code",
   "execution_count": null,
   "id": "be7e281e",
   "metadata": {},
   "outputs": [
    {
     "name": "stdout",
     "output_type": "stream",
     "text": [
      "¡Juego de Adivinar el Número!\n",
      "He generado un número aleatorio entre 1 y 100.\n",
      "Intenta adivinar cuál es.\n",
      "El número es MAYOR que 1, intenta de nuevo.\n",
      "El número es MENOR que 96, Intenta de nuevo.\n",
      "El número es MENOR que 99, Intenta de nuevo.\n",
      "El número es MENOR que 66, Intenta de nuevo.\n",
      "El número es MAYOR que 53, intenta de nuevo.\n",
      "El número es MAYOR que 55, intenta de nuevo.\n",
      "El número es MAYOR que 59, intenta de nuevo.\n",
      "¡FELICIDADES! Adivinaste el número 60 en 8 intentos.\n"
     ]
    }
   ],
   "source": [
    "import random\n",
    "\n",
    "# Generar número aleatorio entre 1 y 100\n",
    "numero_secreto = random.randint(1, 100)\n",
    "intentos = 0\n",
    "\n",
    "print(\"¡Juego de Adivinar el Número!\")\n",
    "print(\"He generado un número aleatorio entre 1 y 100.\")\n",
    "print(\"Intenta adivinar cuál es.\")\n",
    "\n",
    "# Ciclo while para seguir pidiendo números hasta adivinar\n",
    "while True:\n",
    "    try:\n",
    "        # Pedir al usuario que ingrese un número\n",
    "        intento = int(input(\"Ingresa tu número (1-100): \"))\n",
    "        intentos += 1\n",
    "        \n",
    "        # Validar que el número esté en el rango correcto\n",
    "        if intento < 1 or intento > 100:\n",
    "            print(\"Por favor, ingresa un número entre 1 y 100.\")\n",
    "            continue\n",
    "        \n",
    "        # Comparar el intento con el número secreto\n",
    "        if intento < numero_secreto:\n",
    "            print(f\"El número es MAYOR que {intento}, intenta de nuevo.\")\n",
    "        elif intento > numero_secreto:\n",
    "            print(f\"El número es MENOR que {intento}, Intenta de nuevo.\")\n",
    "        else:\n",
    "            print(f\"¡FELICIDADES! Adivinaste el número {numero_secreto} en {intentos} intentos.\")\n",
    "            break\n",
    "            \n",
    "    except ValueError:\n",
    "        print(\"Por favor, ingresa un número válido.\")"
   ]
  },
  {
   "cell_type": "markdown",
   "id": "6f5ab7d1",
   "metadata": {},
   "source": [
    "### Ejercicio 4: Carrera de pollos\n",
    "Crea un programa que simule segundo a segundo la acción de un pollo que recorre una\n",
    "distancia de 100 metros. Pide al usuario que ingrese la velocidad a la que puede correr el\n",
    "pollo, y usando un ciclo while muestra un emoji de pollo 🐥 que se vaya moviendo hacia la\n",
    "derecha en cada impresión, como se muestra en los ejemplos"
   ]
  },
  {
   "cell_type": "code",
   "execution_count": 31,
   "id": "476f271f",
   "metadata": {},
   "outputs": [
    {
     "name": "stdout",
     "output_type": "stream",
     "text": [
      "La velocidad debe ser mayor que 0 y menor que 100.\n",
      "La velocidad debe ser mayor que 0 y menor que 100.\n",
      "La velocidad debe ser mayor que 0 y menor que 100.\n",
      "La velocidad debe ser mayor que 0 y menor que 100.\n",
      "¡Comienza la carrera del pollo!\n",
      "Velocidad: 12.0 m/s\n",
      "Distancia total: 100 metros\n",
      "--------------------------------------------------\n",
      "¡Carrera del pollo!\n",
      "Segundo: 0\n",
      "Posición: 12.0m / 100m\n",
      "--------------------------------------------------\n",
      "|    🐥\n",
      "--------------------------------------------------\n",
      "¡Carrera del pollo!\n",
      "Segundo: 1\n",
      "Posición: 24.0m / 100m\n",
      "--------------------------------------------------\n",
      "|         🐥\n",
      "--------------------------------------------------\n",
      "¡Carrera del pollo!\n",
      "Segundo: 2\n",
      "Posición: 36.0m / 100m\n",
      "--------------------------------------------------\n",
      "|              🐥\n",
      "--------------------------------------------------\n",
      "¡Carrera del pollo!\n",
      "Segundo: 3\n",
      "Posición: 48.0m / 100m\n",
      "--------------------------------------------------\n",
      "|                   🐥\n",
      "--------------------------------------------------\n",
      "¡Carrera del pollo!\n",
      "Segundo: 4\n",
      "Posición: 60.0m / 100m\n",
      "--------------------------------------------------\n",
      "|                        🐥\n",
      "--------------------------------------------------\n",
      "¡Carrera del pollo!\n",
      "Segundo: 5\n",
      "Posición: 72.0m / 100m\n",
      "--------------------------------------------------\n",
      "|                            🐥\n",
      "--------------------------------------------------\n",
      "¡Carrera del pollo!\n",
      "Segundo: 6\n",
      "Posición: 84.0m / 100m\n",
      "--------------------------------------------------\n",
      "|                                 🐥\n",
      "--------------------------------------------------\n",
      "¡Carrera del pollo!\n",
      "Segundo: 7\n",
      "Posición: 96.0m / 100m\n",
      "--------------------------------------------------\n",
      "|                                      🐥\n",
      "--------------------------------------------------\n",
      "¡Carrera del pollo!\n",
      "Segundo: 8\n",
      "Posición: 100.0m / 100m\n",
      "--------------------------------------------------\n",
      "|                                        🐥\n",
      "--------------------------------------------------\n",
      "¡El pollo ha llegado a la meta!\n",
      "Tiempo total: 8 segundos\n",
      "|🏁|🐥 ¡FELICIDADES!\n"
     ]
    }
   ],
   "source": [
    "\n",
    "import time\n",
    "\n",
    "# Pedir al usuario la velocidad del pollo (metros por segundo)\n",
    "try:\n",
    "    velocidad = float(input(\"Ingresa la velocidad del pollo (metros por segundo): \"))\n",
    "    \n",
    "    while velocidad <= 0 or velocidad > 100:\n",
    "        print(\"La velocidad debe ser mayor que 0 y menor que 100.\")\n",
    "        velocidad = float(input(\"Ingresa la velocidad del pollo (metros por segundo): \"))\n",
    "    else:\n",
    "        distancia_total = 100\n",
    "        posicion = 0\n",
    "        segundo = 0\n",
    "        \n",
    "        print(\"¡Comienza la carrera del pollo!\")\n",
    "        print(f\"Velocidad: {velocidad} m/s\")\n",
    "        print(f\"Distancia total: {distancia_total} metros\")\n",
    "        print(\"-\" * 50)\n",
    "        \n",
    "        # Ciclo while para simular la carrera segundo a segundo\n",
    "        while posicion < distancia_total:\n",
    "            # Calcular nueva posición\n",
    "            posicion += velocidad\n",
    "            \n",
    "            # Si el pollo supera la meta, ajustar a la meta exacta\n",
    "            if posicion > distancia_total:\n",
    "                posicion = distancia_total\n",
    "            \n",
    "            # Calcular espacios para el movimiento visual\n",
    "            espacios = int(posicion / distancia_total * 40)  # 40 caracteres de ancho para la visualización\n",
    "            \n",
    "            # Mostrar progreso\n",
    "            print(\"¡Carrera del pollo!\")\n",
    "            print(f\"Segundo: {segundo}\")\n",
    "            print(f\"Posición: {posicion:.1f}m / {distancia_total}m\")\n",
    "            print(\"-\" * 50)\n",
    "            \n",
    "            # Mostrar el pollo moviéndose\n",
    "            print(\"|\" + \" \" * espacios + \"🐥\")\n",
    "            print(\"-\" * 50)\n",
    "            \n",
    "            # Incrementar segundo\n",
    "            segundo += 1\n",
    "            \n",
    "            # Esperar 1 segundo antes de la siguiente actualización\n",
    "            time.sleep(1)\n",
    "        \n",
    "        # Mensaje final\n",
    "        print(\"¡El pollo ha llegado a la meta!\")\n",
    "        print(f\"Tiempo total: {segundo - 1} segundos\")\n",
    "        print(\"|🏁|🐥 ¡FELICIDADES!\")\n",
    "\n",
    "except ValueError:\n",
    "    print(\"Por favor, ingresa un número válido para la velocidad.\")\n"
   ]
  }
 ],
 "metadata": {
  "kernelspec": {
   "display_name": "Python 3",
   "language": "python",
   "name": "python3"
  },
  "language_info": {
   "codemirror_mode": {
    "name": "ipython",
    "version": 3
   },
   "file_extension": ".py",
   "mimetype": "text/x-python",
   "name": "python",
   "nbconvert_exporter": "python",
   "pygments_lexer": "ipython3",
   "version": "3.13.7"
  }
 },
 "nbformat": 4,
 "nbformat_minor": 5
}
