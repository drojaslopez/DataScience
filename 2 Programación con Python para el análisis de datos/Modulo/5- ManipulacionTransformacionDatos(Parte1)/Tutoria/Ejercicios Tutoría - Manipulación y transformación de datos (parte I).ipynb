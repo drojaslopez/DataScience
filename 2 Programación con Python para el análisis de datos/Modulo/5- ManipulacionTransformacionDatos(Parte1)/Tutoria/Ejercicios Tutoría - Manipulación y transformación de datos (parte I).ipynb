{
  "nbformat": 4,
  "nbformat_minor": 0,
  "metadata": {
    "colab": {
      "provenance": []
    },
    "kernelspec": {
      "name": "python3",
      "display_name": "Python 3"
    },
    "language_info": {
      "name": "python"
    }
  },
  "cells": [
    {
      "cell_type": "markdown",
      "source": [
        "![logo_academia.png](data:image/png;base64,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)"
      ],
      "metadata": {
        "id": "td4jdSp1DudL"
      }
    },
    {
      "cell_type": "markdown",
      "source": [
        "#<center><font color = 'green'>Ejercicios</font></center>\n",
        "\n",
        "1. Tenemos dos DataFrames df1 y df2 con información de estudiantes y sus calificaciones. Combina estos DataFrames en uno solo, utilizando como clave de combinación la columna 'ID'."
      ],
      "metadata": {
        "id": "HepPhlF2D3qW"
      }
    },
    {
      "cell_type": "code",
      "source": [
        "import pandas as pd\n",
        "\n",
        "data1 = {'ID': [1, 2, 3, 4],\n",
        "         'Nombre': ['Alice', 'Bob', 'Charlie', 'David']}\n",
        "data2 = {'ID': [2, 3, 4, 5],\n",
        "         'Calificación': [85, 92, 78, 88]}\n",
        "\n",
        "df1 = pd.DataFrame(data1)\n",
        "df2 = pd.DataFrame(data2)\n",
        "\n",
        "#Completa aquí con tu solución\n",
        "\n",
        "\n",
        "\n",
        "\n",
        "\n",
        "\n",
        "\n",
        "\n",
        "\n",
        "\n",
        "\n",
        "\n",
        "\n",
        "\n",
        "\n",
        "\n",
        "\n"
      ],
      "metadata": {
        "id": "sXwgsd-REbY2"
      },
      "execution_count": 3,
      "outputs": []
    },
    {
      "cell_type": "code",
      "source": [
        "# Combinar los DataFrames utilizando la columna 'ID' como clave\n",
        "resultado = pd.merge(df1, df2, on='ID')\n",
        "print(resultado)\n"
      ],
      "metadata": {
        "id": "jV8h63oTEbds",
        "colab": {
          "base_uri": "https://localhost:8080/"
        },
        "outputId": "1071aef3-88ab-4f04-e7dc-9dca83312936"
      },
      "execution_count": 2,
      "outputs": [
        {
          "output_type": "stream",
          "name": "stdout",
          "text": [
            "   ID   Nombre  Calificación\n",
            "0   2      Bob            85\n",
            "1   3  Charlie            92\n",
            "2   4    David            78\n"
          ]
        }
      ]
    },
    {
      "cell_type": "markdown",
      "source": [
        "2. Los DataFrames df3 y df4 contienen información de empleados y sus departamentos. Realiza una unión de estos DataFrames de manera que se incluyan todos los empleados, incluso aquellos que no tienen un departamento asignado."
      ],
      "metadata": {
        "id": "OX1hglEQEcLO"
      }
    },
    {
      "cell_type": "code",
      "source": [
        "import pandas as pd\n",
        "\n",
        "data3 = {'ID': [101, 102, 103],\n",
        "         'Nombre': ['Alice', 'Bob', 'Charlie']}\n",
        "data4 = {'ID': [101, 103, 104],\n",
        "         'Departamento': ['Ventas', 'Recursos Humanos', 'Tecnología']}\n",
        "\n",
        "df3 = pd.DataFrame(data3)\n",
        "df4 = pd.DataFrame(data4)\n",
        "\n",
        "#Escribe aquí tu solución\n",
        "\n",
        "\n",
        "\n",
        "\n",
        "\n",
        "\n",
        "\n",
        "\n",
        "\n",
        "\n",
        "\n",
        "\n",
        "\n",
        "\n",
        "\n",
        "\n",
        "\n"
      ],
      "metadata": {
        "id": "zlohGSnAEjP9"
      },
      "execution_count": 4,
      "outputs": []
    },
    {
      "cell_type": "code",
      "source": [
        "\n",
        "\n",
        "# Realizar una unión de los DataFrames\n",
        "resultado = pd.merge(df3, df4, on='ID', how='left')\n",
        "print(resultado)\n"
      ],
      "metadata": {
        "id": "WPsZos39Ejbz",
        "colab": {
          "base_uri": "https://localhost:8080/"
        },
        "outputId": "834b5d6f-5132-4aaf-bf4c-04426ae47632"
      },
      "execution_count": 5,
      "outputs": [
        {
          "output_type": "stream",
          "name": "stdout",
          "text": [
            "    ID   Nombre      Departamento\n",
            "0  101    Alice            Ventas\n",
            "1  102      Bob               NaN\n",
            "2  103  Charlie  Recursos Humanos\n"
          ]
        }
      ]
    },
    {
      "cell_type": "markdown",
      "source": [
        "3. Los DataFrames df5 y df6 contienen información de ventas de productos en dos trimestres diferentes. Concatena estos DataFrames verticalmente para obtener un único DataFrame de ventas anuales."
      ],
      "metadata": {
        "id": "i60uEe_qElog"
      }
    },
    {
      "cell_type": "code",
      "execution_count": 6,
      "metadata": {
        "id": "86kpplrADpCc"
      },
      "outputs": [],
      "source": [
        "import pandas as pd\n",
        "\n",
        "data5 = {'Producto': ['A', 'B', 'C'],\n",
        "         'Trimestre1': [100, 150, 200]}\n",
        "data6 = {'Producto': ['A', 'B', 'C'],\n",
        "         'Trimestre2': [120, 160, 180]}\n",
        "\n",
        "df5 = pd.DataFrame(data5)\n",
        "df6 = pd.DataFrame(data6)\n",
        "\n",
        "\n",
        "#Escribe aquí tu solución\n",
        "\n",
        "\n",
        "\n",
        "\n",
        "\n",
        "\n",
        "\n",
        "\n",
        "\n",
        "\n",
        "\n",
        "\n",
        "\n",
        "\n",
        "\n",
        "\n",
        "\n"
      ]
    },
    {
      "cell_type": "code",
      "source": [
        "# Concatenar los DataFrames verticalmente\n",
        "resultado = pd.concat([df5, df6], axis=0)\n",
        "print(resultado)\n"
      ],
      "metadata": {
        "id": "IuGMZAvAErzs"
      },
      "execution_count": null,
      "outputs": []
    },
    {
      "cell_type": "markdown",
      "source": [
        "4. El DataFrame df7 con información sobre ventas por producto y mes. Crea una tabla pivote que muestre las ventas totales por producto para cada mes."
      ],
      "metadata": {
        "id": "dCCveOjCEwu0"
      }
    },
    {
      "cell_type": "code",
      "source": [
        "import pandas as pd\n",
        "\n",
        "data7 = {'Producto': ['A', 'B', 'A', 'B'],\n",
        "         'Mes': ['Enero', 'Enero', 'Febrero', 'Febrero'],\n",
        "         'Ventas': [100, 150, 120, 180]}\n",
        "\n",
        "df7 = pd.DataFrame(data7)\n",
        "\n",
        "#Escribe aquí tu solución\n",
        "\n",
        "\n",
        "\n",
        "\n",
        "\n",
        "\n",
        "\n",
        "\n",
        "\n",
        "\n",
        "\n",
        "\n",
        "\n",
        "\n",
        "\n",
        "\n",
        "\n"
      ],
      "metadata": {
        "id": "Si_ipkLHEx82"
      },
      "execution_count": null,
      "outputs": []
    },
    {
      "cell_type": "code",
      "source": [
        "# Crear una tabla pivote\n",
        "tabla_pivote = df7.pivot_table(index='Producto', columns='Mes', values='Ventas', aggfunc='sum')\n",
        "print(tabla_pivote)\n"
      ],
      "metadata": {
        "id": "pWZxR5IjEyF7"
      },
      "execution_count": null,
      "outputs": []
    },
    {
      "cell_type": "markdown",
      "source": [
        "5. El DataFrame df8 contiene información de ventas y deseas crear una nueva columna que indique si una venta es alta o baja. Considera que las ventas superiores a 150 son \"altas\" y las demás son \"bajas\".\n",
        "\n"
      ],
      "metadata": {
        "id": "t6tOV5HeE0Jw"
      }
    },
    {
      "cell_type": "code",
      "source": [
        "import pandas as pd\n",
        "\n",
        "data8 = {'Venta': [120, 180, 90, 200, 140]}\n",
        "\n",
        "df8 = pd.DataFrame(data8)\n",
        "\n",
        "\n",
        "#Escribe aquí tu solución\n",
        "\n",
        "\n",
        "\n",
        "\n",
        "\n",
        "\n",
        "\n",
        "\n",
        "\n",
        "\n",
        "\n",
        "\n",
        "\n",
        "\n",
        "\n",
        "\n",
        "\n"
      ],
      "metadata": {
        "id": "i0d3fF4VE4xG"
      },
      "execution_count": null,
      "outputs": []
    },
    {
      "cell_type": "code",
      "source": [
        "# Crear una nueva columna utilizando una función lambda\n",
        "df8['Tipo de Venta'] = df8['Venta'].apply(lambda x: 'Alta' if x > 150 else 'Baja')\n",
        "print(df8)\n"
      ],
      "metadata": {
        "id": "d_s1QodmE47H"
      },
      "execution_count": null,
      "outputs": []
    },
    {
      "cell_type": "markdown",
      "source": [
        "6. El DataFrame df9 con información de empleados y sus salarios, y deseas calcular un bono del 10% sobre el salario de cada empleado utilizando una función lambda."
      ],
      "metadata": {
        "id": "-PLUPTjwE8QG"
      }
    },
    {
      "cell_type": "code",
      "source": [
        "import pandas as pd\n",
        "\n",
        "data9 = {'Nombre': ['Alice', 'Bob', 'Charlie'],\n",
        "         'Salario': [50000, 60000, 75000]}\n",
        "\n",
        "df9 = pd.DataFrame(data9)\n",
        "\n",
        "\n",
        "#Escribe aquí tu solución\n",
        "\n",
        "\n",
        "\n",
        "\n",
        "\n",
        "\n",
        "\n",
        "\n",
        "\n",
        "\n",
        "\n",
        "\n",
        "\n",
        "\n",
        "\n",
        "\n",
        "\n"
      ],
      "metadata": {
        "id": "mvQa3HyGE9NP"
      },
      "execution_count": null,
      "outputs": []
    },
    {
      "cell_type": "code",
      "source": [
        "\n",
        "# Aplicar una función lambda para calcular el bono\n",
        "df9['Bono'] = df9['Salario'].apply(lambda x: x * 0.10)\n",
        "print(df9)\n"
      ],
      "metadata": {
        "id": "iBa5Le0CE9Vp"
      },
      "execution_count": null,
      "outputs": []
    },
    {
      "cell_type": "markdown",
      "source": [
        "7. El DataFrame df10 contiene información de clientes, pero con entradas duplicadas. Elimina las filas duplicadas para tener un conjunto de datos único."
      ],
      "metadata": {
        "id": "MlwV-FHnE_Xo"
      }
    },
    {
      "cell_type": "code",
      "source": [
        "import pandas as pd\n",
        "\n",
        "data10 = {'Nombre': ['Alice', 'Bob', 'Alice', 'Charlie'],\n",
        "          'Edad': [25, 30, 25, 35]}\n",
        "\n",
        "df10 = pd.DataFrame(data10)\n",
        "\n",
        "#Escribe aquí tu solución\n",
        "\n",
        "\n",
        "\n",
        "\n",
        "\n",
        "\n",
        "\n",
        "\n",
        "\n",
        "\n",
        "\n",
        "\n",
        "\n",
        "\n",
        "\n",
        "\n",
        "\n"
      ],
      "metadata": {
        "id": "hEXfXoquFDMO"
      },
      "execution_count": null,
      "outputs": []
    },
    {
      "cell_type": "code",
      "source": [
        "\n",
        "# Eliminar filas duplicadas\n",
        "df10 = df10.drop_duplicates()\n",
        "print(df10)\n"
      ],
      "metadata": {
        "id": "h8PMreSBFDR5"
      },
      "execution_count": null,
      "outputs": []
    },
    {
      "cell_type": "markdown",
      "source": [
        "8. El DataFrame df11 contiene información de ventas, pero algunos registros tienen valores faltantes (NaN). Rellena los valores faltantes en la columna 'Cantidad' con el valor promedio de esa columna.\n",
        "\n"
      ],
      "metadata": {
        "id": "Ajjl3SNyFGyE"
      }
    },
    {
      "cell_type": "code",
      "source": [
        "import pandas as pd\n",
        "import numpy as np\n",
        "\n",
        "data11 = {'Producto': ['A', 'B', 'C', 'A', 'B'],\n",
        "          'Cantidad': [10, np.nan, 15, np.nan, 20]}\n",
        "\n",
        "df11 = pd.DataFrame(data11)\n",
        "#Escribe aquí tu solución\n",
        "\n",
        "\n",
        "\n",
        "\n",
        "\n",
        "\n",
        "\n",
        "\n",
        "\n",
        "\n",
        "\n",
        "\n",
        "\n",
        "\n",
        "\n",
        "\n",
        "\n"
      ],
      "metadata": {
        "id": "cJ6NLvm4FJI1"
      },
      "execution_count": null,
      "outputs": []
    },
    {
      "cell_type": "code",
      "source": [
        "\n",
        "\n",
        "# Rellenar valores faltantes con el promedio de la columna\n",
        "promedio = df11['Cantidad'].mean()\n",
        "df11['Cantidad'].fillna(promedio, inplace=True)\n",
        "print(df11)\n"
      ],
      "metadata": {
        "id": "7UdDh5FrFJSa"
      },
      "execution_count": null,
      "outputs": []
    },
    {
      "cell_type": "markdown",
      "source": [
        "9. El DataFrame df14 contiene información de productos y sus categorías. Reemplaza una categoría específica a tu elección con una nueva."
      ],
      "metadata": {
        "id": "EotZ9VQXFbbF"
      }
    },
    {
      "cell_type": "code",
      "source": [
        "import pandas as pd\n",
        "\n",
        "data14 = {'Producto': ['A', 'B', 'C', 'D'],\n",
        "          'Categoría': ['Electrónica', 'Ropa', 'Electrónica', 'Juguetes']}\n",
        "\n",
        "df14 = pd.DataFrame(data14)\n",
        "\n",
        "#solución...\n",
        "\n",
        "\n",
        "\n",
        "\n",
        "\n",
        "\n",
        "\n",
        "\n",
        "\n",
        "\n",
        "\n",
        "\n"
      ],
      "metadata": {
        "id": "My5gI8j9Fd7w"
      },
      "execution_count": null,
      "outputs": []
    },
    {
      "cell_type": "code",
      "source": [
        "\n",
        "# Reemplazar una categoría específica\n",
        "df14['Categoría'] = df14['Categoría'].replace('Ropa', 'Moda')\n",
        "print(df14)\n"
      ],
      "metadata": {
        "id": "k6TDRigcFeEy"
      },
      "execution_count": null,
      "outputs": []
    },
    {
      "cell_type": "markdown",
      "source": [
        "10. El DataFrame df15 contiene información de ventas. Remplaza los valores de ventas negativas con cero."
      ],
      "metadata": {
        "id": "9Kx64TUPFh48"
      }
    },
    {
      "cell_type": "code",
      "source": [
        "import pandas as pd\n",
        "\n",
        "data15 = {'Venta': [100, -50, 120, -30, 140]}\n",
        "\n",
        "df15 = pd.DataFrame(data15)\n",
        "#solucion\n",
        "\n",
        "\n",
        "\n",
        "\n",
        "\n",
        "\n",
        "\n",
        "\n",
        "\n",
        "\n",
        "\n"
      ],
      "metadata": {
        "id": "36-pFMXBFjM_"
      },
      "execution_count": null,
      "outputs": []
    },
    {
      "cell_type": "code",
      "source": [
        "\n",
        "# Reemplazar valores negativos con cero\n",
        "df15['Venta'] = df15['Venta'].apply(lambda x: 0 if x < 0 else x)\n",
        "print(df15)\n"
      ],
      "metadata": {
        "id": "V3f1cTRpFjWt"
      },
      "execution_count": null,
      "outputs": []
    },
    {
      "cell_type": "markdown",
      "source": [],
      "metadata": {
        "id": "aVmWl4_KFlS2"
      }
    }
  ]
}