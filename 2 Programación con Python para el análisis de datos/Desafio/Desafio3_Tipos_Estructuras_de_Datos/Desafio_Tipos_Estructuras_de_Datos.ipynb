{
 "cells": [
  {
   "cell_type": "markdown",
   "id": "26cc96be",
   "metadata": {},
   "source": [
    "# Desafio Tipos y Estructuras de Datos\n",
    "Daniel Rojas Lopez"
   ]
  },
  {
   "cell_type": "markdown",
   "id": "d24dc6e5",
   "metadata": {},
   "source": [
    "### Ejercicio 1:\n",
    "\n",
    "Usando la siguiente lista:\n",
    "lista = [\"manzana\", \"pera\", \"naranja\", \"plátano\", \"kiwi\", \"uva\", \"piña\",\"mango\", \"sandía\", \"melón\"]\n",
    "\n",
    "    a. Imprime el quinto elemento de la lista.\n",
    "    b. Imprime del cuarto al sexto inclusive.\n",
    "    c. Elimina el elemento en la posición 3\n",
    "    d. Agrega dos nuevos elementos a la lista\n",
    "    e. Ordena la lista alfabéticamente.\n",
    "    f. Genera un diccionario usando lista1 como llaves y lista como valores.\n",
    "       lista1 = [\"uno\", \"dos\", \"tres\", \"cuatro\", \"cinco\", \"seis\", \"siete\",\"ocho\", \"nueve\", \"diez\"]"
   ]
  },
  {
   "cell_type": "code",
   "execution_count": 1,
   "id": "dfb46145",
   "metadata": {},
   "outputs": [
    {
     "name": "stdout",
     "output_type": "stream",
     "text": [
      "['manzana', 'pera', 'naranja', 'plátano', 'kiwi', 'uva', 'piña', 'mango', 'sandía', 'melón']\n",
      "\n",
      "\n",
      "kiwi\n",
      "\n",
      "\n",
      "['plátano', 'kiwi', 'uva']\n",
      "\n",
      "\n",
      "['manzana', 'pera', 'naranja', 'kiwi', 'uva', 'piña', 'mango', 'sandía', 'melón']\n",
      "\n",
      "\n",
      "['manzana', 'pera', 'naranja', 'kiwi', 'uva', 'piña', 'mango', 'sandía', 'melón', 'durazno', 'tomate']\n",
      "\n",
      "\n",
      "['durazno', 'kiwi', 'mango', 'manzana', 'melón', 'naranja', 'pera', 'piña', 'sandía', 'tomate', 'uva']\n",
      "\n",
      "\n",
      "10 Elementos Lista de llaves\n",
      "11 Elementos Lista de valores\n",
      "\n",
      "\n",
      "{'uno': 'durazno', 'dos': 'kiwi', 'tres': 'mango', 'cuatro': 'manzana', 'cinco': 'melón', 'seis': 'naranja', 'siete': 'pera', 'ocho': 'piña', 'nueve': 'sandía', 'diez': 'tomate'}\n"
     ]
    }
   ],
   "source": [
    "\n",
    "lista = [\"manzana\", \"pera\", \"naranja\", \"plátano\", \"kiwi\", \"uva\", \"piña\",\"mango\", \"sandía\", \"melón\"]\n",
    "\n",
    "print(lista)\n",
    "print(\"\\n\")\n",
    "#Imprime el quinto elemento de la lista.\n",
    "print(lista[4])\n",
    "print(\"\\n\")\n",
    "#Imprime del cuarto al sexto inclusive.\n",
    "print(lista[3:6])\n",
    "print(\"\\n\")\n",
    "#Elimina el elemento en la posición 3\n",
    "lista.remove(lista[3])\n",
    "print(lista)\n",
    "print(\"\\n\")\n",
    "#Agrega dos nuevos elementos a la lista\n",
    "lista.append(\"durazno\")\n",
    "lista.append(\"tomate\")\n",
    "print(lista)\n",
    "print(\"\\n\")\n",
    "#Ordena la lista alfabéticamente.\n",
    "lista.sort()\n",
    "print(lista)\n",
    "print(\"\\n\")\n",
    "#Genera un diccionario usando lista1 como llaves y lista como valores.\n",
    "lista1 = [\"uno\", \"dos\", \"tres\", \"cuatro\", \"cinco\", \"seis\", \"siete\",\"ocho\",\"nueve\", \"diez\"]\n",
    "\n",
    "print(str(len(lista1))+' Elementos Lista de llaves')\n",
    "print(str(len(lista))+' Elementos Lista de valores')\n",
    "print(\"\\n\")\n",
    "#Genera un diccionario usando lista1 como llaves y lista como valores. pero la lista tiene más elementos que la lista1.\n",
    "#Por lo tanto, los elementos excedentes se descartan.\n",
    "diccionario = dict(zip(lista1, lista))\n",
    "print(diccionario)\n"
   ]
  },
  {
   "cell_type": "markdown",
   "id": "dfc971bb",
   "metadata": {},
   "source": [
    "### Ejercicio 2: Fabricación de cerveza artesanal\n",
    "\n",
    "El LIC y el LSC son calculados utilizando la media y la desviación estándar de los datos del proceso. La idea es que la mayoría de los datos del proceso se encuentren dentro de los límites de control (entre el LIC y el LSC), y si un dato cae fuera de estos límites, se puede considerar que el proceso está fuera de control y se requiere una acción correctiva para investigar y corregir la causa de la variación. El valor del LIC se calcula como la media menos tres veces la desviación estándar, y el valor del LSC se calcula como la media más tres veces la\n",
    "desviación estándar. Estos límites representan el rango en el que la mayoría de los datos del proceso deberían estar.\n",
    "\n",
    "Para poder asegurar de que la cantidad de alcohol en cada lote de cerveza sea consistente, debes medir el porcentaje de alcohol de cada lote y registrar los datos en una hoja de cálculo.\n",
    "\n",
    "Esta información ya ha sido recolectada y se encuentra en el archivo alcohol_cerveza.csv.\n",
    "El objetivo del ejercicio es calcular la media, la desviación estándar, el LIC y el LSC del porcentaje de alcohol y guardarlos en variables.\n",
    "Para asegurarte de que los lotes de cerveza se estén elaborando de forma consistente y que el nivel de alcohol sea el adecuado, una vez calculadas las medidas anteriores, indicar cuáles valores quedarían fuera de los límites de control y cuántos son.\n",
    "\n",
    "Como guía puedes seguir estos pasos:\n",
    "\n",
    "    # Importa la librería NumPy.\n",
    "    ● Carga los datos del archivo csv en una variable llamada array, usando np.loadtxt(“alcohol_cerveza.csv”) y modifica los parámetros necesarios para leer bien el archivo.\n",
    "    ● Calcula la media de los datos utilizando la función mean de NumPy y almacena el resultado en una variable llamada media.\n",
    "    ● Calcula la desviación estándar de los datos utilizando la función std de NumPy y almacena el resultado en una variable llamada desviacion.\n",
    "    ● Calcula el límite inferior de control (LIC) utilizando la fórmula: media - (3 * desviacion) y almacena el resultado en una variable llamada lic.\n",
    "    ● Calcula el límite superior de control (LSC) utilizando la fórmula: media + (3 * desviacion) y almacena el resultado en una variable llamada lsc.\n",
    "    ● Imprime los resultados de la media, la desviación estándar, el LIC y el LSC.\n",
    "    ● Filtra el array utilizando np.logical_or(condicion1, condicion2) para obtener los valores fuera de los límites de control."
   ]
  },
  {
   "cell_type": "code",
   "execution_count": 3,
   "id": "0756345d",
   "metadata": {},
   "outputs": [
    {
     "name": "stdout",
     "output_type": "stream",
     "text": [
      "Media:  23.915\n",
      "Desviación estándar:  29.990261335973717\n",
      "LIC:  -66.05578400792115\n",
      "LSC:  113.88578400792116\n",
      "\n",
      "\n",
      "Array original: [[ 5.  6.]\n",
      " [ 4. 29.]\n",
      " [ 4. 84.]\n",
      " ...\n",
      " [ 4. 68.]\n",
      " [ 5. 12.]\n",
      " [ 4. 92.]]\n",
      "\n",
      "\n",
      "Array filtrado: [ 5.  6.  4. ... 12.  4. 92.]\n"
     ]
    }
   ],
   "source": [
    "# Importa la librería NumPy.\n",
    "import numpy as np\n",
    "# Carga los datos del archivo csv en una variable llamada array, usando np.loadtxt(“alcohol_cerveza.csv”) y modifica los parámetros necesarios para leer bien el archivo.\n",
    "array = np.loadtxt(\"alcohol_cerveza.csv\", delimiter=\".\", skiprows=1)\n",
    "# Calcula la media de los datos utilizando la función mean de NumPy y almacena el resultado en una variable llamada media.\n",
    "media = np.mean(array)\n",
    "# Calcula la desviación estándar de los datos utilizando la función std de NumPy y almacena el resultado en una variable llamada desviacion.\n",
    "desviacion = np.std(array)\n",
    "# Calcula el límite inferior de control (LIC) utilizando la fórmula: media - (3 * desviacion) y almacena el resultado en una variable llamada lic.\n",
    "lic = media - (3 * desviacion)\n",
    "# Calcula el límite superior de control (LSC) utilizando la fórmula: media + (3 * desviacion) y almacena el resultado en una variable llamada lsc.\n",
    "lsc = media + (3 * desviacion)\n",
    "# Imprime los resultados de la media, la desviación estándar, el LIC y el LSC.\n",
    "print(\"Media: \", media)\n",
    "print(\"Desviación estándar: \", desviacion)\n",
    "print(\"LIC: \", lic)\n",
    "print(\"LSC: \", lsc)\n",
    "print(\"\\n\")\n",
    "\n",
    "# Filtra el array utilizando np.logical_or(condicion1, condicion2) para obtener los valores fuera de los límites de control.\n",
    "print(\"Array original:\", array)\n",
    "print(\"\\n\") \n",
    "array_filtrado = array[np.logical_or(array > lic, array > lsc)]\n",
    "\n",
    "print(\"Array filtrado:\", array_filtrado)\n"
   ]
  },
  {
   "cell_type": "markdown",
   "id": "791d95ce",
   "metadata": {},
   "source": [
    "1. Crear y manipular listas, utilizando herramientas propias de ellas. (2 Puntos)\n",
    "2. Crear NumPy Arrays y cargar datos en ellos. (2 Puntos)\n",
    "3. Calcular e interpretar indicadores estadísticos con NumPy Arrays. (3 puntos)\n",
    "4. Operar con Arrays, aplicando operaciones y funciones. (3 Puntos"
   ]
  }
 ],
 "metadata": {
  "kernelspec": {
   "display_name": "Python 3",
   "language": "python",
   "name": "python3"
  },
  "language_info": {
   "codemirror_mode": {
    "name": "ipython",
    "version": 3
   },
   "file_extension": ".py",
   "mimetype": "text/x-python",
   "name": "python",
   "nbconvert_exporter": "python",
   "pygments_lexer": "ipython3",
   "version": "3.13.7"
  }
 },
 "nbformat": 4,
 "nbformat_minor": 5
}
