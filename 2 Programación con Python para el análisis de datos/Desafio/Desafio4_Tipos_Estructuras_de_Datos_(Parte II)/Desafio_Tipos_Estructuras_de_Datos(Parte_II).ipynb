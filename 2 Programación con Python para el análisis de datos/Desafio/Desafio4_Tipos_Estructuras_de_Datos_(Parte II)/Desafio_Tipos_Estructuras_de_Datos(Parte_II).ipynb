{
 "cells": [
  {
   "cell_type": "markdown",
   "id": "26cc96be",
   "metadata": {},
   "source": [
    "# Desafio Tipos y Estructuras de Datos (Parte II)\n",
    "Daniel Rojas Lopez"
   ]
  },
  {
   "cell_type": "markdown",
   "id": "d24dc6e5",
   "metadata": {},
   "source": [
    "### Ejercicio 1:\n",
    "\n",
    "El IMC es una medida importante que nos ayuda a determinar si una persona tiene un peso saludable para poder ser un astronauta. Para calcularlo se utiliza la\n",
    "fórmula  IMC = m / h*h \n",
    "Donde m corresponde al peso del astronauta en kilogramos, y h su estatura en metros \n",
    "El rendimiento en las diferentes evaluaciones permitirá también aceptar o rechazar a los postulantes. \n",
    "Para ello:\n",
    "    1. Crea un DataFrame con el archivo entregado.\n",
    "    2. Crea la columna \"IMC\" usando la fórmula entregada.\n",
    "    3. Crea la columna \"promedio_evaluaciones\" con el promedio de las 4 columnas de evaluaciones. Si el IMC está entre 18.5 y 24.9, entonces el candidato tendrá un IMC adecuado para ser astronauta. Filtra el DataFrame para obtener solo aquellas filas donde el IMC esté dentro de los límites entregados.\n",
    "    4. El promedio de las 4 evaluaciones debe ser mayor o igual a 87. Filtra el DataFrame resultante y agrega esta condición al filtro aplicado en el paso anterior.\n",
    "    5. Reinicia el índice del DataFrame resultante.\n",
    "    6. Modifica el valor de la columna \"califica\", para que diga \"Si\" en todas las filas del DataFrame resultante.\n",
    "    7. Exporta el DataFrame resultante a un archivo .csv separado por comas con el nombre \"astronautas_calificados.csv\"."
   ]
  },
  {
   "cell_type": "markdown",
   "id": "dfc971bb",
   "metadata": {},
   "source": [
    "### Ejercicio 2: \n"
   ]
  },
  {
   "cell_type": "code",
   "execution_count": 7,
   "id": "1e3283fd",
   "metadata": {},
   "outputs": [
    {
     "ename": "ModuleNotFoundError",
     "evalue": "No module named 'pandas'",
     "output_type": "error",
     "traceback": [
      "\u001b[31m---------------------------------------------------------------------------\u001b[39m",
      "\u001b[31mModuleNotFoundError\u001b[39m                       Traceback (most recent call last)",
      "\u001b[36mCell\u001b[39m\u001b[36m \u001b[39m\u001b[32mIn[7]\u001b[39m\u001b[32m, line 5\u001b[39m\n\u001b[32m      1\u001b[39m \u001b[38;5;66;03m#El IMC es una medida importante que nos ayuda a determinar si una persona tiene un peso saludable para poder ser un astronauta. Para calcularlo se utiliza la\u001b[39;00m\n\u001b[32m      2\u001b[39m \u001b[38;5;66;03m#fórmula  IMC = m / h*h \u001b[39;00m\n\u001b[32m      3\u001b[39m \u001b[38;5;66;03m#Donde m corresponde al peso del astronauta en kilogramos, y h su estatura en metros \u001b[39;00m\n\u001b[32m----> \u001b[39m\u001b[32m5\u001b[39m \u001b[38;5;28;01mimport\u001b[39;00m\u001b[38;5;250m \u001b[39m\u001b[34;01mpandas\u001b[39;00m\u001b[38;5;250m \u001b[39m\u001b[38;5;28;01mas\u001b[39;00m\u001b[38;5;250m \u001b[39m\u001b[34;01mpd\u001b[39;00m\n\u001b[32m      7\u001b[39m \u001b[38;5;66;03m#1. Crea un DataFrame con el archivo entregado.\u001b[39;00m\n\u001b[32m      8\u001b[39m df = pd.read_csv(\u001b[33m\"\u001b[39m\u001b[33mresumen_resultados_astronautas.csv\u001b[39m\u001b[33m\"\u001b[39m)\n",
      "\u001b[31mModuleNotFoundError\u001b[39m: No module named 'pandas'"
     ]
    }
   ],
   "source": [
    "#El IMC es una medida importante que nos ayuda a determinar si una persona tiene un peso saludable para poder ser un astronauta. Para calcularlo se utiliza la\n",
    "#fórmula  IMC = m / h*h \n",
    "#Donde m corresponde al peso del astronauta en kilogramos, y h su estatura en metros \n",
    "\n",
    "import pandas as pd\n",
    "\n",
    "#1. Crea un DataFrame con el archivo entregado.\n",
    "df = pd.read_csv(\"resumen_resultados_astronautas.csv\")\n",
    "    \n",
    "#2. Crea la columna \"IMC\" usando la fórmula entregada\n",
    "df[\"IMC\"] = df[\"peso\"] / (df[\"altura\"] / 100) ** 2\n",
    "\n",
    "#3. Crea la columna \"promedio_evaluaciones\" con el promedio de las 4 columnas de evaluaciones. Si el IMC está entre 18.5 y 24.9, entonces el candidato tendrá un IMC adecuado para ser astronauta. Filtra el DataFrame para obtener solo aquellas filas donde el IMC esté dentro de los límites entregados.\n",
    "df[\"promedio_evaluaciones\"] = df[[\"evaluacion_fisica\", \"evaluacion_psicologica\", \"evaluacion_adaptativa\", \"evaluacion_medica\"]].mean(axis=1)\n",
    "df = df[(df[\"IMC\"] >= 18.5) & (df[\"IMC\"] <= 24.9)]\n",
    "\n",
    "#4. El promedio de las 4 evaluaciones debe ser mayor o igual a 87. Filtra el DataFrame resultante y agrega esta condición al filtro aplicado en el paso anterior.\n",
    "df = df[df[\"promedio_evaluaciones\"] >= 87]\n",
    "\n",
    "#5. Reinicia el índice del DataFrame resultante.\n",
    "df.reset_index(drop=True, inplace=True)\n",
    "\n",
    "#6. Modifica el valor de la columna \"califica\", para que diga \"Si\" en todas las filas del DataFrame resultante.\n",
    "df[\"califica\"] = \"Si\"\n",
    "\n",
    "#7. Exporta el DataFrame resultante a un archivo .csv separado por comas con el nombre \"astronautas_calificados.csv\".\n",
    "df.to_csv(\"astronautas_calificados.csv\", index=False)\n"
   ]
  }
 ],
 "metadata": {
  "kernelspec": {
   "display_name": "Python 3",
   "language": "python",
   "name": "python3"
  },
  "language_info": {
   "codemirror_mode": {
    "name": "ipython",
    "version": 3
   },
   "file_extension": ".py",
   "mimetype": "text/x-python",
   "name": "python",
   "nbconvert_exporter": "python",
   "pygments_lexer": "ipython3",
   "version": "3.14.0"
  }
 },
 "nbformat": 4,
 "nbformat_minor": 5
}
