{
 "cells": [
  {
   "cell_type": "markdown",
   "id": "26cc96be",
   "metadata": {},
   "source": [
    "# Desafio Manipulacion y transformacion de datos (Parte II)\n",
    "## Daniel Rojas Lopez"
   ]
  },
  {
   "cell_type": "markdown",
   "id": "d24dc6e5",
   "metadata": {},
   "source": [
    "### Ejercicio 1:\n",
    "\n",
    "1. Carga los datos de cada pestaña del archivo US_Regional_Sales_Data.xlsx en un DataFrame independiente. (hint: Puedes obtener los nombres de las hojas usando pd.ExcelFile(archivo)(sheet_names)\n",
    "\n",
    "2. Cruza todos los DataFrames usando validación many_to_one, y guarda el resultado en una nueva variable llamada df_base.\n",
    "\n",
    "3. Agrega las siguientes columnas a df_ base\n",
    "\n",
    "4. Agrega una nueva columna discreta al df_base, con el nombre CustomerDaysInterval que clasifique los valores de la columna CustomerDays en los siguientes intervalos:\n",
    "    ○ 0 to 15 days\n",
    "    ○ 15 to 30 days\n",
    "    ○ 30 to 45 days\n",
    "    ○ 45 to 60 days\n",
    "    ○ 60 to 75 days\n",
    "    ○ 75 to 90 days\n",
    "\n",
    "hint: Utiliza pd.cut con estas etiquetas de Intervalo. Puedes utilizar la propiedad `.dt.days` para convertir la columna CustomerDays a valores numéricos. La propiedad `.dt.days` te permite obtener directamente la representación numérica de la diferencia en días a partir de un objeto DateInterval.\n",
    "\n",
    "5. Utiliza una tabla pivote para mostrar el conteo de órdenes agrupando por Sales Team en las filas y CustomerDaysInterval en las columnas. Este reporte debe cuadrar con los datos de la pestaña Reporte1 del archivo reportes.xlsx\n",
    "\n",
    "6. Agrega la siguiente columna calculada a la base: KPI Cálculo\n",
    "GrossMargin OrderQuantity*(UnitPrice*(1-Discount Applied)-UnitCost)\n",
    "Visión de Negocio: El margen bruto es un indicador financiero que muestra la diferencia entre los ingresos generados por la venta de un producto o servicio y los costos directos asociados con su producción o adquisición.\n",
    "\n",
    "7. En esta parte debes aplicar un porcentaje a la columna GrossMargin, pero ese porcentaje dependerá del intervalo en que se encuentre GrossMargin.\n",
    "KPI Cálculo CommissionsPercentage % de comisión según la tabla de comisiones hint: Utiliza pd.cut con labels numéricas para que la columna resultante sea de tipo float.\n",
    "\n",
    "\n"
   ]
  },
  {
   "cell_type": "code",
   "execution_count": null,
   "id": "27329cdd",
   "metadata": {},
   "outputs": [],
   "source": [
    "import pandas as pd\n",
    "\n",
    "\n",
    "\n",
    "#1. Carga los datos de cada pestaña del archivo US_Regional_Sales_Data.xlsx en un DataFrame independiente. (hint: Puedes obtener los nombres de las hojas usando pd.ExcelFile(archivo)(sheet_names)\n",
    "columnas =  pd.ExcelFile(\"US_Regional_Sales_Data.xlsx\").sheet_names\n",
    "print(columnas)\n",
    "\n",
    "\n",
    "\n",
    "#2. Cruza todos los DataFrames usando validación many_to_one, y guarda el resultado en una nueva variable llamada df_base.\n",
    "df_base = pd.merge(df_base, df_base, on=\"OrderID\", how=\"many_to_one\")\n",
    "\n",
    "#3. Agrega las siguientes columnas a df_ base\n",
    "df_base = pd.concat([df_base, df_base], axis=1)\n",
    "\n",
    "#4. Agrega una nueva columna discreta al df_base, con el nombre CustomerDaysInterval que clasifique los valores de la columna CustomerDays en los siguientes intervalos:\n",
    " #   ○ 0 to 15 days\n",
    "  #  ○ 15 to 30 days\n",
    "   # ○ 30 to 45 days\n",
    "    #○ 45 to 60 days\n",
    "    #○ 60 to 75 days\n",
    "    #○ 75 to 90 days\n",
    "\n",
    "#hint: Utiliza pd.cut con estas etiquetas de Intervalo. Puedes utilizar la propiedad `.dt.days` para convertir la columna CustomerDays a valores numéricos. La propiedad `.dt.days` te permite obtener directamente la representación numérica de la diferencia en días a partir de un objeto DateInterval.\n",
    "\n",
    "#5. Utiliza una tabla pivote para mostrar el conteo de órdenes agrupando por Sales Team en las filas y CustomerDaysInterval en las columnas. Este reporte debe cuadrar con los datos de la pestaña Reporte1 del archivo reportes.xlsx\n",
    "\n",
    "#6. Agrega la siguiente columna calculada a la base: KPI Cálculo \n",
    "# GrossMargin OrderQuantity*(UnitPrice*(1-Discount Applied)-UnitCost)\n",
    "# Visión de Negocio: El margen bruto es un indicador financiero que muestra la diferencia entre los ingresos generados por la venta de un producto o servicio y los costos directos asociados con su producción o adquisición.\n",
    "\n",
    "#7. En esta parte debes aplicar un porcentaje a la columna GrossMargin, pero ese porcentaje dependerá del intervalo en que se encuentre GrossMargin.  \n",
    "# KPI Cálculo CommissionsPercentage % de comisión según la tabla de comisiones hint: Utiliza pd.cut con labels numéricas para que la columna resultante sea de tipo float.\n",
    "\n"
   ]
  },
  {
   "cell_type": "markdown",
   "id": "dfc971bb",
   "metadata": {},
   "source": [
    "### Ejercicio 2: \n",
    "Para continuar con el desarrollo de este desafío, necesitarás el archivos\n",
    "Cleaned_DS_Jobs.csv\n",
    "a. Carga los datos y crea un DataFrame con ellos.\n",
    "b. Utiliza la siguiente lista de valores que serán considerados como nulos:\n",
    "[\"na\", \"NA\", -1, \"0\", \"-1\", \"null\", \"n/a\", \"N/A\", \"NULL\"]\n",
    "(hint: utiliza el método replace para reemplazar los valores indicados por np.nan)\n",
    "c. Elimina todas las filas con datos faltantes. (hint: utiliza el método .dropna())\n",
    "d. A partir de la columna “Salary Estimate”, genera dos columnas: Salario Estimado Mínimo\n",
    "y Máximo. (hint: Utiliza el método apply sobre la columna.)\n",
    "e. Realiza la recodificación de la columna Size con los valores de la siguiente tabla: (hint:\n",
    "utilice reemplazo con diccionario usando el método replace sobre la columna.)"
   ]
  },
  {
   "cell_type": "code",
   "execution_count": 17,
   "id": "b5682dad",
   "metadata": {},
   "outputs": [],
   "source": [
    "import pandas as pd\n",
    "import numpy as np\n",
    "\n",
    "# a. Carga los datos y crea un DataFrame con ellos.\n",
    "df = pd.read_csv(\"Cleaned_DS_Jobs.csv\")\n",
    "\n",
    "# b. Utiliza la siguiente lista de valores que serán considerados como nulos: [\"na\", \"NA\", -1, \"0\", \"-1\", \"null\", \"n/a\", \"N/A\", \"NULL\"] (hint: utiliza el método replace para reemplazar los valores indicados por np.nan)\n",
    "df.replace([\"na\", \"NA\", -1, \"0\", \"-1\", \"null\", \"n/a\", \"N/A\", \"NULL\"], np.nan, inplace=True)\n",
    "\n",
    "# c. Elimina todas las filas con datos faltantes. (hint: utiliza el método .dropna())\n",
    "df.dropna(inplace=True)\n",
    "\n",
    "# d. A partir de la columna “Salary Estimate”, genera dos columnas: Salario Estimado Mínimo y Máximo. (hint: Utiliza el método apply sobre la columna.)\n",
    "df[\"min_salary\"] = df[\"Salary Estimate\"].apply(lambda x: int(x.split(\"-\")[0].replace(\"$\", \"\").replace(\",\", \"\")))\n",
    "df[\"max_salary\"] = df[\"Salary Estimate\"].apply(lambda x: int(x.split(\"-\")[1].replace(\"$\", \"\").replace(\",\", \"\")))\n",
    "\n",
    "# e. Realiza la recodificación de la columna Size con los valores de la siguiente tabla: (hint:utilice reemplazo con diccionario usando el método replace sobre la columna.)\n",
    "df[\"Size\"] = df[\"Size\"].replace({\"10000+\": \"Large\", \"5000-9999\": \"Medium\", \"1000-4999\": \"Medium\", \"100-999\": \"Small\", \"10-99\": \"Small\", \"0-9\": \"Small\"})\n",
    "df.to_csv('df.csv', index=True)\n"
   ]
  }
 ],
 "metadata": {
  "kernelspec": {
   "display_name": "Python 3",
   "language": "python",
   "name": "python3"
  },
  "language_info": {
   "codemirror_mode": {
    "name": "ipython",
    "version": 3
   },
   "file_extension": ".py",
   "mimetype": "text/x-python",
   "name": "python",
   "nbconvert_exporter": "python",
   "pygments_lexer": "ipython3",
   "version": "3.14.0"
  }
 },
 "nbformat": 4,
 "nbformat_minor": 5
}
