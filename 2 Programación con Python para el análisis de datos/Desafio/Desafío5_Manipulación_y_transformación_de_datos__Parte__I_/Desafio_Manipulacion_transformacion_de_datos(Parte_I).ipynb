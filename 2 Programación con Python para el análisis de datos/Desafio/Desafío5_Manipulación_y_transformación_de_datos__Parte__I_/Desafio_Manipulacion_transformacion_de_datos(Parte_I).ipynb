{
 "cells": [
  {
   "cell_type": "markdown",
   "id": "26cc96be",
   "metadata": {},
   "source": [
    "# Desafio Manipulacion y transformacion de datos (Parte I)\n",
    "## Daniel Rojas Lopez"
   ]
  },
  {
   "cell_type": "markdown",
   "id": "d24dc6e5",
   "metadata": {},
   "source": [
    "### Ejercicio 1:\n",
    "\n",
    "Para desarrollar este desafío necesitarás los siguientes archivos:\n",
    "- incidents.pkl\n",
    "- officers.pkl\n",
    "- subjects.pkl\n",
    "\n",
    "a. Carga los datos y crea un DataFrame con cada uno de ellos.\n",
    "\n",
    "b. Genera una tabla que contenga la unión de las 3 tablas. hint: utiliza sufijos para para las columnas que se llaman igual usando el parámetro suffixes de pd.merge().\n",
    "\n",
    "c. Verifica si hay filas duplicadas; si es así, elimínalas.\n",
    "\n",
    "d. ¿Cuántos sujetos de género F hay en el DataFrame resultante? hint: usa el método .value_counts() sobre la columna.\n",
    "\n",
    "e. ¿En cuántos números de caso hay por lo menos una sospechosa que sea mujer? hint: utiliza el método unique() para obtener los valores únicos de una columna específica de un DataFrame luego de filtrar.\n",
    "\n",
    "f. Genera una tabla pivote que muestre en las filas el género del oficial y en las columnas el género del subject. ¿Cómo interpretas los valores que muestra esta vista?\n"
   ]
  },
  {
   "cell_type": "code",
   "execution_count": null,
   "id": "27329cdd",
   "metadata": {},
   "outputs": [],
   "source": [
    "import pandas as pd\n",
    "import pickle as pkl    \n",
    "#a.Carga los datos y crea un DataFrame con cada uno de ellos.\n",
    "\n",
    "pkloadIncidents=pkl.load(open('incidents.pkl', 'rb'))\n",
    "pkloadOfficers=pkl.load(open('officers.pkl', 'rb'))\n",
    "pkloadSubjects=pkl.load(open('subjects.pkl', 'rb'))\n",
    "\n",
    "#convertir los pkl a dataframe\n",
    "\n",
    "dfIncidents=pd.DataFrame(pkloadIncidents)\n",
    "dfOfficers=pd.DataFrame(pkloadOfficers)\n",
    "dfSubjects=pd.DataFrame(pkloadSubjects)\n",
    "\n",
    "#dfIncidents.to_csv('dfIncidents.csv', index=True)\n",
    "#dfOfficers.to_csv('dfOfficers.csv', index=True)\n",
    "#dfSubjects.to_csv('dfSubjects.csv', index=True)\n",
    "\n",
    "\n",
    "print(\"\\n\")\n",
    "\n",
    "#b. Genera una tabla que contenga la unión de las 3 tablas. hint: utiliza sufijos para para las columnas que se llaman igual usando el parámetro suffixes de pd.merge().\n",
    "dfMerge = pd.merge(dfIncidents, dfOfficers, on='case_number', suffixes=('_incidents', '_officers'))\n",
    "print(\"dfMerge Creado \"+\"\\n\")\n",
    "\n",
    "#c. Verifica si hay filas duplicadas; si es así, elimínalas.\n",
    "dfMerge.drop_duplicates()\n",
    "print(\"dfMerge sin duplicados \"+\"\\n\")\n",
    "\n",
    "#Copiar en archivo csv para visualizar\n",
    "dfMerge.to_csv('dfMerge.csv', index=True)\n",
    "\n",
    "#d. ¿Cuántos sujetos de género F hay en el DataFrame resultante? hint: usa el método .value_counts() sobre la columna.\n",
    "\n",
    "valorCantidad=dfMerge['gender'].value_counts()\n",
    "print(\"valorCantidad: \"+\"\\n\"+ str(valorCantidad))\n",
    "print(\"\\n\")\n",
    "\n",
    "#e. ¿En cuántos números de caso hay por lo menos una sospechosa que sea mujer? hint: utiliza el método unique() para obtener los valores únicos de una columna específica de un DataFrame luego de filtrar.\n",
    "#valorCantidad=dfMerge['gender'].unique()\n",
    "#print(\"valorCantidad: \"+\"\\n\"+ str(valorCantidad))\n",
    "#print(\"\\n\")\n",
    "\n",
    "#f. Genera una tabla pivote que muestre en las filas el género del oficial y en las columnas el género del subject. ¿Cómo interpretas los valores que muestra esta vista?\n",
    "\n",
    "dfPivot = pd.pivot_table(dfMerge, values='case_number', index='gender_officers', columns='gender_subjects', aggfunc='count')\n",
    "dfPivot.to_csv('dfPivot.csv', index=True)\n"
   ]
  },
  {
   "cell_type": "markdown",
   "id": "dfc971bb",
   "metadata": {},
   "source": [
    "### Ejercicio 2: \n",
    "Para continuar con el desarrollo de este desafío, necesitarás el archivos\n",
    "Cleaned_DS_Jobs.csv\n",
    "a. Carga los datos y crea un DataFrame con ellos.\n",
    "b. Utiliza la siguiente lista de valores que serán considerados como nulos:\n",
    "[\"na\", \"NA\", -1, \"0\", \"-1\", \"null\", \"n/a\", \"N/A\", \"NULL\"]\n",
    "(hint: utiliza el método replace para reemplazar los valores indicados por np.nan)\n",
    "c. Elimina todas las filas con datos faltantes. (hint: utiliza el método .dropna())\n",
    "d. A partir de la columna “Salary Estimate”, genera dos columnas: Salario Estimado Mínimo\n",
    "y Máximo. (hint: Utiliza el método apply sobre la columna.)\n",
    "e. Realiza la recodificación de la columna Size con los valores de la siguiente tabla: (hint:\n",
    "utilice reemplazo con diccionario usando el método replace sobre la columna.)"
   ]
  },
  {
   "cell_type": "code",
   "execution_count": 17,
   "id": "b5682dad",
   "metadata": {},
   "outputs": [],
   "source": [
    "import pandas as pd\n",
    "import numpy as np\n",
    "\n",
    "# a. Carga los datos y crea un DataFrame con ellos.\n",
    "df = pd.read_csv(\"Cleaned_DS_Jobs.csv\")\n",
    "\n",
    "# b. Utiliza la siguiente lista de valores que serán considerados como nulos: [\"na\", \"NA\", -1, \"0\", \"-1\", \"null\", \"n/a\", \"N/A\", \"NULL\"] (hint: utiliza el método replace para reemplazar los valores indicados por np.nan)\n",
    "df.replace([\"na\", \"NA\", -1, \"0\", \"-1\", \"null\", \"n/a\", \"N/A\", \"NULL\"], np.nan, inplace=True)\n",
    "\n",
    "# c. Elimina todas las filas con datos faltantes. (hint: utiliza el método .dropna())\n",
    "df.dropna(inplace=True)\n",
    "\n",
    "# d. A partir de la columna “Salary Estimate”, genera dos columnas: Salario Estimado Mínimo y Máximo. (hint: Utiliza el método apply sobre la columna.)\n",
    "df[\"min_salary\"] = df[\"Salary Estimate\"].apply(lambda x: int(x.split(\"-\")[0].replace(\"$\", \"\").replace(\",\", \"\")))\n",
    "df[\"max_salary\"] = df[\"Salary Estimate\"].apply(lambda x: int(x.split(\"-\")[1].replace(\"$\", \"\").replace(\",\", \"\")))\n",
    "\n",
    "# e. Realiza la recodificación de la columna Size con los valores de la siguiente tabla: (hint:utilice reemplazo con diccionario usando el método replace sobre la columna.)\n",
    "df[\"Size\"] = df[\"Size\"].replace({\"10000+\": \"Large\", \"5000-9999\": \"Medium\", \"1000-4999\": \"Medium\", \"100-999\": \"Small\", \"10-99\": \"Small\", \"0-9\": \"Small\"})\n",
    "df.to_csv('df.csv', index=True)\n"
   ]
  }
 ],
 "metadata": {
  "kernelspec": {
   "display_name": "Python 3",
   "language": "python",
   "name": "python3"
  },
  "language_info": {
   "codemirror_mode": {
    "name": "ipython",
    "version": 3
   },
   "file_extension": ".py",
   "mimetype": "text/x-python",
   "name": "python",
   "nbconvert_exporter": "python",
   "pygments_lexer": "ipython3",
   "version": "3.13.7"
  }
 },
 "nbformat": 4,
 "nbformat_minor": 5
}
