{
 "cells": [
  {
   "cell_type": "markdown",
   "id": "26cc96be",
   "metadata": {},
   "source": [
    "# Desafio Conociendo Python\n",
    "Daniel Rojas Lopez"
   ]
  },
  {
   "cell_type": "markdown",
   "id": "cfec050e",
   "metadata": {},
   "source": [
    "## Calculando el salario semanal\n",
    "Un vendedor gana un salario base de $500 más una comisión del 10% sobre sus\n",
    "ventas totales. Escribe un programa donde se pueda ingresar el monto de las ventas\n",
    "totales del vendedor y calcule su salario total"
   ]
  },
  {
   "cell_type": "code",
   "execution_count": null,
   "id": "285afc74",
   "metadata": {},
   "outputs": [
    {
     "name": "stdout",
     "output_type": "stream",
     "text": [
      "El salario total es:  644.4\n"
     ]
    }
   ],
   "source": [
    "salario = 500\n",
    "ventasTotales =int(input(\"Ingrese el total de ventas: \"))\n",
    "comision = (ventasTotales*0.1)#Se calcula la comision\n",
    "print(\"El salario total es: \", salario + comision)\n"
   ]
  },
  {
   "cell_type": "markdown",
   "id": "ef8d3394",
   "metadata": {},
   "source": [
    "## Bienvenido a la frutería virtual\n",
    "En este ejercicio, vamos a crear un diccionario vacío llamado catalogo_frutas {'fruta':\n",
    "precio} y agregar algunas frutas con sus precios. Luego, le pediremos al usuario que\n",
    "ingrese el nombre de una fruta y verificaremos si esa fruta está en el diccionario. Si\n",
    "la fruta está en el diccionario, mostraremos el precio al usuario. Si la fruta no está en\n",
    "el diccionario, le diremos al usuario que no se encuentra esa fruta en nuestra tienda"
   ]
  },
  {
   "cell_type": "code",
   "execution_count": 20,
   "id": "ef713f7e",
   "metadata": {},
   "outputs": [
    {
     "name": "stdout",
     "output_type": "stream",
     "text": [
      "La fruta 8 no se encuentra en el catalogo\n"
     ]
    }
   ],
   "source": [
    "catalogo_frutas = {'Piña': '2500', 'Mango': '3000', 'Manzana': '2000', 'Platano': '1500'}\n",
    "frutaBusqueda = input(\"Ingrese el nombre de la fruta: \")\n",
    "if frutaBusqueda in catalogo_frutas:\n",
    "    print(\"El precio de la fruta es: \", catalogo_frutas[frutaBusqueda])#Se busca la fruta en el catalogo y se muestra el precio\n",
    "else:\n",
    "    print(\"La fruta \"+frutaBusqueda+\" no se encuentra en el catalogo\")\n"
   ]
  },
  {
   "cell_type": "markdown",
   "id": "c7fb6a27",
   "metadata": {},
   "source": [
    "## Bienvenido al casino\n",
    "En este juego, tienes que lanzar dos dados y el programa mostrará los valores\n",
    "obtenidos en cada dado y la suma de ambos valores. Debes generar dos números\n",
    "aleatorios entre 1 y 6 que representan los valores obtenidos en cada dado usando la\n",
    "librería random. Luego, el programa debe mostrar los valores obtenidos en cada\n",
    "dado y la suma de ambos valores en la pantalla"
   ]
  },
  {
   "cell_type": "code",
   "execution_count": null,
   "id": "00011a0f",
   "metadata": {},
   "outputs": [
    {
     "name": "stdout",
     "output_type": "stream",
     "text": [
      "El valor del dado 1 es:  2\n",
      "El valor del dado 2 es:  6\n",
      "La suma de los dados es:  8\n"
     ]
    }
   ],
   "source": [
    "import random #Importa la libreria random\n",
    "\n",
    "dado1 = random.randint(1,6)#Genera un numero aleatorio entre 1 y 6\n",
    "dado2 = random.randint(1,6)#Genera un numero aleatorio entre 1 y 6\n",
    "\n",
    "print(\"El valor del dado 1 es: \", dado1)\n",
    "print(\"El valor del dado 2 es: \", dado2)\n",
    "print(\"La suma de los dados es: \", dado1 + dado2)"
   ]
  },
  {
   "cell_type": "markdown",
   "id": "2e5c84d6",
   "metadata": {},
   "source": [
    "## Calculadora de chocolate\n",
    "Crea un programa que calcule la cantidad de chocolate que puedes comer sin\n",
    "pasarte de tu límite diario de calorías. El programa debe preguntar al usuario su\n",
    "límite diario de calorías y la cantidad de calorías que tiene una porción de chocolate.\n",
    "Luego, debe calcular la cantidad máxima de chocolate que se puede comer sin\n",
    "exceder el límite diario de calorías y mostrarla en pantalla"
   ]
  },
  {
   "cell_type": "code",
   "execution_count": 2,
   "id": "ab368045",
   "metadata": {},
   "outputs": [
    {
     "name": "stdout",
     "output_type": "stream",
     "text": [
      "La cantidad maxima de chocolate que se puede comer sin exceder el limite diario de calorías es:  1\n"
     ]
    }
   ],
   "source": [
    "limite_diario = int(input(\"Ingrese su limite diario de calorías: \"))\n",
    "porcion_chocolate = int(input(\"Ingrese la cantidad de calorías de una porcion de chocolate: \"))\n",
    "max_chocolate = limite_diario // porcion_chocolate #Se calcula la cantidad maxima de chocolate que se puede comer sin exceder el limite diario de calorías\n",
    "print(\"La cantidad maxima de chocolate que se puede comer sin exceder el limite diario de calorías es: \", max_chocolate)\n"
   ]
  }
 ],
 "metadata": {
  "kernelspec": {
   "display_name": "Python 3",
   "language": "python",
   "name": "python3"
  },
  "language_info": {
   "codemirror_mode": {
    "name": "ipython",
    "version": 3
   },
   "file_extension": ".py",
   "mimetype": "text/x-python",
   "name": "python",
   "nbconvert_exporter": "python",
   "pygments_lexer": "ipython3",
   "version": "3.13.7"
  }
 },
 "nbformat": 4,
 "nbformat_minor": 5
}
